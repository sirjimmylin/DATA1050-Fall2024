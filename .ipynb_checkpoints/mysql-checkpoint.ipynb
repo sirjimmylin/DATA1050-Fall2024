{
 "cells": [
  {
   "cell_type": "code",
   "execution_count": 1,
   "id": "67afa701",
   "metadata": {},
   "outputs": [
    {
     "name": "stdout",
     "output_type": "stream",
     "text": [
      "Requirement already satisfied: mysql-connector-python in /opt/anaconda3/lib/python3.12/site-packages (9.0.0)\n",
      "Note: you may need to restart the kernel to use updated packages.\n"
     ]
    }
   ],
   "source": [
    "pip install mysql-connector-python # type: ignore"
   ]
  },
  {
   "cell_type": "code",
   "execution_count": 2,
   "id": "587fd263",
   "metadata": {},
   "outputs": [
    {
     "name": "stdout",
     "output_type": "stream",
     "text": [
      "<mysql.connector.connection_cext.CMySQLConnection object at 0x104b68b30>\n",
      "CONNECTION SUCCESSFUL\n"
     ]
    }
   ],
   "source": [
    "import mysql.connector # type: ignore\n",
    " \n",
    "mydb = mysql.connector.connect(\n",
    "  host=\"localhost\",\n",
    "  user=\"root\",\n",
    "  password= \"7@u*sqJX\"   #REPLACE THIS WITH THE PASSWORD YOU SET\n",
    ")\n",
    " \n",
    "print(mydb)\n",
    " \n",
    "if mydb.is_connected():\n",
    "    print(\"CONNECTION SUCCESSFUL\")\n"
   ]
  },
  {
   "cell_type": "code",
   "execution_count": 19,
   "id": "5972ab2e",
   "metadata": {},
   "outputs": [],
   "source": [
    "#create a database\n",
    "mycursor = mydb.cursor()\n",
    "\n",
    "#mycursor.execute(\"CREATE DATABASE data1050f24\")"
   ]
  },
  {
   "cell_type": "code",
   "execution_count": 20,
   "id": "4dfe751f",
   "metadata": {},
   "outputs": [
    {
     "name": "stdout",
     "output_type": "stream",
     "text": [
      "('data1050f24',)\n",
      "('information_schema',)\n",
      "('mysql',)\n",
      "('performance_schema',)\n",
      "('sys',)\n"
     ]
    }
   ],
   "source": [
    "mycursor = mydb.cursor()\n",
    "mycursor.execute(\"SHOW DATABASES\")\n",
    "\n",
    "for x in mycursor:\n",
    "  print(x)"
   ]
  },
  {
   "cell_type": "code",
   "execution_count": 41,
   "id": "3096b98c",
   "metadata": {},
   "outputs": [],
   "source": [
    "#create a table\n",
    "mycursor = mydb.cursor()\n",
    "#mycursor.execute(\"CREATE TABLE data1050F24.department (dept_name VARCHAR(128) PRIMARY KEY, building VARCHAR(255), budget INT)\")"
   ]
  },
  {
   "cell_type": "code",
   "execution_count": 45,
   "id": "81dc980e",
   "metadata": {},
   "outputs": [],
   "source": [
    "mycursor = mydb.cursor()\n",
    "#mycursor.execute(\"CREATE TABLE data1050F24.student (ID VARCHAR(128) PRIMARY KEY, name VARCHAR(255), dept_name VARCHAR(128), tot_cred DECIMAL(3,2))\")"
   ]
  },
  {
   "cell_type": "code",
   "execution_count": 47,
   "id": "c998ddfa",
   "metadata": {},
   "outputs": [],
   "source": [
    "mycursor = mydb.cursor()\n",
    "#mycursor.execute(\"CREATE TABLE data1050F24.instructor (ID VARCHAR(128) PRIMARY KEY, name VARCHAR(255), dept_name VARCHAR(128), salary INT)\")"
   ]
  },
  {
   "cell_type": "code",
   "execution_count": 49,
   "id": "f9d2146e",
   "metadata": {},
   "outputs": [],
   "source": [
    "query = ('ALTER TABLE data1050F24.student ADD foreign key(dept_name) references data1050F24.department(dept_name)')\n",
    "mycursor.execute(query)"
   ]
  },
  {
   "cell_type": "code",
   "execution_count": 51,
   "id": "3d86c8fc",
   "metadata": {},
   "outputs": [],
   "source": [
    "query = ('ALTER TABLE data1050F24.instructor ADD foreign key(dept_name) references data1050F24.department(dept_name)')\n",
    "mycursor.execute(query)"
   ]
  },
  {
   "cell_type": "code",
   "execution_count": 53,
   "id": "94fa9cd7",
   "metadata": {},
   "outputs": [],
   "source": [
    "#connect to a specific database\n",
    "mydb = mysql.connector.connect(\n",
    "  host=\"localhost\",\n",
    "  user=\"root\",\n",
    "  password= \"7@u*sqJX\", #REPLACE THIS WITH YOUR PASSWORD \n",
    "  database = \"data1050f24\" #connecting to testDatabase\n",
    ")"
   ]
  },
  {
   "cell_type": "code",
   "execution_count": 55,
   "id": "102afc4c",
   "metadata": {},
   "outputs": [
    {
     "name": "stdout",
     "output_type": "stream",
     "text": [
      "('department',)\n",
      "('instructor',)\n",
      "('student',)\n"
     ]
    }
   ],
   "source": [
    "mycursor = mydb.cursor()\n",
    "\n",
    "mycursor.execute(\"SHOW TABLES\")\n",
    "\n",
    "for x in mycursor:\n",
    "  print(x)"
   ]
  },
  {
   "cell_type": "code",
   "execution_count": 57,
   "id": "a4598d05",
   "metadata": {},
   "outputs": [],
   "source": [
    "import pandas as pd # type: ignore"
   ]
  },
  {
   "cell_type": "code",
   "execution_count": 59,
   "id": "5dc4631a",
   "metadata": {},
   "outputs": [
    {
     "name": "stdout",
     "output_type": "stream",
     "text": [
      "Requirement already satisfied: fsspec in /opt/anaconda3/lib/python3.12/site-packages (2024.3.1)\n",
      "Note: you may need to restart the kernel to use updated packages.\n"
     ]
    }
   ],
   "source": [
    "pip install fsspec # type: ignore"
   ]
  },
  {
   "cell_type": "code",
   "execution_count": 60,
   "id": "c4c44554",
   "metadata": {},
   "outputs": [],
   "source": [
    "#point the path to where in your hard drive you have stored the file department.csv\n",
    "data = pd.read_csv(\"department.csv\")"
   ]
  },
  {
   "cell_type": "code",
   "execution_count": 65,
   "id": "c962e894",
   "metadata": {},
   "outputs": [
    {
     "name": "stdout",
     "output_type": "stream",
     "text": [
      "Record inserted\n",
      "Record inserted\n",
      "Record inserted\n",
      "Record inserted\n",
      "Record inserted\n",
      "Record inserted\n",
      "Record inserted\n",
      "Record inserted\n",
      "Record inserted\n"
     ]
    }
   ],
   "source": [
    "for i,row in data.iterrows():\n",
    "            sql = \"INSERT INTO department VALUES (%s,%s,%s)\"\n",
    "            #mycursor.execute(sql, tuple(row))\n",
    "            print(\"Record inserted\")\n",
    "            # the connection is not autocommitted by default, so we \n",
    "            # must commit to save our changes\n",
    "            mydb.commit()"
   ]
  },
  {
   "cell_type": "code",
   "execution_count": 67,
   "id": "c69066fc",
   "metadata": {},
   "outputs": [],
   "source": [
    "query = \"SELECT * from department\"\n",
    "mycursor.execute(query)"
   ]
  },
  {
   "cell_type": "code",
   "execution_count": 69,
   "id": "790c9712",
   "metadata": {},
   "outputs": [
    {
     "name": "stdout",
     "output_type": "stream",
     "text": [
      "('AppMath', 'Pembroke', 1000525)\n",
      "('CompSci', 'CIT', 4000000)\n",
      "('DSI', 'Angell', 750000)\n",
      "('Econ', 'Watson', 1230000)\n",
      "('English', 'Litereria', 1389400)\n",
      "('Math', 'Pembroke', 999785)\n",
      "('Philosophy', 'Athenia', 300000)\n",
      "('Psychology', 'Skinner', 1223350)\n",
      "('Sociology', 'Watson', 789000)\n"
     ]
    }
   ],
   "source": [
    "for x in mycursor:\n",
    "    print(x)"
   ]
  },
  {
   "cell_type": "code",
   "execution_count": 71,
   "id": "99b95761",
   "metadata": {},
   "outputs": [
    {
     "data": {
      "text/html": [
       "<div>\n",
       "<style scoped>\n",
       "    .dataframe tbody tr th:only-of-type {\n",
       "        vertical-align: middle;\n",
       "    }\n",
       "\n",
       "    .dataframe tbody tr th {\n",
       "        vertical-align: top;\n",
       "    }\n",
       "\n",
       "    .dataframe thead th {\n",
       "        text-align: right;\n",
       "    }\n",
       "</style>\n",
       "<table border=\"1\" class=\"dataframe\">\n",
       "  <thead>\n",
       "    <tr style=\"text-align: right;\">\n",
       "      <th></th>\n",
       "      <th>ID</th>\n",
       "      <th>name</th>\n",
       "      <th>dept_name</th>\n",
       "      <th>tot_cred</th>\n",
       "    </tr>\n",
       "  </thead>\n",
       "  <tbody>\n",
       "    <tr>\n",
       "      <th>0</th>\n",
       "      <td>1238</td>\n",
       "      <td>John Smith</td>\n",
       "      <td>DSI</td>\n",
       "      <td>4</td>\n",
       "    </tr>\n",
       "    <tr>\n",
       "      <th>1</th>\n",
       "      <td>1645</td>\n",
       "      <td>Jane Doe</td>\n",
       "      <td>Philosophy</td>\n",
       "      <td>9</td>\n",
       "    </tr>\n",
       "    <tr>\n",
       "      <th>2</th>\n",
       "      <td>1888</td>\n",
       "      <td>Chuning Liu</td>\n",
       "      <td>CompSci</td>\n",
       "      <td>5</td>\n",
       "    </tr>\n",
       "    <tr>\n",
       "      <th>3</th>\n",
       "      <td>1970</td>\n",
       "      <td>Stan Ambani</td>\n",
       "      <td>Econ</td>\n",
       "      <td>0</td>\n",
       "    </tr>\n",
       "    <tr>\n",
       "      <th>4</th>\n",
       "      <td>1845</td>\n",
       "      <td>Jane Chen</td>\n",
       "      <td>DSI</td>\n",
       "      <td>2</td>\n",
       "    </tr>\n",
       "  </tbody>\n",
       "</table>\n",
       "</div>"
      ],
      "text/plain": [
       "     ID         name   dept_name  tot_cred\n",
       "0  1238   John Smith         DSI         4\n",
       "1  1645     Jane Doe  Philosophy         9\n",
       "2  1888  Chuning Liu     CompSci         5\n",
       "3  1970  Stan Ambani        Econ         0\n",
       "4  1845    Jane Chen         DSI         2"
      ]
     },
     "execution_count": 71,
     "metadata": {},
     "output_type": "execute_result"
    }
   ],
   "source": [
    "#point the path to where in your hard drive you have stored the file department.csv\n",
    "data = pd.read_csv(\"student.csv\")\n",
    "data.head()"
   ]
  },
  {
   "cell_type": "code",
   "execution_count": 73,
   "id": "e156e1c7",
   "metadata": {},
   "outputs": [
    {
     "data": {
      "text/plain": [
       "ID            int64\n",
       "name         object\n",
       "dept_name    object\n",
       "tot_cred      int64\n",
       "dtype: object"
      ]
     },
     "execution_count": 73,
     "metadata": {},
     "output_type": "execute_result"
    }
   ],
   "source": [
    "data.dtypes"
   ]
  },
  {
   "cell_type": "code",
   "execution_count": 77,
   "id": "a36efad2",
   "metadata": {},
   "outputs": [
    {
     "name": "stdout",
     "output_type": "stream",
     "text": [
      "Record inserted\n",
      "Record inserted\n",
      "Record inserted\n",
      "Record inserted\n",
      "Record inserted\n",
      "Record inserted\n",
      "Record inserted\n",
      "Record inserted\n",
      "Record inserted\n",
      "Record inserted\n",
      "Record inserted\n",
      "Record inserted\n",
      "Record inserted\n",
      "Record inserted\n",
      "Record inserted\n",
      "Record inserted\n",
      "Record inserted\n",
      "Record inserted\n",
      "Record inserted\n",
      "Record inserted\n"
     ]
    }
   ],
   "source": [
    "for i,row in data.iterrows():\n",
    "            sql = \"INSERT INTO student VALUES (%s,%s,%s, %s)\"\n",
    "            #mycursor.execute(sql, tuple(row))\n",
    "            print(\"Record inserted\")\n",
    "            # the connection is not autocommitted by default, so we \n",
    "            # must commit to save our changes\n",
    "            mydb.commit()"
   ]
  },
  {
   "cell_type": "code",
   "execution_count": 79,
   "id": "6f1733cb-a09f-4244-a991-6aa05a9013f7",
   "metadata": {},
   "outputs": [],
   "source": [
    "query = \"SELECT * from student\"\n",
    "mycursor.execute(query)"
   ]
  },
  {
   "cell_type": "code",
   "execution_count": 81,
   "id": "988d2d04-a4d4-49c4-a982-3b80b87e4f8d",
   "metadata": {},
   "outputs": [
    {
     "name": "stdout",
     "output_type": "stream",
     "text": [
      "('1122', 'Julia Rodriguez', 'AppMath', Decimal('8.00'))\n",
      "('1221', 'Ivan Petrov', 'Psychology', Decimal('9.00'))\n",
      "('1238', 'John Smith', 'DSI', Decimal('4.00'))\n",
      "('1298', 'Marvel Comic', 'Psychology', Decimal('6.00'))\n",
      "('1333', 'Mukesh Modi', 'DSI', Decimal('7.00'))\n",
      "('1444', 'Suresh Verma', 'English', Decimal('4.00'))\n",
      "('1455', 'Molly Bloom', 'English', Decimal('5.00'))\n",
      "('1645', 'Jane Doe', 'Philosophy', Decimal('9.00'))\n",
      "('1845', 'Jane Chen', 'DSI', Decimal('2.00'))\n",
      "('1881', 'Holly Zheng', 'Sociology', Decimal('5.00'))\n",
      "('1888', 'Chuning Liu', 'CompSci', Decimal('5.00'))\n",
      "('1934', 'Boris Pasternak', 'Math', Decimal('3.00'))\n",
      "('1970', 'Stan Ambani', 'Econ', Decimal('0.00'))\n",
      "('1999', 'Peter Lynch', 'AppMath', Decimal('6.00'))\n",
      "('2142', 'Sabrina Zhou', 'DSI', Decimal('4.00'))\n",
      "('2143', 'Maya Abdul', 'Sociology', Decimal('3.00'))\n",
      "('2144', 'Karim Shiny', 'English', Decimal('5.00'))\n",
      "('2145', 'Valentino Love', 'Psychology', Decimal('4.00'))\n",
      "('2946', 'Steve Brown', 'Math', Decimal('9.00'))\n",
      "('3303', 'Jane Lynch', 'Philosophy', Decimal('3.00'))\n"
     ]
    }
   ],
   "source": [
    "for x in mycursor:\n",
    "    print(x)"
   ]
  },
  {
   "cell_type": "code",
   "execution_count": 83,
   "id": "0477b8fd",
   "metadata": {},
   "outputs": [
    {
     "data": {
      "text/html": [
       "<div>\n",
       "<style scoped>\n",
       "    .dataframe tbody tr th:only-of-type {\n",
       "        vertical-align: middle;\n",
       "    }\n",
       "\n",
       "    .dataframe tbody tr th {\n",
       "        vertical-align: top;\n",
       "    }\n",
       "\n",
       "    .dataframe thead th {\n",
       "        text-align: right;\n",
       "    }\n",
       "</style>\n",
       "<table border=\"1\" class=\"dataframe\">\n",
       "  <thead>\n",
       "    <tr style=\"text-align: right;\">\n",
       "      <th></th>\n",
       "      <th>ID</th>\n",
       "      <th>name</th>\n",
       "      <th>dept_name</th>\n",
       "      <th>salary</th>\n",
       "    </tr>\n",
       "  </thead>\n",
       "  <tbody>\n",
       "    <tr>\n",
       "      <th>0</th>\n",
       "      <td>111</td>\n",
       "      <td>Joe Smith</td>\n",
       "      <td>DSI</td>\n",
       "      <td>120000</td>\n",
       "    </tr>\n",
       "    <tr>\n",
       "      <th>1</th>\n",
       "      <td>112</td>\n",
       "      <td>Ying Zheng</td>\n",
       "      <td>CompSci</td>\n",
       "      <td>220000</td>\n",
       "    </tr>\n",
       "    <tr>\n",
       "      <th>2</th>\n",
       "      <td>113</td>\n",
       "      <td>Sunil Agarwal</td>\n",
       "      <td>AppMath</td>\n",
       "      <td>99000</td>\n",
       "    </tr>\n",
       "    <tr>\n",
       "      <th>3</th>\n",
       "      <td>114</td>\n",
       "      <td>Jennifer Lo</td>\n",
       "      <td>English</td>\n",
       "      <td>86000</td>\n",
       "    </tr>\n",
       "    <tr>\n",
       "      <th>4</th>\n",
       "      <td>115</td>\n",
       "      <td>Taylor Slow</td>\n",
       "      <td>Psychology</td>\n",
       "      <td>90000</td>\n",
       "    </tr>\n",
       "  </tbody>\n",
       "</table>\n",
       "</div>"
      ],
      "text/plain": [
       "    ID           name   dept_name  salary\n",
       "0  111      Joe Smith         DSI  120000\n",
       "1  112     Ying Zheng     CompSci  220000\n",
       "2  113  Sunil Agarwal     AppMath   99000\n",
       "3  114    Jennifer Lo     English   86000\n",
       "4  115    Taylor Slow  Psychology   90000"
      ]
     },
     "execution_count": 83,
     "metadata": {},
     "output_type": "execute_result"
    }
   ],
   "source": [
    "#point the path to where in your hard drive you have stored the file department.csv\n",
    "data = pd.read_csv(\"instructor.csv\")\n",
    "data.head()"
   ]
  },
  {
   "cell_type": "code",
   "execution_count": 87,
   "id": "91c90f3c",
   "metadata": {},
   "outputs": [
    {
     "name": "stdout",
     "output_type": "stream",
     "text": [
      "Record inserted\n",
      "Record inserted\n",
      "Record inserted\n",
      "Record inserted\n",
      "Record inserted\n",
      "Record inserted\n",
      "Record inserted\n",
      "Record inserted\n",
      "Record inserted\n"
     ]
    }
   ],
   "source": [
    "for i,row in data.iterrows():\n",
    "            sql = \"INSERT INTO instructor VALUES (%s,%s,%s, %s)\"\n",
    "            #mycursor.execute(sql, tuple(row))\n",
    "            print(\"Record inserted\")\n",
    "            # the connection is not autocommitted by default, so we \n",
    "            # must commit to save our changes\n",
    "            mydb.commit()"
   ]
  },
  {
   "cell_type": "code",
   "execution_count": 89,
   "id": "ff674965",
   "metadata": {},
   "outputs": [],
   "source": [
    "query = \"SELECT * from instructor\"\n",
    "mycursor.execute(query)"
   ]
  },
  {
   "cell_type": "code",
   "execution_count": 91,
   "id": "33f7eee5",
   "metadata": {},
   "outputs": [
    {
     "name": "stdout",
     "output_type": "stream",
     "text": [
      "('111', 'Joe Smith', 'DSI', 120000)\n",
      "('112', 'Ying Zheng', 'CompSci', 220000)\n",
      "('113', 'Sunil Agarwal', 'AppMath', 99000)\n",
      "('114', 'Jennifer Lo', 'English', 86000)\n",
      "('115', 'Taylor Slow', 'Psychology', 90000)\n",
      "('116', 'Friar Driver', 'English', 88000)\n",
      "('117', 'Carmen Herman', 'DSI', 150000)\n",
      "('118', 'Calista Holistic', 'CompSci', 123000)\n",
      "('119', 'Rashid Irani', 'Psychology', 101000)\n"
     ]
    }
   ],
   "source": [
    "for x in mycursor:\n",
    "    print(x)"
   ]
  },
  {
   "cell_type": "code",
   "execution_count": null,
   "id": "2816a4be-aff6-4947-890d-4e776680a9ec",
   "metadata": {},
   "outputs": [],
   "source": []
  }
 ],
 "metadata": {
  "kernelspec": {
   "display_name": "base",
   "language": "python",
   "name": "python3"
  },
  "language_info": {
   "codemirror_mode": {
    "name": "ipython",
    "version": 3
   },
   "file_extension": ".py",
   "mimetype": "text/x-python",
   "name": "python",
   "nbconvert_exporter": "python",
   "pygments_lexer": "ipython3",
   "version": "3.12.5"
  }
 },
 "nbformat": 4,
 "nbformat_minor": 5
}
