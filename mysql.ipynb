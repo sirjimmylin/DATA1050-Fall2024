{
 "cells": [
  {
   "cell_type": "markdown",
   "id": "ce6f6205",
   "metadata": {},
   "source": [
    "# Assignment One"
   ]
  },
  {
   "cell_type": "code",
   "execution_count": 1,
   "id": "67afa701",
   "metadata": {},
   "outputs": [
    {
     "name": "stdout",
     "output_type": "stream",
     "text": [
      "Requirement already satisfied: mysql-connector-python in /opt/anaconda3/lib/python3.12/site-packages (9.0.0)\n",
      "Note: you may need to restart the kernel to use updated packages.\n"
     ]
    }
   ],
   "source": [
    "pip install mysql-connector-python"
   ]
  },
  {
   "cell_type": "code",
   "execution_count": 2,
   "id": "587fd263",
   "metadata": {},
   "outputs": [
    {
     "name": "stdout",
     "output_type": "stream",
     "text": [
      "<mysql.connector.connection_cext.CMySQLConnection object at 0x108fa5d60>\n",
      "CONNECTION SUCCESSFUL\n"
     ]
    }
   ],
   "source": [
    "import mysql.connector\n",
    " \n",
    "mydb = mysql.connector.connect(\n",
    "  host=\"localhost\",\n",
    "  user=\"root\",\n",
    "  password= \"7@u*sqJX\"   #REPLACE THIS WITH THE PASSWORD YOU SET\n",
    ")\n",
    " \n",
    "print(mydb)\n",
    " \n",
    "if mydb.is_connected():\n",
    "    print(\"CONNECTION SUCCESSFUL\")\n"
   ]
  },
  {
   "cell_type": "code",
   "execution_count": 3,
   "id": "5972ab2e",
   "metadata": {},
   "outputs": [],
   "source": [
    "#create a database\n",
    "mycursor = mydb.cursor()\n",
    "mycursor.execute(\"DROP DATABASE IF EXISTS data1050f24\")\n",
    "mycursor.execute(\"CREATE DATABASE data1050f24\")"
   ]
  },
  {
   "cell_type": "code",
   "execution_count": 4,
   "id": "4dfe751f",
   "metadata": {},
   "outputs": [
    {
     "name": "stdout",
     "output_type": "stream",
     "text": [
      "('data1050f24',)\n",
      "('information_schema',)\n",
      "('mysql',)\n",
      "('performance_schema',)\n",
      "('sys',)\n"
     ]
    }
   ],
   "source": [
    "mycursor = mydb.cursor()\n",
    "mycursor.execute(\"SHOW DATABASES\")\n",
    "\n",
    "for x in mycursor:\n",
    "  print(x)"
   ]
  },
  {
   "cell_type": "code",
   "execution_count": 5,
   "id": "3096b98c",
   "metadata": {},
   "outputs": [],
   "source": [
    "#create a table\n",
    "mycursor = mydb.cursor()\n",
    "mycursor.execute(\"DROP TABLE IF EXISTS data1050F24.department\")\n",
    "mycursor.execute('''CREATE TABLE data1050F24.department ( \n",
    "                    dept_name VARCHAR(128) PRIMARY KEY, \n",
    "                    building VARCHAR(128), \n",
    "                    budget INT)''')"
   ]
  },
  {
   "cell_type": "code",
   "execution_count": 6,
   "id": "81dc980e",
   "metadata": {},
   "outputs": [],
   "source": [
    "mycursor = mydb.cursor()\n",
    "mycursor.execute(\"DROP TABLE IF EXISTS data1050F24.student\")\n",
    "mycursor.execute('''CREATE TABLE data1050F24.student (\n",
    "                    ID INT PRIMARY KEY,\n",
    "                    name VARCHAR(128) NOT NULL,\n",
    "                    dept_name VARCHAR(128),\n",
    "                    tot_cred INT,\n",
    "                    foreign key(dept_name) references data1050F24.department(dept_name)\n",
    "                 )''')"
   ]
  },
  {
   "cell_type": "code",
   "execution_count": 7,
   "id": "c998ddfa",
   "metadata": {},
   "outputs": [],
   "source": [
    "mycursor = mydb.cursor()\n",
    "mycursor.execute(\"DROP TABLE IF EXISTS data1050F24.instructor\")\n",
    "mycursor.execute('''CREATE TABLE data1050F24.instructor (\n",
    "                    ID INT PRIMARY KEY,\n",
    "                    name VARCHAR(128) NOT NULL,\n",
    "                    dept_name VARCHAR(128),\n",
    "                    salary INT,\n",
    "                    check(salary >= 0),\n",
    "                    foreign key(dept_name) references data1050F24.department(dept_name)\n",
    "                    )''')"
   ]
  },
  {
   "cell_type": "markdown",
   "id": "d6e6d9e6",
   "metadata": {},
   "source": [
    "Connecting to a database and showing tables"
   ]
  },
  {
   "cell_type": "code",
   "execution_count": 8,
   "id": "94fa9cd7",
   "metadata": {},
   "outputs": [],
   "source": [
    "#connect to a specific database\n",
    "mydb = mysql.connector.connect(\n",
    "  host=\"localhost\",\n",
    "  user=\"root\",\n",
    "  password= \"7@u*sqJX\", #REPLACE THIS WITH YOUR PASSWORD \n",
    "  database = \"data1050f24\" #connecting to testDatabase\n",
    ")"
   ]
  },
  {
   "cell_type": "code",
   "execution_count": 9,
   "id": "102afc4c",
   "metadata": {},
   "outputs": [
    {
     "name": "stdout",
     "output_type": "stream",
     "text": [
      "('department',)\n",
      "('instructor',)\n",
      "('student',)\n"
     ]
    }
   ],
   "source": [
    "mycursor = mydb.cursor()\n",
    "\n",
    "mycursor.execute(\"SHOW TABLES\")\n",
    "\n",
    "for x in mycursor:\n",
    "  print(x)"
   ]
  },
  {
   "cell_type": "code",
   "execution_count": 10,
   "id": "a4598d05",
   "metadata": {},
   "outputs": [],
   "source": [
    "import pandas as pd"
   ]
  },
  {
   "cell_type": "code",
   "execution_count": 11,
   "id": "5dc4631a",
   "metadata": {},
   "outputs": [
    {
     "name": "stdout",
     "output_type": "stream",
     "text": [
      "Requirement already satisfied: fsspec in /opt/anaconda3/lib/python3.12/site-packages (2024.6.1)\n",
      "Note: you may need to restart the kernel to use updated packages.\n"
     ]
    }
   ],
   "source": [
    "pip install fsspec"
   ]
  },
  {
   "cell_type": "code",
   "execution_count": 12,
   "id": "c4c44554",
   "metadata": {},
   "outputs": [
    {
     "data": {
      "text/html": [
       "<div>\n",
       "<style scoped>\n",
       "    .dataframe tbody tr th:only-of-type {\n",
       "        vertical-align: middle;\n",
       "    }\n",
       "\n",
       "    .dataframe tbody tr th {\n",
       "        vertical-align: top;\n",
       "    }\n",
       "\n",
       "    .dataframe thead th {\n",
       "        text-align: right;\n",
       "    }\n",
       "</style>\n",
       "<table border=\"1\" class=\"dataframe\">\n",
       "  <thead>\n",
       "    <tr style=\"text-align: right;\">\n",
       "      <th></th>\n",
       "      <th>dept_name</th>\n",
       "      <th>building</th>\n",
       "      <th>budget</th>\n",
       "    </tr>\n",
       "  </thead>\n",
       "  <tbody>\n",
       "    <tr>\n",
       "      <th>0</th>\n",
       "      <td>CompSci</td>\n",
       "      <td>CIT</td>\n",
       "      <td>4000000</td>\n",
       "    </tr>\n",
       "    <tr>\n",
       "      <th>1</th>\n",
       "      <td>AppMath</td>\n",
       "      <td>Pembroke</td>\n",
       "      <td>1000525</td>\n",
       "    </tr>\n",
       "    <tr>\n",
       "      <th>2</th>\n",
       "      <td>Econ</td>\n",
       "      <td>Watson</td>\n",
       "      <td>1230000</td>\n",
       "    </tr>\n",
       "    <tr>\n",
       "      <th>3</th>\n",
       "      <td>Philosophy</td>\n",
       "      <td>Athenia</td>\n",
       "      <td>300000</td>\n",
       "    </tr>\n",
       "    <tr>\n",
       "      <th>4</th>\n",
       "      <td>English</td>\n",
       "      <td>Litereria</td>\n",
       "      <td>1389400</td>\n",
       "    </tr>\n",
       "  </tbody>\n",
       "</table>\n",
       "</div>"
      ],
      "text/plain": [
       "    dept_name   building   budget\n",
       "0     CompSci        CIT  4000000\n",
       "1     AppMath   Pembroke  1000525\n",
       "2        Econ     Watson  1230000\n",
       "3  Philosophy    Athenia   300000\n",
       "4     English  Litereria  1389400"
      ]
     },
     "execution_count": 12,
     "metadata": {},
     "output_type": "execute_result"
    }
   ],
   "source": [
    "#point the path to where in your hard drive you have stored the file department.csv\n",
    "data = pd.read_csv(\"department.csv\")\n",
    "data.head()"
   ]
  },
  {
   "cell_type": "code",
   "execution_count": 13,
   "id": "8e644d83",
   "metadata": {},
   "outputs": [
    {
     "data": {
      "text/plain": [
       "dept_name    object\n",
       "building     object\n",
       "budget        int64\n",
       "dtype: object"
      ]
     },
     "execution_count": 13,
     "metadata": {},
     "output_type": "execute_result"
    }
   ],
   "source": [
    "data.dtypes"
   ]
  },
  {
   "cell_type": "code",
   "execution_count": 14,
   "id": "c962e894",
   "metadata": {},
   "outputs": [
    {
     "name": "stdout",
     "output_type": "stream",
     "text": [
      "Record inserted\n",
      "Record inserted\n",
      "Record inserted\n",
      "Record inserted\n",
      "Record inserted\n",
      "Record inserted\n",
      "Record inserted\n",
      "Record inserted\n",
      "Record inserted\n"
     ]
    }
   ],
   "source": [
    "for i,row in data.iterrows():\n",
    "            sql = \"INSERT INTO department VALUES (%s,%s,%s)\"\n",
    "            mycursor.execute(sql, tuple(row))\n",
    "            print(\"Record inserted\")\n",
    "            # the connection is not autocommitted by default, so we \n",
    "            # must commit to save our changes\n",
    "            mydb.commit()"
   ]
  },
  {
   "cell_type": "code",
   "execution_count": 15,
   "id": "c69066fc",
   "metadata": {},
   "outputs": [],
   "source": [
    "query = \"SELECT * from department\"\n",
    "mycursor.execute(query)"
   ]
  },
  {
   "cell_type": "code",
   "execution_count": 16,
   "id": "790c9712",
   "metadata": {},
   "outputs": [
    {
     "name": "stdout",
     "output_type": "stream",
     "text": [
      "('AppMath', 'Pembroke', 1000525)\n",
      "('CompSci', 'CIT', 4000000)\n",
      "('DSI', 'Angell', 750000)\n",
      "('Econ', 'Watson', 1230000)\n",
      "('English', 'Litereria', 1389400)\n",
      "('Math', 'Pembroke', 999785)\n",
      "('Philosophy', 'Athenia', 300000)\n",
      "('Psychology', 'Skinner', 1223350)\n",
      "('Sociology', 'Watson', 789000)\n"
     ]
    }
   ],
   "source": [
    "for x in mycursor:\n",
    "    print(x)"
   ]
  },
  {
   "cell_type": "code",
   "execution_count": 17,
   "id": "99b95761",
   "metadata": {},
   "outputs": [
    {
     "data": {
      "text/html": [
       "<div>\n",
       "<style scoped>\n",
       "    .dataframe tbody tr th:only-of-type {\n",
       "        vertical-align: middle;\n",
       "    }\n",
       "\n",
       "    .dataframe tbody tr th {\n",
       "        vertical-align: top;\n",
       "    }\n",
       "\n",
       "    .dataframe thead th {\n",
       "        text-align: right;\n",
       "    }\n",
       "</style>\n",
       "<table border=\"1\" class=\"dataframe\">\n",
       "  <thead>\n",
       "    <tr style=\"text-align: right;\">\n",
       "      <th></th>\n",
       "      <th>ID</th>\n",
       "      <th>name</th>\n",
       "      <th>dept_name</th>\n",
       "      <th>tot_cred</th>\n",
       "    </tr>\n",
       "  </thead>\n",
       "  <tbody>\n",
       "    <tr>\n",
       "      <th>0</th>\n",
       "      <td>1238</td>\n",
       "      <td>John Smith</td>\n",
       "      <td>DSI</td>\n",
       "      <td>4</td>\n",
       "    </tr>\n",
       "    <tr>\n",
       "      <th>1</th>\n",
       "      <td>1645</td>\n",
       "      <td>Jane Doe</td>\n",
       "      <td>Philosophy</td>\n",
       "      <td>9</td>\n",
       "    </tr>\n",
       "    <tr>\n",
       "      <th>2</th>\n",
       "      <td>1888</td>\n",
       "      <td>Chuning Liu</td>\n",
       "      <td>CompSci</td>\n",
       "      <td>5</td>\n",
       "    </tr>\n",
       "    <tr>\n",
       "      <th>3</th>\n",
       "      <td>1970</td>\n",
       "      <td>Stan Ambani</td>\n",
       "      <td>Econ</td>\n",
       "      <td>0</td>\n",
       "    </tr>\n",
       "    <tr>\n",
       "      <th>4</th>\n",
       "      <td>1845</td>\n",
       "      <td>Jane Chen</td>\n",
       "      <td>DSI</td>\n",
       "      <td>2</td>\n",
       "    </tr>\n",
       "  </tbody>\n",
       "</table>\n",
       "</div>"
      ],
      "text/plain": [
       "     ID         name   dept_name  tot_cred\n",
       "0  1238   John Smith         DSI         4\n",
       "1  1645     Jane Doe  Philosophy         9\n",
       "2  1888  Chuning Liu     CompSci         5\n",
       "3  1970  Stan Ambani        Econ         0\n",
       "4  1845    Jane Chen         DSI         2"
      ]
     },
     "execution_count": 17,
     "metadata": {},
     "output_type": "execute_result"
    }
   ],
   "source": [
    "#point the path to where in your hard drive you have stored the file student.csv\n",
    "data = pd.read_csv(\"student.csv\")\n",
    "data.head()"
   ]
  },
  {
   "cell_type": "code",
   "execution_count": 18,
   "id": "e156e1c7",
   "metadata": {},
   "outputs": [
    {
     "data": {
      "text/plain": [
       "ID            int64\n",
       "name         object\n",
       "dept_name    object\n",
       "tot_cred      int64\n",
       "dtype: object"
      ]
     },
     "execution_count": 18,
     "metadata": {},
     "output_type": "execute_result"
    }
   ],
   "source": [
    "data.dtypes"
   ]
  },
  {
   "cell_type": "code",
   "execution_count": 19,
   "id": "a36efad2",
   "metadata": {},
   "outputs": [
    {
     "name": "stdout",
     "output_type": "stream",
     "text": [
      "Record inserted\n",
      "Record inserted\n",
      "Record inserted\n",
      "Record inserted\n",
      "Record inserted\n",
      "Record inserted\n",
      "Record inserted\n",
      "Record inserted\n",
      "Record inserted\n",
      "Record inserted\n",
      "Record inserted\n",
      "Record inserted\n",
      "Record inserted\n",
      "Record inserted\n",
      "Record inserted\n",
      "Record inserted\n",
      "Record inserted\n",
      "Record inserted\n",
      "Record inserted\n",
      "Record inserted\n"
     ]
    }
   ],
   "source": [
    "for i,row in data.iterrows():\n",
    "            sql = \"INSERT INTO student VALUES (%s,%s,%s, %s)\"\n",
    "            mycursor.execute(sql, tuple(row))\n",
    "            print(\"Record inserted\")\n",
    "            # the connection is not autocommitted by default, so we \n",
    "            # must commit to save our changes\n",
    "            mydb.commit()"
   ]
  },
  {
   "cell_type": "code",
   "execution_count": 20,
   "id": "6f1733cb-a09f-4244-a991-6aa05a9013f7",
   "metadata": {},
   "outputs": [],
   "source": [
    "query = \"SELECT * from student\"\n",
    "mycursor.execute(query)"
   ]
  },
  {
   "cell_type": "code",
   "execution_count": 21,
   "id": "988d2d04-a4d4-49c4-a982-3b80b87e4f8d",
   "metadata": {},
   "outputs": [
    {
     "name": "stdout",
     "output_type": "stream",
     "text": [
      "(1122, 'Julia Rodriguez', 'AppMath', 8)\n",
      "(1221, 'Ivan Petrov', 'Psychology', 9)\n",
      "(1238, 'John Smith', 'DSI', 4)\n",
      "(1298, 'Marvel Comic', 'Psychology', 6)\n",
      "(1333, 'Mukesh Modi', 'DSI', 7)\n",
      "(1444, 'Suresh Verma', 'English', 4)\n",
      "(1455, 'Molly Bloom', 'English', 5)\n",
      "(1645, 'Jane Doe', 'Philosophy', 9)\n",
      "(1845, 'Jane Chen', 'DSI', 2)\n",
      "(1881, 'Holly Zheng', 'Sociology', 5)\n",
      "(1888, 'Chuning Liu', 'CompSci', 5)\n",
      "(1934, 'Boris Pasternak', 'Math', 3)\n",
      "(1970, 'Stan Ambani', 'Econ', 0)\n",
      "(1999, 'Peter Lynch', 'AppMath', 6)\n",
      "(2142, 'Sabrina Zhou', 'DSI', 4)\n",
      "(2143, 'Maya Abdul', 'Sociology', 3)\n",
      "(2144, 'Karim Shiny', 'English', 5)\n",
      "(2145, 'Valentino Love', 'Psychology', 4)\n",
      "(2946, 'Steve Brown', 'Math', 9)\n",
      "(3303, 'Jane Lynch', 'Philosophy', 3)\n"
     ]
    }
   ],
   "source": [
    "for x in mycursor:\n",
    "    print(x)"
   ]
  },
  {
   "cell_type": "code",
   "execution_count": 22,
   "id": "0477b8fd",
   "metadata": {},
   "outputs": [
    {
     "data": {
      "text/html": [
       "<div>\n",
       "<style scoped>\n",
       "    .dataframe tbody tr th:only-of-type {\n",
       "        vertical-align: middle;\n",
       "    }\n",
       "\n",
       "    .dataframe tbody tr th {\n",
       "        vertical-align: top;\n",
       "    }\n",
       "\n",
       "    .dataframe thead th {\n",
       "        text-align: right;\n",
       "    }\n",
       "</style>\n",
       "<table border=\"1\" class=\"dataframe\">\n",
       "  <thead>\n",
       "    <tr style=\"text-align: right;\">\n",
       "      <th></th>\n",
       "      <th>ID</th>\n",
       "      <th>name</th>\n",
       "      <th>dept_name</th>\n",
       "      <th>salary</th>\n",
       "    </tr>\n",
       "  </thead>\n",
       "  <tbody>\n",
       "    <tr>\n",
       "      <th>0</th>\n",
       "      <td>111</td>\n",
       "      <td>Joe Smith</td>\n",
       "      <td>DSI</td>\n",
       "      <td>120000</td>\n",
       "    </tr>\n",
       "    <tr>\n",
       "      <th>1</th>\n",
       "      <td>112</td>\n",
       "      <td>Ying Zheng</td>\n",
       "      <td>CompSci</td>\n",
       "      <td>220000</td>\n",
       "    </tr>\n",
       "    <tr>\n",
       "      <th>2</th>\n",
       "      <td>113</td>\n",
       "      <td>Sunil Agarwal</td>\n",
       "      <td>AppMath</td>\n",
       "      <td>99000</td>\n",
       "    </tr>\n",
       "    <tr>\n",
       "      <th>3</th>\n",
       "      <td>114</td>\n",
       "      <td>Jennifer Lo</td>\n",
       "      <td>English</td>\n",
       "      <td>86000</td>\n",
       "    </tr>\n",
       "    <tr>\n",
       "      <th>4</th>\n",
       "      <td>115</td>\n",
       "      <td>Taylor Slow</td>\n",
       "      <td>Psychology</td>\n",
       "      <td>90000</td>\n",
       "    </tr>\n",
       "  </tbody>\n",
       "</table>\n",
       "</div>"
      ],
      "text/plain": [
       "    ID           name   dept_name  salary\n",
       "0  111      Joe Smith         DSI  120000\n",
       "1  112     Ying Zheng     CompSci  220000\n",
       "2  113  Sunil Agarwal     AppMath   99000\n",
       "3  114    Jennifer Lo     English   86000\n",
       "4  115    Taylor Slow  Psychology   90000"
      ]
     },
     "execution_count": 22,
     "metadata": {},
     "output_type": "execute_result"
    }
   ],
   "source": [
    "#point the path to where in your hard drive you have stored the file instructor.csv\n",
    "data = pd.read_csv(\"instructor.csv\")\n",
    "data.head()"
   ]
  },
  {
   "cell_type": "code",
   "execution_count": 23,
   "id": "1834cdb6",
   "metadata": {},
   "outputs": [
    {
     "data": {
      "text/plain": [
       "ID            int64\n",
       "name         object\n",
       "dept_name    object\n",
       "salary        int64\n",
       "dtype: object"
      ]
     },
     "execution_count": 23,
     "metadata": {},
     "output_type": "execute_result"
    }
   ],
   "source": [
    "data.dtypes"
   ]
  },
  {
   "cell_type": "code",
   "execution_count": 24,
   "id": "91c90f3c",
   "metadata": {},
   "outputs": [
    {
     "name": "stdout",
     "output_type": "stream",
     "text": [
      "Record inserted\n",
      "Record inserted\n",
      "Record inserted\n",
      "Record inserted\n",
      "Record inserted\n",
      "Record inserted\n",
      "Record inserted\n",
      "Record inserted\n",
      "Record inserted\n"
     ]
    }
   ],
   "source": [
    "for i,row in data.iterrows():\n",
    "            sql = \"INSERT INTO instructor VALUES (%s,%s,%s, %s)\"\n",
    "            mycursor.execute(sql, tuple(row))\n",
    "            print(\"Record inserted\")\n",
    "            # the connection is not autocommitted by default, so we \n",
    "            # must commit to save our changes\n",
    "            mydb.commit()"
   ]
  },
  {
   "cell_type": "code",
   "execution_count": 25,
   "id": "ff674965",
   "metadata": {},
   "outputs": [],
   "source": [
    "query = \"SELECT * from instructor\"\n",
    "mycursor.execute(query)"
   ]
  },
  {
   "cell_type": "code",
   "execution_count": 26,
   "id": "33f7eee5",
   "metadata": {},
   "outputs": [
    {
     "name": "stdout",
     "output_type": "stream",
     "text": [
      "(111, 'Joe Smith', 'DSI', 120000)\n",
      "(112, 'Ying Zheng', 'CompSci', 220000)\n",
      "(113, 'Sunil Agarwal', 'AppMath', 99000)\n",
      "(114, 'Jennifer Lo', 'English', 86000)\n",
      "(115, 'Taylor Slow', 'Psychology', 90000)\n",
      "(116, 'Friar Driver', 'English', 88000)\n",
      "(117, 'Carmen Herman', 'DSI', 150000)\n",
      "(118, 'Calista Holistic', 'CompSci', 123000)\n",
      "(119, 'Rashid Irani', 'Psychology', 101000)\n"
     ]
    }
   ],
   "source": [
    "for x in mycursor:\n",
    "    print(x)"
   ]
  },
  {
   "cell_type": "markdown",
   "id": "bba456d9",
   "metadata": {},
   "source": [
    "# Assignment Two"
   ]
  },
  {
   "cell_type": "markdown",
   "id": "dc359a3c",
   "metadata": {},
   "source": [
    "Part 1: Create Tables"
   ]
  },
  {
   "cell_type": "code",
   "execution_count": 27,
   "id": "eded7caa-5cd1-43d9-a3be-442125da6237",
   "metadata": {},
   "outputs": [],
   "source": [
    "mycursor = mydb.cursor()\n",
    "mycursor.execute(\"DROP TABLE IF EXISTS data1050F24.course\")\n",
    "mycursor.execute('''CREATE TABLE data1050F24.course (\n",
    "                    course_id VARCHAR(128) PRIMARY KEY,\n",
    "                    title VARCHAR(128) NOT NULL,\n",
    "                    dept_name VARCHAR(128),\n",
    "                    credits INT,\n",
    "                    foreign key(dept_name) references data1050F24.department(dept_name)\n",
    "                    )''')"
   ]
  },
  {
   "cell_type": "code",
   "execution_count": 28,
   "id": "a047bfb2-e6bf-4843-bca0-508a5d7ac64d",
   "metadata": {},
   "outputs": [],
   "source": [
    "mycursor = mydb.cursor()\n",
    "mycursor.execute(\"DROP TABLE IF EXISTS data1050F24.prereq\")\n",
    "mycursor.execute ('''\n",
    "                  CREATE TABLE data1050F24.prereq (\n",
    "                  course_id VARCHAR(128),\n",
    "                  prereq_id VARCHAR(128),\n",
    "                  PRIMARY KEY(course_id,prereq_id),\n",
    "                  foreign key(course_id) references data1050F24.course(course_id),\n",
    "                  foreign key(prereq_id) references data1050F24.course(course_id)\n",
    "                  )''')"
   ]
  },
  {
   "cell_type": "code",
   "execution_count": 29,
   "id": "ed000b14-9b23-46e0-9aa7-c1d3aa8119c9",
   "metadata": {},
   "outputs": [],
   "source": [
    "mycursor = mydb.cursor()\n",
    "mycursor.execute(\"DROP TABLE IF EXISTS data1050F24.advisor\")\n",
    "mycursor.execute('''CREATE TABLE data1050F24.advisor (\n",
    "                    s_id INT PRIMARY KEY,\n",
    "                    i_id INT,\n",
    "                    foreign key(s_id) references data1050F24.student(ID),\n",
    "                    foreign key(i_id) references data1050F24.instructor(ID))\n",
    "                    ''')"
   ]
  },
  {
   "cell_type": "code",
   "execution_count": 30,
   "id": "58bb6447-ccc4-4e1b-a045-1d5799761555",
   "metadata": {},
   "outputs": [],
   "source": [
    "mycursor = mydb.cursor()\n",
    "mycursor.execute(\"DROP TABLE IF EXISTS data1050F24.classroom\")\n",
    "mycursor.execute('''\n",
    "                 CREATE TABLE data1050F24.classroom (\n",
    "                 building VARCHAR(128),\n",
    "                 room_no INT,\n",
    "                 capacity INT,\n",
    "                 check(capacity >= 0),\n",
    "                 PRIMARY KEY(building,room_no)\n",
    "                 );'''\n",
    "                 )"
   ]
  },
  {
   "cell_type": "code",
   "execution_count": 31,
   "id": "382e7a56",
   "metadata": {},
   "outputs": [
    {
     "name": "stdout",
     "output_type": "stream",
     "text": [
      "('advisor',)\n",
      "('classroom',)\n",
      "('course',)\n",
      "('department',)\n",
      "('instructor',)\n",
      "('prereq',)\n",
      "('student',)\n"
     ]
    }
   ],
   "source": [
    "mycursor = mydb.cursor()\n",
    "\n",
    "mycursor.execute(\"SHOW TABLES\")\n",
    "\n",
    "for x in mycursor:\n",
    "  print(x)"
   ]
  },
  {
   "cell_type": "markdown",
   "id": "546dc0cb",
   "metadata": {},
   "source": [
    "Part 2: Populate Tables"
   ]
  },
  {
   "cell_type": "code",
   "execution_count": 32,
   "id": "2816a4be-aff6-4947-890d-4e776680a9ec",
   "metadata": {},
   "outputs": [
    {
     "data": {
      "text/html": [
       "<div>\n",
       "<style scoped>\n",
       "    .dataframe tbody tr th:only-of-type {\n",
       "        vertical-align: middle;\n",
       "    }\n",
       "\n",
       "    .dataframe tbody tr th {\n",
       "        vertical-align: top;\n",
       "    }\n",
       "\n",
       "    .dataframe thead th {\n",
       "        text-align: right;\n",
       "    }\n",
       "</style>\n",
       "<table border=\"1\" class=\"dataframe\">\n",
       "  <thead>\n",
       "    <tr style=\"text-align: right;\">\n",
       "      <th></th>\n",
       "      <th>course_id</th>\n",
       "      <th>title</th>\n",
       "      <th>dept_name</th>\n",
       "      <th>credits</th>\n",
       "    </tr>\n",
       "  </thead>\n",
       "  <tbody>\n",
       "    <tr>\n",
       "      <th>0</th>\n",
       "      <td>Data1050</td>\n",
       "      <td>Data Engineering</td>\n",
       "      <td>DSI</td>\n",
       "      <td>1.0</td>\n",
       "    </tr>\n",
       "    <tr>\n",
       "      <th>1</th>\n",
       "      <td>Data1030</td>\n",
       "      <td>Hands-on data science</td>\n",
       "      <td>DSI</td>\n",
       "      <td>1.0</td>\n",
       "    </tr>\n",
       "    <tr>\n",
       "      <th>2</th>\n",
       "      <td>APMA1650</td>\n",
       "      <td>Statistical Inference 1</td>\n",
       "      <td>AppMath</td>\n",
       "      <td>1.0</td>\n",
       "    </tr>\n",
       "    <tr>\n",
       "      <th>3</th>\n",
       "      <td>CSCI1270</td>\n",
       "      <td>Database Management Systems</td>\n",
       "      <td>CompSci</td>\n",
       "      <td>1.0</td>\n",
       "    </tr>\n",
       "    <tr>\n",
       "      <th>4</th>\n",
       "      <td>Data1450</td>\n",
       "      <td>Text Analysis</td>\n",
       "      <td>DSI</td>\n",
       "      <td>1.0</td>\n",
       "    </tr>\n",
       "  </tbody>\n",
       "</table>\n",
       "</div>"
      ],
      "text/plain": [
       "  course_id                        title dept_name  credits\n",
       "0  Data1050             Data Engineering       DSI      1.0\n",
       "1  Data1030        Hands-on data science       DSI      1.0\n",
       "2  APMA1650      Statistical Inference 1   AppMath      1.0\n",
       "3  CSCI1270  Database Management Systems   CompSci      1.0\n",
       "4  Data1450                Text Analysis       DSI      1.0"
      ]
     },
     "execution_count": 32,
     "metadata": {},
     "output_type": "execute_result"
    }
   ],
   "source": [
    "#point the path to where in your hard drive you have stored the file course.csv\n",
    "data = pd.read_csv(\"course.csv\")\n",
    "data.head()"
   ]
  },
  {
   "cell_type": "code",
   "execution_count": 33,
   "id": "97f4674d",
   "metadata": {},
   "outputs": [
    {
     "data": {
      "text/plain": [
       "course_id     object\n",
       "title         object\n",
       "dept_name     object\n",
       "credits      float64\n",
       "dtype: object"
      ]
     },
     "execution_count": 33,
     "metadata": {},
     "output_type": "execute_result"
    }
   ],
   "source": [
    "data.dtypes"
   ]
  },
  {
   "cell_type": "code",
   "execution_count": 34,
   "id": "96fab4d3-6415-4b6d-b7fc-25e2b60a68c8",
   "metadata": {},
   "outputs": [
    {
     "name": "stdout",
     "output_type": "stream",
     "text": [
      "Record inserted\n",
      "Record inserted\n",
      "Record inserted\n",
      "Record inserted\n",
      "Record inserted\n",
      "Record inserted\n",
      "Record inserted\n",
      "Record inserted\n",
      "Record inserted\n",
      "Record inserted\n",
      "Record inserted\n",
      "Record inserted\n",
      "Record inserted\n",
      "Record inserted\n",
      "Record inserted\n",
      "Record inserted\n"
     ]
    }
   ],
   "source": [
    "for i,row in data.iterrows():\n",
    "            sql = \"INSERT INTO course VALUES (%s,%s,%s, %s)\"\n",
    "            mycursor.execute(sql, tuple(row))\n",
    "            print(\"Record inserted\")\n",
    "            # the connection is not autocommitted by default, so we \n",
    "            # must commit to save our changes\n",
    "            mydb.commit()"
   ]
  },
  {
   "cell_type": "code",
   "execution_count": 35,
   "id": "6608e3f6-50d5-4807-822d-06883bb3ed64",
   "metadata": {},
   "outputs": [],
   "source": [
    "query = \"SELECT * from course\"\n",
    "mycursor.execute(query)"
   ]
  },
  {
   "cell_type": "code",
   "execution_count": 36,
   "id": "4d0cb6b5-3f61-47f0-9c09-e52a4b24e87a",
   "metadata": {},
   "outputs": [
    {
     "name": "stdout",
     "output_type": "stream",
     "text": [
      "('APMA1650', 'Statistical Inference 1', 'AppMath', 1)\n",
      "('CSCI1270', 'Database Management Systems', 'CompSci', 1)\n",
      "('Data1030', 'Hands-on data science', 'DSI', 1)\n",
      "('Data1050', 'Data Engineering', 'DSI', 1)\n",
      "('Data1450', 'Text Analysis', 'DSI', 1)\n",
      "('Data2050', 'Practicum', 'DSI', 1)\n",
      "('Econ2180', 'Game Theory', 'Econ', 1)\n",
      "('Econ9999', 'Mega Macro Economics', 'Econ', 2)\n",
      "('Engl1631P', \"Shakespeare's Girls\", 'English', 1)\n",
      "('Engl1760M', 'The miracle of Cinema', 'English', 1)\n",
      "('Phil1635', 'Advanced Deductive Logic', 'Philosophy', 1)\n",
      "('Phil2410', 'Moral Psychology', 'Philosophy', 1)\n",
      "('Psyc1450', 'Human sexuality', 'Psychology', 2)\n",
      "('Psyc2134', 'Intro to Cognitive Science', 'Psychology', 1)\n",
      "('Soc1872O', 'Critical Race Theory', 'Sociology', 1)\n",
      "('Soc1873D', 'Inequality in Infant Health', 'Sociology', 1)\n"
     ]
    }
   ],
   "source": [
    "for x in mycursor:\n",
    "    print(x)"
   ]
  },
  {
   "cell_type": "code",
   "execution_count": 37,
   "id": "71bd261a-70c4-44e8-bb78-33456e43cdf7",
   "metadata": {},
   "outputs": [
    {
     "data": {
      "text/html": [
       "<div>\n",
       "<style scoped>\n",
       "    .dataframe tbody tr th:only-of-type {\n",
       "        vertical-align: middle;\n",
       "    }\n",
       "\n",
       "    .dataframe tbody tr th {\n",
       "        vertical-align: top;\n",
       "    }\n",
       "\n",
       "    .dataframe thead th {\n",
       "        text-align: right;\n",
       "    }\n",
       "</style>\n",
       "<table border=\"1\" class=\"dataframe\">\n",
       "  <thead>\n",
       "    <tr style=\"text-align: right;\">\n",
       "      <th></th>\n",
       "      <th>course_id</th>\n",
       "      <th>prerq_id</th>\n",
       "    </tr>\n",
       "  </thead>\n",
       "  <tbody>\n",
       "    <tr>\n",
       "      <th>0</th>\n",
       "      <td>Data2050</td>\n",
       "      <td>Data1050</td>\n",
       "    </tr>\n",
       "    <tr>\n",
       "      <th>1</th>\n",
       "      <td>Data2050</td>\n",
       "      <td>Data1030</td>\n",
       "    </tr>\n",
       "    <tr>\n",
       "      <th>2</th>\n",
       "      <td>Data1030</td>\n",
       "      <td>Data1050</td>\n",
       "    </tr>\n",
       "    <tr>\n",
       "      <th>3</th>\n",
       "      <td>Data1050</td>\n",
       "      <td>CSCI1270</td>\n",
       "    </tr>\n",
       "    <tr>\n",
       "      <th>4</th>\n",
       "      <td>Econ9999</td>\n",
       "      <td>Econ2180</td>\n",
       "    </tr>\n",
       "  </tbody>\n",
       "</table>\n",
       "</div>"
      ],
      "text/plain": [
       "  course_id  prerq_id\n",
       "0  Data2050  Data1050\n",
       "1  Data2050  Data1030\n",
       "2  Data1030  Data1050\n",
       "3  Data1050  CSCI1270\n",
       "4  Econ9999  Econ2180"
      ]
     },
     "execution_count": 37,
     "metadata": {},
     "output_type": "execute_result"
    }
   ],
   "source": [
    "#point the path to where in your hard drive you have stored the file prereq.csv\n",
    "data = pd.read_csv(\"prereq.csv\")\n",
    "data.head()"
   ]
  },
  {
   "cell_type": "code",
   "execution_count": 38,
   "id": "7b7913bf",
   "metadata": {},
   "outputs": [
    {
     "data": {
      "text/plain": [
       "course_id    object\n",
       "prerq_id     object\n",
       "dtype: object"
      ]
     },
     "execution_count": 38,
     "metadata": {},
     "output_type": "execute_result"
    }
   ],
   "source": [
    "data.dtypes"
   ]
  },
  {
   "cell_type": "code",
   "execution_count": 39,
   "id": "97262606-9162-4c81-86a5-55ae6be93ae0",
   "metadata": {},
   "outputs": [
    {
     "name": "stdout",
     "output_type": "stream",
     "text": [
      "Record inserted\n",
      "Record inserted\n",
      "Record inserted\n",
      "Record inserted\n",
      "Record inserted\n",
      "Record inserted\n",
      "Record inserted\n"
     ]
    }
   ],
   "source": [
    "for i,row in data.iterrows():\n",
    "            sql = \"INSERT INTO prereq VALUES (%s,%s)\"\n",
    "            mycursor.execute(sql, tuple(row))\n",
    "            print(\"Record inserted\")\n",
    "            # the connection is not autocommitted by default, so we \n",
    "            # must commit to save our changes\n",
    "            mydb.commit()"
   ]
  },
  {
   "cell_type": "code",
   "execution_count": 40,
   "id": "1974536e-6d47-4be1-a3f4-b1cdab306b39",
   "metadata": {},
   "outputs": [],
   "source": [
    "query = \"SELECT * from prereq\"\n",
    "mycursor.execute(query)"
   ]
  },
  {
   "cell_type": "code",
   "execution_count": 41,
   "id": "1e485ed8-5b58-41b0-8f99-28bb937f9590",
   "metadata": {},
   "outputs": [
    {
     "name": "stdout",
     "output_type": "stream",
     "text": [
      "('Data1050', 'CSCI1270')\n",
      "('Data2050', 'Data1030')\n",
      "('Data1030', 'Data1050')\n",
      "('Data2050', 'Data1050')\n",
      "('Econ9999', 'Econ2180')\n",
      "('Econ2180', 'Phil1635')\n",
      "('Soc1873D', 'Soc1872O')\n"
     ]
    }
   ],
   "source": [
    "for x in mycursor:\n",
    "    print(x)"
   ]
  },
  {
   "cell_type": "code",
   "execution_count": 42,
   "id": "cfa75aea-866a-4194-8b4b-2bbfcb1007f2",
   "metadata": {},
   "outputs": [
    {
     "data": {
      "text/html": [
       "<div>\n",
       "<style scoped>\n",
       "    .dataframe tbody tr th:only-of-type {\n",
       "        vertical-align: middle;\n",
       "    }\n",
       "\n",
       "    .dataframe tbody tr th {\n",
       "        vertical-align: top;\n",
       "    }\n",
       "\n",
       "    .dataframe thead th {\n",
       "        text-align: right;\n",
       "    }\n",
       "</style>\n",
       "<table border=\"1\" class=\"dataframe\">\n",
       "  <thead>\n",
       "    <tr style=\"text-align: right;\">\n",
       "      <th></th>\n",
       "      <th>s_id</th>\n",
       "      <th>i_id</th>\n",
       "    </tr>\n",
       "  </thead>\n",
       "  <tbody>\n",
       "    <tr>\n",
       "      <th>0</th>\n",
       "      <td>1238</td>\n",
       "      <td>111</td>\n",
       "    </tr>\n",
       "    <tr>\n",
       "      <th>1</th>\n",
       "      <td>1333</td>\n",
       "      <td>111</td>\n",
       "    </tr>\n",
       "    <tr>\n",
       "      <th>2</th>\n",
       "      <td>2142</td>\n",
       "      <td>111</td>\n",
       "    </tr>\n",
       "    <tr>\n",
       "      <th>3</th>\n",
       "      <td>1645</td>\n",
       "      <td>117</td>\n",
       "    </tr>\n",
       "    <tr>\n",
       "      <th>4</th>\n",
       "      <td>1845</td>\n",
       "      <td>111</td>\n",
       "    </tr>\n",
       "  </tbody>\n",
       "</table>\n",
       "</div>"
      ],
      "text/plain": [
       "   s_id  i_id\n",
       "0  1238   111\n",
       "1  1333   111\n",
       "2  2142   111\n",
       "3  1645   117\n",
       "4  1845   111"
      ]
     },
     "execution_count": 42,
     "metadata": {},
     "output_type": "execute_result"
    }
   ],
   "source": [
    "#point the path to where in your hard drive you have stored the file advisor.csv\n",
    "data = pd.read_csv(\"advisor.csv\")\n",
    "data.head()"
   ]
  },
  {
   "cell_type": "code",
   "execution_count": 43,
   "id": "35cd5bba",
   "metadata": {},
   "outputs": [
    {
     "data": {
      "text/plain": [
       "s_id    int64\n",
       "i_id    int64\n",
       "dtype: object"
      ]
     },
     "execution_count": 43,
     "metadata": {},
     "output_type": "execute_result"
    }
   ],
   "source": [
    "data.dtypes"
   ]
  },
  {
   "cell_type": "code",
   "execution_count": 44,
   "id": "9d500262-b972-48f9-a72c-69878a7f8463",
   "metadata": {},
   "outputs": [
    {
     "name": "stdout",
     "output_type": "stream",
     "text": [
      "Record inserted\n",
      "Record inserted\n",
      "Record inserted\n",
      "Record inserted\n",
      "Record inserted\n",
      "Record inserted\n",
      "Record inserted\n",
      "Record inserted\n",
      "Record inserted\n"
     ]
    }
   ],
   "source": [
    "for i,row in data.iterrows():\n",
    "            sql = \"INSERT INTO advisor VALUES (%s,%s)\"\n",
    "            mycursor.execute(sql, tuple(row))\n",
    "            print(\"Record inserted\")\n",
    "            # the connection is not autocommitted by default, so we \n",
    "            # must commit to save our changes\n",
    "            mydb.commit()"
   ]
  },
  {
   "cell_type": "code",
   "execution_count": 45,
   "id": "362a795f-89f3-4ecb-b10a-df2e9b899fce",
   "metadata": {},
   "outputs": [],
   "source": [
    "query = \"SELECT * from advisor\"\n",
    "mycursor.execute(query)"
   ]
  },
  {
   "cell_type": "code",
   "execution_count": 46,
   "id": "b3582a87-6e9a-4afd-ab8a-b05606164828",
   "metadata": {},
   "outputs": [
    {
     "name": "stdout",
     "output_type": "stream",
     "text": [
      "(1238, 111)\n",
      "(1333, 111)\n",
      "(1845, 111)\n",
      "(2142, 111)\n",
      "(1970, 113)\n",
      "(1221, 115)\n",
      "(1455, 116)\n",
      "(2144, 116)\n",
      "(1645, 117)\n"
     ]
    }
   ],
   "source": [
    "for x in mycursor:\n",
    "    print(x)"
   ]
  },
  {
   "cell_type": "code",
   "execution_count": 47,
   "id": "52c54917-6710-4442-8c41-61d4c692dfdd",
   "metadata": {},
   "outputs": [
    {
     "data": {
      "text/html": [
       "<div>\n",
       "<style scoped>\n",
       "    .dataframe tbody tr th:only-of-type {\n",
       "        vertical-align: middle;\n",
       "    }\n",
       "\n",
       "    .dataframe tbody tr th {\n",
       "        vertical-align: top;\n",
       "    }\n",
       "\n",
       "    .dataframe thead th {\n",
       "        text-align: right;\n",
       "    }\n",
       "</style>\n",
       "<table border=\"1\" class=\"dataframe\">\n",
       "  <thead>\n",
       "    <tr style=\"text-align: right;\">\n",
       "      <th></th>\n",
       "      <th>building</th>\n",
       "      <th>room_no</th>\n",
       "      <th>capacity</th>\n",
       "    </tr>\n",
       "  </thead>\n",
       "  <tbody>\n",
       "    <tr>\n",
       "      <th>0</th>\n",
       "      <td>Sayles</td>\n",
       "      <td>128</td>\n",
       "      <td>100</td>\n",
       "    </tr>\n",
       "    <tr>\n",
       "      <th>1</th>\n",
       "      <td>Sayles</td>\n",
       "      <td>235</td>\n",
       "      <td>60</td>\n",
       "    </tr>\n",
       "    <tr>\n",
       "      <th>2</th>\n",
       "      <td>Franklin</td>\n",
       "      <td>212</td>\n",
       "      <td>90</td>\n",
       "    </tr>\n",
       "    <tr>\n",
       "      <th>3</th>\n",
       "      <td>Franklin</td>\n",
       "      <td>144</td>\n",
       "      <td>60</td>\n",
       "    </tr>\n",
       "    <tr>\n",
       "      <th>4</th>\n",
       "      <td>Angell</td>\n",
       "      <td>303</td>\n",
       "      <td>80</td>\n",
       "    </tr>\n",
       "  </tbody>\n",
       "</table>\n",
       "</div>"
      ],
      "text/plain": [
       "   building  room_no  capacity\n",
       "0    Sayles      128       100\n",
       "1    Sayles      235        60\n",
       "2  Franklin      212        90\n",
       "3  Franklin      144        60\n",
       "4    Angell      303        80"
      ]
     },
     "execution_count": 47,
     "metadata": {},
     "output_type": "execute_result"
    }
   ],
   "source": [
    "#point the path to where in your hard drive you have stored the file classroom.csv\n",
    "data = pd.read_csv(\"classroom.csv\")\n",
    "data.head()"
   ]
  },
  {
   "cell_type": "code",
   "execution_count": 48,
   "id": "fbfd85f4",
   "metadata": {},
   "outputs": [
    {
     "data": {
      "text/plain": [
       "building    object\n",
       "room_no      int64\n",
       "capacity     int64\n",
       "dtype: object"
      ]
     },
     "execution_count": 48,
     "metadata": {},
     "output_type": "execute_result"
    }
   ],
   "source": [
    "data.dtypes"
   ]
  },
  {
   "cell_type": "code",
   "execution_count": 49,
   "id": "52017482-8b54-4d09-a5ac-bf0f5bc2a16e",
   "metadata": {},
   "outputs": [
    {
     "name": "stdout",
     "output_type": "stream",
     "text": [
      "Record inserted\n",
      "Record inserted\n",
      "Record inserted\n",
      "Record inserted\n",
      "Record inserted\n",
      "Record inserted\n",
      "Record inserted\n",
      "Record inserted\n",
      "Record inserted\n",
      "Record inserted\n",
      "Record inserted\n",
      "Record inserted\n",
      "Record inserted\n",
      "Record inserted\n"
     ]
    }
   ],
   "source": [
    "for i,row in data.iterrows():\n",
    "            sql = \"INSERT INTO classroom VALUES (%s,%s,%s)\"\n",
    "            mycursor.execute(sql, tuple(row))\n",
    "            print(\"Record inserted\")\n",
    "            # the connection is not autocommitted by default, so we \n",
    "            # must commit to save our changes\n",
    "            mydb.commit()"
   ]
  },
  {
   "cell_type": "code",
   "execution_count": 50,
   "id": "2b5d5adf-4b99-4e2b-a583-2a49ebcdc98b",
   "metadata": {},
   "outputs": [],
   "source": [
    "query = \"SELECT * from classroom\"\n",
    "mycursor.execute(query)"
   ]
  },
  {
   "cell_type": "code",
   "execution_count": 51,
   "id": "feaea615-0f62-4431-a105-39b08e732579",
   "metadata": {},
   "outputs": [
    {
     "name": "stdout",
     "output_type": "stream",
     "text": [
      "('Angell', 303, 80)\n",
      "('Angell', 370, 20)\n",
      "('Angell', 405, 30)\n",
      "('CIT', 312, 200)\n",
      "('CIT', 320, 55)\n",
      "('CIT', 404, 80)\n",
      "('Franklin', 144, 60)\n",
      "('Franklin', 212, 90)\n",
      "('Pembroke', 111, 200)\n",
      "('Pembroke', 231, 70)\n",
      "('Sayles', 128, 100)\n",
      "('Sayles', 235, 60)\n",
      "('Skinner', 140, 80)\n",
      "('Watson', 90, 90)\n"
     ]
    }
   ],
   "source": [
    "for x in mycursor:\n",
    "    print(x)"
   ]
  },
  {
   "cell_type": "markdown",
   "id": "10230513",
   "metadata": {},
   "source": [
    "# Assignment Three"
   ]
  },
  {
   "cell_type": "markdown",
   "id": "e9a70cec",
   "metadata": {},
   "source": [
    "Part One: Create Tables"
   ]
  },
  {
   "cell_type": "code",
   "execution_count": 52,
   "id": "0ddfdac7",
   "metadata": {},
   "outputs": [],
   "source": [
    "mycursor = mydb.cursor()\n",
    "mycursor.execute(\"DROP TABLE IF EXISTS data1050F24.time_slot\")\n",
    "mycursor.execute('''\n",
    "                 CREATE TABLE data1050F24.time_slot (\n",
    "                 time_slot_id INT PRIMARY KEY,\n",
    "                 day VARCHAR(128) not null,\n",
    "                 start_time VARCHAR(5) not null,\n",
    "                 end_time VARCHAR(5) not null\n",
    "                 );'''\n",
    "                 )"
   ]
  },
  {
   "cell_type": "code",
   "execution_count": 53,
   "id": "be95d751",
   "metadata": {},
   "outputs": [],
   "source": [
    "mycursor = mydb.cursor()\n",
    "mycursor.execute(\"DROP TABLE IF EXISTS data1050F24.section\")\n",
    "mycursor.execute('''\n",
    "                 CREATE TABLE data1050F24.section (\n",
    "                 course_id VARCHAR(128),\n",
    "                 sec_id INT,\n",
    "                 semester VARCHAR(128),\n",
    "                 year INT,\n",
    "                 building VARCHAR(128),\n",
    "                 room_no INT,\n",
    "                 time_slot_id INT,\n",
    "                 check(sec_id > 0),\n",
    "                 PRIMARY KEY(course_id,sec_id,semester,year),\n",
    "                 foreign key(building,room_no) references data1050F24.classroom(building,room_no),\n",
    "                 foreign key(time_slot_id) references data1050F24.time_slot(time_slot_id)\n",
    "                 );'''\n",
    "                 )"
   ]
  },
  {
   "cell_type": "code",
   "execution_count": 54,
   "id": "38077d49",
   "metadata": {},
   "outputs": [],
   "source": [
    "mycursor = mydb.cursor()\n",
    "mycursor.execute(\"DROP TABLE IF EXISTS data1050F24.teaches\")\n",
    "mycursor.execute('''\n",
    "                 CREATE TABLE data1050F24.teaches (\n",
    "                 ID INT,\n",
    "                 course_id VARCHAR(128),\n",
    "                 sec_id INT,\n",
    "                 semester VARCHAR(128),\n",
    "                 year INT,\n",
    "                 PRIMARY KEY(ID,course_id,sec_id,semester,year),\n",
    "                 foreign key(ID) references data1050F24.instructor(ID),\n",
    "                 foreign key(course_id,sec_id,semester,year) references data1050F24.section(course_id,sec_id,semester,year)\n",
    "                 );'''\n",
    "                 )"
   ]
  },
  {
   "cell_type": "code",
   "execution_count": 55,
   "id": "11dc3341",
   "metadata": {},
   "outputs": [],
   "source": [
    "mycursor = mydb.cursor()\n",
    "mycursor.execute(\"DROP TABLE IF EXISTS data1050F24.takes\")\n",
    "mycursor.execute('''\n",
    "                 CREATE TABLE data1050F24.takes (\n",
    "                 ID INT,\n",
    "                 course_id VARCHAR(128),\n",
    "                 sec_id INT,\n",
    "                 semester VARCHAR(128),\n",
    "                 year INT,\n",
    "                 grade CHAR(1),\n",
    "                 PRIMARY KEY(ID,course_id,sec_id,semester,year),\n",
    "                 foreign key(ID) references data1050F24.student(ID),\n",
    "                 foreign key(course_id,sec_id,semester,year) references data1050F24.section(course_id,sec_id,semester,year)\n",
    "                 );'''\n",
    "                 )"
   ]
  },
  {
   "cell_type": "markdown",
   "id": "705f6acf",
   "metadata": {},
   "source": [
    "Part 2: Populate Tables"
   ]
  },
  {
   "cell_type": "code",
   "execution_count": 56,
   "id": "70b5ff9e",
   "metadata": {},
   "outputs": [],
   "source": [
    "import numpy as np"
   ]
  },
  {
   "cell_type": "code",
   "execution_count": 57,
   "id": "ba198742",
   "metadata": {},
   "outputs": [
    {
     "data": {
      "text/html": [
       "<div>\n",
       "<style scoped>\n",
       "    .dataframe tbody tr th:only-of-type {\n",
       "        vertical-align: middle;\n",
       "    }\n",
       "\n",
       "    .dataframe tbody tr th {\n",
       "        vertical-align: top;\n",
       "    }\n",
       "\n",
       "    .dataframe thead th {\n",
       "        text-align: right;\n",
       "    }\n",
       "</style>\n",
       "<table border=\"1\" class=\"dataframe\">\n",
       "  <thead>\n",
       "    <tr style=\"text-align: right;\">\n",
       "      <th></th>\n",
       "      <th>time_slot_id</th>\n",
       "      <th>day</th>\n",
       "      <th>start_time</th>\n",
       "      <th>end_time</th>\n",
       "    </tr>\n",
       "  </thead>\n",
       "  <tbody>\n",
       "    <tr>\n",
       "      <th>0</th>\n",
       "      <td>1</td>\n",
       "      <td>Monday</td>\n",
       "      <td>9:00</td>\n",
       "      <td>11:00</td>\n",
       "    </tr>\n",
       "    <tr>\n",
       "      <th>1</th>\n",
       "      <td>2</td>\n",
       "      <td>Monday</td>\n",
       "      <td>11:00</td>\n",
       "      <td>1:00</td>\n",
       "    </tr>\n",
       "    <tr>\n",
       "      <th>2</th>\n",
       "      <td>3</td>\n",
       "      <td>Monday</td>\n",
       "      <td>1:00</td>\n",
       "      <td>3:00</td>\n",
       "    </tr>\n",
       "    <tr>\n",
       "      <th>3</th>\n",
       "      <td>4</td>\n",
       "      <td>Monday</td>\n",
       "      <td>3:00</td>\n",
       "      <td>5:00</td>\n",
       "    </tr>\n",
       "    <tr>\n",
       "      <th>4</th>\n",
       "      <td>5</td>\n",
       "      <td>Tuesday</td>\n",
       "      <td>9:00</td>\n",
       "      <td>11:00</td>\n",
       "    </tr>\n",
       "  </tbody>\n",
       "</table>\n",
       "</div>"
      ],
      "text/plain": [
       "   time_slot_id      day start_time end_time\n",
       "0             1   Monday       9:00    11:00\n",
       "1             2   Monday      11:00     1:00\n",
       "2             3   Monday       1:00     3:00\n",
       "3             4   Monday       3:00     5:00\n",
       "4             5  Tuesday       9:00    11:00"
      ]
     },
     "execution_count": 57,
     "metadata": {},
     "output_type": "execute_result"
    }
   ],
   "source": [
    "#point the path to where in your hard drive you have stored the file time_slot.csv\n",
    "data = pd.read_csv(\"time_slot.csv\")\n",
    "data.head()"
   ]
  },
  {
   "cell_type": "code",
   "execution_count": 58,
   "id": "432ec87e",
   "metadata": {},
   "outputs": [
    {
     "data": {
      "text/plain": [
       "time_slot_id     int64\n",
       "day             object\n",
       "start_time      object\n",
       "end_time        object\n",
       "dtype: object"
      ]
     },
     "execution_count": 58,
     "metadata": {},
     "output_type": "execute_result"
    }
   ],
   "source": [
    "data.dtypes"
   ]
  },
  {
   "cell_type": "code",
   "execution_count": 59,
   "id": "6553925a",
   "metadata": {},
   "outputs": [
    {
     "name": "stdout",
     "output_type": "stream",
     "text": [
      "Record inserted\n",
      "Record inserted\n",
      "Record inserted\n",
      "Record inserted\n",
      "Record inserted\n",
      "Record inserted\n",
      "Record inserted\n",
      "Record inserted\n",
      "Record inserted\n",
      "Record inserted\n",
      "Record inserted\n",
      "Record inserted\n",
      "Record inserted\n",
      "Record inserted\n",
      "Record inserted\n",
      "Record inserted\n",
      "Record inserted\n",
      "Record inserted\n"
     ]
    }
   ],
   "source": [
    "for i,row in data.iterrows():\n",
    "            sql = \"INSERT INTO time_slot VALUES (%s,%s,%s, %s)\"\n",
    "            mycursor.execute(sql, tuple(row))\n",
    "            print(\"Record inserted\")\n",
    "            # the connection is not autocommitted by default, so we \n",
    "            # must commit to save our changes\n",
    "            mydb.commit()"
   ]
  },
  {
   "cell_type": "code",
   "execution_count": 60,
   "id": "249ab520",
   "metadata": {},
   "outputs": [],
   "source": [
    "query = \"SELECT * from time_slot\"\n",
    "mycursor.execute(query)"
   ]
  },
  {
   "cell_type": "code",
   "execution_count": 61,
   "id": "94eb7ac0",
   "metadata": {},
   "outputs": [
    {
     "name": "stdout",
     "output_type": "stream",
     "text": [
      "(1, 'Monday', '9:00', '11:00')\n",
      "(2, 'Monday', '11:00', '1:00')\n",
      "(3, 'Monday', '1:00', '3:00')\n",
      "(4, 'Monday', '3:00', '5:00')\n",
      "(5, 'Tuesday', '9:00', '11:00')\n",
      "(6, 'Tuesday', '11:00', '1:00')\n",
      "(7, 'Tuesday', '1:00', '3:00')\n",
      "(8, 'Wednesday', '9:00', '11:00')\n",
      "(9, 'Wednesday', '11:00', '1:00')\n",
      "(10, 'Wednesday', '1:00', '3:00')\n",
      "(11, 'Wednesday', '3:00', '5:00')\n",
      "(12, 'Thursday', '9:00', '11:00')\n",
      "(13, 'Thursday', '11:00', '1:00')\n",
      "(14, 'Thursday', '1:00', '3:00')\n",
      "(15, 'Friday', '9:00', '11:00')\n",
      "(16, 'Friday', '11:00', '1:00')\n",
      "(17, 'Friday', '1:00', '3:00')\n",
      "(18, 'Friday', '3:00', '5:00')\n"
     ]
    }
   ],
   "source": [
    "for x in mycursor:\n",
    "    print(x)"
   ]
  },
  {
   "cell_type": "code",
   "execution_count": 62,
   "id": "0673fff6",
   "metadata": {},
   "outputs": [
    {
     "data": {
      "text/html": [
       "<div>\n",
       "<style scoped>\n",
       "    .dataframe tbody tr th:only-of-type {\n",
       "        vertical-align: middle;\n",
       "    }\n",
       "\n",
       "    .dataframe tbody tr th {\n",
       "        vertical-align: top;\n",
       "    }\n",
       "\n",
       "    .dataframe thead th {\n",
       "        text-align: right;\n",
       "    }\n",
       "</style>\n",
       "<table border=\"1\" class=\"dataframe\">\n",
       "  <thead>\n",
       "    <tr style=\"text-align: right;\">\n",
       "      <th></th>\n",
       "      <th>course_id</th>\n",
       "      <th>sec_id</th>\n",
       "      <th>semester</th>\n",
       "      <th>year</th>\n",
       "      <th>building</th>\n",
       "      <th>room_no</th>\n",
       "      <th>time_slot_id</th>\n",
       "    </tr>\n",
       "  </thead>\n",
       "  <tbody>\n",
       "    <tr>\n",
       "      <th>0</th>\n",
       "      <td>Data1050</td>\n",
       "      <td>1</td>\n",
       "      <td>Fall</td>\n",
       "      <td>2023</td>\n",
       "      <td>Franklin</td>\n",
       "      <td>212</td>\n",
       "      <td>8</td>\n",
       "    </tr>\n",
       "    <tr>\n",
       "      <th>1</th>\n",
       "      <td>Data1050</td>\n",
       "      <td>1</td>\n",
       "      <td>Fall</td>\n",
       "      <td>2022</td>\n",
       "      <td>CIT</td>\n",
       "      <td>404</td>\n",
       "      <td>3</td>\n",
       "    </tr>\n",
       "    <tr>\n",
       "      <th>2</th>\n",
       "      <td>Data1030</td>\n",
       "      <td>1</td>\n",
       "      <td>Fall</td>\n",
       "      <td>2023</td>\n",
       "      <td>Franklin</td>\n",
       "      <td>212</td>\n",
       "      <td>6</td>\n",
       "    </tr>\n",
       "    <tr>\n",
       "      <th>3</th>\n",
       "      <td>Data1030</td>\n",
       "      <td>1</td>\n",
       "      <td>Fall</td>\n",
       "      <td>2022</td>\n",
       "      <td>Franklin</td>\n",
       "      <td>212</td>\n",
       "      <td>6</td>\n",
       "    </tr>\n",
       "    <tr>\n",
       "      <th>4</th>\n",
       "      <td>APMA1650</td>\n",
       "      <td>1</td>\n",
       "      <td>Spring</td>\n",
       "      <td>2023</td>\n",
       "      <td>Sayles</td>\n",
       "      <td>128</td>\n",
       "      <td>3</td>\n",
       "    </tr>\n",
       "  </tbody>\n",
       "</table>\n",
       "</div>"
      ],
      "text/plain": [
       "  course_id sec_id semester  year  building room_no time_slot_id\n",
       "0  Data1050      1     Fall  2023  Franklin     212            8\n",
       "1  Data1050      1     Fall  2022       CIT     404            3\n",
       "2  Data1030      1     Fall  2023  Franklin     212            6\n",
       "3  Data1030      1     Fall  2022  Franklin     212            6\n",
       "4  APMA1650      1   Spring  2023    Sayles     128            3"
      ]
     },
     "execution_count": 62,
     "metadata": {},
     "output_type": "execute_result"
    }
   ],
   "source": [
    "#point the path to where in your hard drive you have stored the file section.csv\n",
    "data = pd.read_csv(\"section.csv\", dtype = str) \n",
    "data.head()"
   ]
  },
  {
   "cell_type": "code",
   "execution_count": 63,
   "id": "6a1630b4",
   "metadata": {},
   "outputs": [
    {
     "data": {
      "text/plain": [
       "course_id       object\n",
       "sec_id          object\n",
       "semester        object\n",
       "year            object\n",
       "building        object\n",
       "room_no         object\n",
       "time_slot_id    object\n",
       "dtype: object"
      ]
     },
     "execution_count": 63,
     "metadata": {},
     "output_type": "execute_result"
    }
   ],
   "source": [
    "data.dtypes"
   ]
  },
  {
   "cell_type": "code",
   "execution_count": 64,
   "id": "d83247e1",
   "metadata": {},
   "outputs": [],
   "source": [
    "data = data.replace({np.nan: None})"
   ]
  },
  {
   "cell_type": "code",
   "execution_count": 65,
   "id": "60526948",
   "metadata": {},
   "outputs": [
    {
     "name": "stdout",
     "output_type": "stream",
     "text": [
      "Record inserted\n",
      "Record inserted\n",
      "Record inserted\n",
      "Record inserted\n",
      "Record inserted\n",
      "Record inserted\n",
      "Record inserted\n",
      "Record inserted\n",
      "Record inserted\n",
      "Record inserted\n",
      "Record inserted\n",
      "Record inserted\n",
      "Record inserted\n",
      "Record inserted\n"
     ]
    }
   ],
   "source": [
    "for i,row in data.iterrows():\n",
    "            sql = \"INSERT INTO section VALUES (%s,%s,%s,%s,%s,%s,%s)\"\n",
    "            mycursor.execute(sql, tuple(row))\n",
    "            print(\"Record inserted\")\n",
    "            # the connection is not autocommitted by default, so we \n",
    "            # must commit to save our changes\n",
    "            mydb.commit()"
   ]
  },
  {
   "cell_type": "code",
   "execution_count": 66,
   "id": "2ded6a6e",
   "metadata": {},
   "outputs": [],
   "source": [
    "query = \"SELECT * from section\"\n",
    "mycursor.execute(query)"
   ]
  },
  {
   "cell_type": "code",
   "execution_count": 67,
   "id": "5e59e3e8",
   "metadata": {},
   "outputs": [
    {
     "name": "stdout",
     "output_type": "stream",
     "text": [
      "('APMA1650', 1, 'Spring', 2023, 'Sayles', 128, 3)\n",
      "('CSCI1270', 1, 'Fall', 2023, 'CIT', 312, 6)\n",
      "('CSCI1270', 2, 'Fall', 2023, None, None, 6)\n",
      "('Data1030', 1, 'Fall', 2022, 'Franklin', 212, 6)\n",
      "('Data1030', 1, 'Fall', 2023, 'Franklin', 212, 6)\n",
      "('Data1050', 1, 'Fall', 2022, 'CIT', 404, 3)\n",
      "('Data1050', 1, 'Fall', 2023, 'Franklin', 212, 8)\n",
      "('Data1450', 1, 'Spring', 2024, None, None, None)\n",
      "('Data2050', 1, 'Fall', 2023, None, None, None)\n",
      "('Data2050', 1, 'Spring', 2023, None, None, None)\n",
      "('Data2050', 1, 'Summer', 2023, None, None, None)\n",
      "('Econ2180', 1, 'Spring', 2023, 'Skinner', 140, 7)\n",
      "('Psyc2134', 1, 'Fall', 2023, 'Angell', 405, 6)\n",
      "('Soc1872O', 1, 'Spring', 2023, 'Sayles', 128, 5)\n"
     ]
    }
   ],
   "source": [
    "for x in mycursor:\n",
    "    print(x)"
   ]
  },
  {
   "cell_type": "code",
   "execution_count": 68,
   "id": "42210114",
   "metadata": {},
   "outputs": [
    {
     "data": {
      "text/html": [
       "<div>\n",
       "<style scoped>\n",
       "    .dataframe tbody tr th:only-of-type {\n",
       "        vertical-align: middle;\n",
       "    }\n",
       "\n",
       "    .dataframe tbody tr th {\n",
       "        vertical-align: top;\n",
       "    }\n",
       "\n",
       "    .dataframe thead th {\n",
       "        text-align: right;\n",
       "    }\n",
       "</style>\n",
       "<table border=\"1\" class=\"dataframe\">\n",
       "  <thead>\n",
       "    <tr style=\"text-align: right;\">\n",
       "      <th></th>\n",
       "      <th>ID</th>\n",
       "      <th>course_id</th>\n",
       "      <th>sec_id</th>\n",
       "      <th>semester</th>\n",
       "      <th>year</th>\n",
       "    </tr>\n",
       "  </thead>\n",
       "  <tbody>\n",
       "    <tr>\n",
       "      <th>0</th>\n",
       "      <td>111</td>\n",
       "      <td>Data1050</td>\n",
       "      <td>1</td>\n",
       "      <td>Fall</td>\n",
       "      <td>2023</td>\n",
       "    </tr>\n",
       "    <tr>\n",
       "      <th>1</th>\n",
       "      <td>117</td>\n",
       "      <td>Data1050</td>\n",
       "      <td>1</td>\n",
       "      <td>Fall</td>\n",
       "      <td>2022</td>\n",
       "    </tr>\n",
       "    <tr>\n",
       "      <th>2</th>\n",
       "      <td>117</td>\n",
       "      <td>Data1030</td>\n",
       "      <td>1</td>\n",
       "      <td>Fall</td>\n",
       "      <td>2023</td>\n",
       "    </tr>\n",
       "    <tr>\n",
       "      <th>3</th>\n",
       "      <td>113</td>\n",
       "      <td>APMA1650</td>\n",
       "      <td>1</td>\n",
       "      <td>Spring</td>\n",
       "      <td>2023</td>\n",
       "    </tr>\n",
       "    <tr>\n",
       "      <th>4</th>\n",
       "      <td>112</td>\n",
       "      <td>CSCI1270</td>\n",
       "      <td>1</td>\n",
       "      <td>Fall</td>\n",
       "      <td>2023</td>\n",
       "    </tr>\n",
       "  </tbody>\n",
       "</table>\n",
       "</div>"
      ],
      "text/plain": [
       "    ID course_id  sec_id semester  year\n",
       "0  111  Data1050       1     Fall  2023\n",
       "1  117  Data1050       1     Fall  2022\n",
       "2  117  Data1030       1     Fall  2023\n",
       "3  113  APMA1650       1   Spring  2023\n",
       "4  112  CSCI1270       1     Fall  2023"
      ]
     },
     "execution_count": 68,
     "metadata": {},
     "output_type": "execute_result"
    }
   ],
   "source": [
    "#point the path to where in your hard drive you have stored the file teaches.csv\n",
    "data = pd.read_csv(\"teaches.csv\")\n",
    "data.head()"
   ]
  },
  {
   "cell_type": "code",
   "execution_count": 69,
   "id": "7b626d95",
   "metadata": {},
   "outputs": [
    {
     "data": {
      "text/plain": [
       "ID            int64\n",
       "course_id    object\n",
       "sec_id        int64\n",
       "semester     object\n",
       "year          int64\n",
       "dtype: object"
      ]
     },
     "execution_count": 69,
     "metadata": {},
     "output_type": "execute_result"
    }
   ],
   "source": [
    "data.dtypes"
   ]
  },
  {
   "cell_type": "code",
   "execution_count": 70,
   "id": "d450b676",
   "metadata": {},
   "outputs": [
    {
     "name": "stdout",
     "output_type": "stream",
     "text": [
      "Record inserted\n",
      "Record inserted\n",
      "Record inserted\n",
      "Record inserted\n",
      "Record inserted\n",
      "Record inserted\n",
      "Record inserted\n",
      "Record inserted\n",
      "Record inserted\n",
      "Record inserted\n",
      "Record inserted\n"
     ]
    }
   ],
   "source": [
    "for i,row in data.iterrows():\n",
    "            sql = \"INSERT INTO teaches VALUES (%s,%s,%s,%s,%s)\"\n",
    "            mycursor.execute(sql, tuple(row))\n",
    "            print(\"Record inserted\")\n",
    "            # the connection is not autocommitted by default, so we \n",
    "            # must commit to save our changes\n",
    "            mydb.commit()"
   ]
  },
  {
   "cell_type": "code",
   "execution_count": 71,
   "id": "1ccb0f76",
   "metadata": {},
   "outputs": [],
   "source": [
    "query = \"SELECT * from teaches\"\n",
    "mycursor.execute(query)"
   ]
  },
  {
   "cell_type": "code",
   "execution_count": 72,
   "id": "c463c169",
   "metadata": {},
   "outputs": [
    {
     "name": "stdout",
     "output_type": "stream",
     "text": [
      "(113, 'APMA1650', 1, 'Spring', 2023)\n",
      "(112, 'CSCI1270', 1, 'Fall', 2023)\n",
      "(118, 'CSCI1270', 2, 'Fall', 2023)\n",
      "(117, 'Data1030', 1, 'Fall', 2023)\n",
      "(117, 'Data1050', 1, 'Fall', 2022)\n",
      "(111, 'Data1050', 1, 'Fall', 2023)\n",
      "(111, 'Data2050', 1, 'Fall', 2023)\n",
      "(117, 'Data2050', 1, 'Spring', 2023)\n",
      "(111, 'Data2050', 1, 'Summer', 2023)\n",
      "(115, 'Psyc2134', 1, 'Fall', 2023)\n",
      "(119, 'Psyc2134', 1, 'Fall', 2023)\n"
     ]
    }
   ],
   "source": [
    "for x in mycursor:\n",
    "    print(x)"
   ]
  },
  {
   "cell_type": "code",
   "execution_count": 73,
   "id": "57427218",
   "metadata": {},
   "outputs": [
    {
     "data": {
      "text/html": [
       "<div>\n",
       "<style scoped>\n",
       "    .dataframe tbody tr th:only-of-type {\n",
       "        vertical-align: middle;\n",
       "    }\n",
       "\n",
       "    .dataframe tbody tr th {\n",
       "        vertical-align: top;\n",
       "    }\n",
       "\n",
       "    .dataframe thead th {\n",
       "        text-align: right;\n",
       "    }\n",
       "</style>\n",
       "<table border=\"1\" class=\"dataframe\">\n",
       "  <thead>\n",
       "    <tr style=\"text-align: right;\">\n",
       "      <th></th>\n",
       "      <th>ID</th>\n",
       "      <th>course_id</th>\n",
       "      <th>sec_id</th>\n",
       "      <th>semester</th>\n",
       "      <th>year</th>\n",
       "      <th>grade</th>\n",
       "    </tr>\n",
       "  </thead>\n",
       "  <tbody>\n",
       "    <tr>\n",
       "      <th>0</th>\n",
       "      <td>1238</td>\n",
       "      <td>Data1050</td>\n",
       "      <td>1</td>\n",
       "      <td>Fall</td>\n",
       "      <td>2022</td>\n",
       "      <td>A</td>\n",
       "    </tr>\n",
       "    <tr>\n",
       "      <th>1</th>\n",
       "      <td>1238</td>\n",
       "      <td>Data1030</td>\n",
       "      <td>1</td>\n",
       "      <td>Fall</td>\n",
       "      <td>2023</td>\n",
       "      <td>NaN</td>\n",
       "    </tr>\n",
       "    <tr>\n",
       "      <th>2</th>\n",
       "      <td>1333</td>\n",
       "      <td>Data1030</td>\n",
       "      <td>1</td>\n",
       "      <td>Fall</td>\n",
       "      <td>2022</td>\n",
       "      <td>A</td>\n",
       "    </tr>\n",
       "    <tr>\n",
       "      <th>3</th>\n",
       "      <td>1333</td>\n",
       "      <td>Data1050</td>\n",
       "      <td>1</td>\n",
       "      <td>Fall</td>\n",
       "      <td>2022</td>\n",
       "      <td>A</td>\n",
       "    </tr>\n",
       "    <tr>\n",
       "      <th>4</th>\n",
       "      <td>1333</td>\n",
       "      <td>APMA1650</td>\n",
       "      <td>1</td>\n",
       "      <td>Spring</td>\n",
       "      <td>2023</td>\n",
       "      <td>B</td>\n",
       "    </tr>\n",
       "  </tbody>\n",
       "</table>\n",
       "</div>"
      ],
      "text/plain": [
       "     ID course_id  sec_id semester  year grade\n",
       "0  1238  Data1050       1     Fall  2022     A\n",
       "1  1238  Data1030       1     Fall  2023   NaN\n",
       "2  1333  Data1030       1     Fall  2022     A\n",
       "3  1333  Data1050       1     Fall  2022     A\n",
       "4  1333  APMA1650       1   Spring  2023     B"
      ]
     },
     "execution_count": 73,
     "metadata": {},
     "output_type": "execute_result"
    }
   ],
   "source": [
    "#point the path to where in your hard drive you have stored the file takes.csv\n",
    "data = pd.read_csv(\"takes.csv\")\n",
    "data.head()"
   ]
  },
  {
   "cell_type": "code",
   "execution_count": 74,
   "id": "9cd95921",
   "metadata": {},
   "outputs": [
    {
     "data": {
      "text/plain": [
       "ID            int64\n",
       "course_id    object\n",
       "sec_id        int64\n",
       "semester     object\n",
       "year          int64\n",
       "grade        object\n",
       "dtype: object"
      ]
     },
     "execution_count": 74,
     "metadata": {},
     "output_type": "execute_result"
    }
   ],
   "source": [
    "data.dtypes"
   ]
  },
  {
   "cell_type": "code",
   "execution_count": 75,
   "id": "9d99ecfb",
   "metadata": {},
   "outputs": [],
   "source": [
    "data = data.replace({np.nan: None})"
   ]
  },
  {
   "cell_type": "code",
   "execution_count": 76,
   "id": "b5b2635f",
   "metadata": {},
   "outputs": [
    {
     "name": "stdout",
     "output_type": "stream",
     "text": [
      "Record inserted\n",
      "Record inserted\n",
      "Record inserted\n",
      "Record inserted\n",
      "Record inserted\n",
      "Record inserted\n",
      "Record inserted\n",
      "Record inserted\n",
      "Record inserted\n",
      "Record inserted\n",
      "Record inserted\n",
      "Record inserted\n",
      "Record inserted\n",
      "Record inserted\n",
      "Record inserted\n",
      "Record inserted\n",
      "Record inserted\n",
      "Record inserted\n",
      "Record inserted\n",
      "Record inserted\n",
      "Record inserted\n",
      "Record inserted\n",
      "Record inserted\n"
     ]
    }
   ],
   "source": [
    "for i,row in data.iterrows():\n",
    "            sql = \"INSERT INTO takes VALUES (%s,%s,%s,%s,%s,%s)\"\n",
    "            mycursor.execute(sql, tuple(row))\n",
    "            print(\"Record inserted\")\n",
    "            # the connection is not autocommitted by default, so we \n",
    "            # must commit to save our changes\n",
    "            mydb.commit()"
   ]
  },
  {
   "cell_type": "code",
   "execution_count": 77,
   "id": "446c14ac",
   "metadata": {},
   "outputs": [],
   "source": [
    "query = \"SELECT * from takes\"\n",
    "mycursor.execute(query)"
   ]
  },
  {
   "cell_type": "code",
   "execution_count": 78,
   "id": "53444fcb",
   "metadata": {},
   "outputs": [
    {
     "name": "stdout",
     "output_type": "stream",
     "text": [
      "(1122, 'CSCI1270', 2, 'Fall', 2023, None)\n",
      "(1122, 'Data1050', 1, 'Fall', 2023, None)\n",
      "(1238, 'CSCI1270', 1, 'Fall', 2023, None)\n",
      "(1238, 'Data1030', 1, 'Fall', 2023, None)\n",
      "(1238, 'Data1050', 1, 'Fall', 2022, 'A')\n",
      "(1333, 'APMA1650', 1, 'Spring', 2023, 'B')\n",
      "(1333, 'CSCI1270', 1, 'Fall', 2023, None)\n",
      "(1333, 'Data1030', 1, 'Fall', 2022, 'A')\n",
      "(1333, 'Data1050', 1, 'Fall', 2022, 'A')\n",
      "(1333, 'Data2050', 1, 'Fall', 2023, None)\n",
      "(1845, 'CSCI1270', 2, 'Fall', 2023, None)\n",
      "(1845, 'Data1050', 1, 'Fall', 2023, None)\n",
      "(1888, 'CSCI1270', 1, 'Fall', 2023, None)\n",
      "(1888, 'Data1050', 1, 'Fall', 2023, None)\n",
      "(1934, 'Data1050', 1, 'Fall', 2023, None)\n",
      "(1970, 'Data1050', 1, 'Fall', 2023, None)\n",
      "(1999, 'CSCI1270', 1, 'Fall', 2023, None)\n",
      "(1999, 'Data1050', 1, 'Fall', 2023, None)\n",
      "(2142, 'CSCI1270', 1, 'Fall', 2023, None)\n",
      "(2142, 'Data1050', 1, 'Fall', 2023, None)\n",
      "(2143, 'Data1050', 1, 'Fall', 2023, None)\n",
      "(2946, 'Data1050', 1, 'Fall', 2023, None)\n",
      "(3303, 'Data1050', 1, 'Fall', 2023, None)\n"
     ]
    }
   ],
   "source": [
    "for x in mycursor:\n",
    "    print(x)"
   ]
  },
  {
   "cell_type": "markdown",
   "id": "85b16c63",
   "metadata": {},
   "source": [
    "Part 3: SQL Query"
   ]
  },
  {
   "cell_type": "code",
   "execution_count": 79,
   "id": "cfb54194",
   "metadata": {},
   "outputs": [],
   "source": [
    "query = '''SELECT S.ID, S.name\n",
    "            FROM student S,takes T\n",
    "            WHERE S.id = T.id \n",
    "            AND S.dept_name = 'DSI'\n",
    "            AND T.course_id = 'Data1050'\n",
    "            AND T.semester = 'Fall'\n",
    "            AND T.year = 2023\n",
    "         '''\n",
    "mycursor.execute(query)"
   ]
  },
  {
   "cell_type": "code",
   "execution_count": 80,
   "id": "21f2237b",
   "metadata": {},
   "outputs": [
    {
     "name": "stdout",
     "output_type": "stream",
     "text": [
      "(1845, 'Jane Chen')\n",
      "(2142, 'Sabrina Zhou')\n"
     ]
    }
   ],
   "source": [
    "for x in mycursor: \n",
    "    print(x)"
   ]
  },
  {
   "cell_type": "markdown",
   "id": "c1c2c146",
   "metadata": {},
   "source": [
    "# Assignment Four"
   ]
  },
  {
   "cell_type": "markdown",
   "id": "a094ce6a",
   "metadata": {},
   "source": [
    "Question 1: SQL Query\n",
    "Find the id, title and section_id of all the courses being taught in Fall 2023."
   ]
  },
  {
   "cell_type": "code",
   "execution_count": 81,
   "id": "b3c1557d",
   "metadata": {},
   "outputs": [],
   "source": [
    "query = ''' SELECT C.course_id, C.title, S.sec_id\n",
    "            FROM course C\n",
    "            INNER JOIN section S\n",
    "            ON S.course_id = C.course_id\n",
    "            WHERE S.semester = 'Fall'\n",
    "            AND S.year = 2023;\n",
    "         '''\n",
    "mycursor.execute(query)"
   ]
  },
  {
   "cell_type": "code",
   "execution_count": 82,
   "id": "f4a604f6",
   "metadata": {},
   "outputs": [
    {
     "name": "stdout",
     "output_type": "stream",
     "text": [
      "('Data2050', 'Practicum', 1)\n",
      "('CSCI1270', 'Database Management Systems', 1)\n",
      "('CSCI1270', 'Database Management Systems', 2)\n",
      "('Data1030', 'Hands-on data science', 1)\n",
      "('Psyc2134', 'Intro to Cognitive Science', 1)\n",
      "('Data1050', 'Data Engineering', 1)\n"
     ]
    }
   ],
   "source": [
    "for x in mycursor: \n",
    "    print(x)"
   ]
  },
  {
   "cell_type": "markdown",
   "id": "15f9a7b2",
   "metadata": {},
   "source": [
    "Question 2: SQL Query Find the id, title, section_id, and instructor name of all courses being taught in Fall 2023"
   ]
  },
  {
   "cell_type": "code",
   "execution_count": 83,
   "id": "ccecf6fc",
   "metadata": {},
   "outputs": [],
   "source": [
    "query = ''' SELECT C.course_id, C.title, S.sec_id, I.name\n",
    "            FROM course C\n",
    "            INNER JOIN section S \n",
    "            ON S.course_id = C.course_id\n",
    "            INNER JOIN teaches T \n",
    "            ON T.course_id = S.course_id \n",
    "            AND T.sec_id = S.sec_id \n",
    "            AND T.semester = S.semester \n",
    "            AND T.year = S.year\n",
    "            INNER JOIN instructor I \n",
    "            ON T.ID = I.ID\n",
    "            WHERE S.semester = 'Fall'\n",
    "            AND S.year = 2023;\n",
    "         '''\n",
    "mycursor.execute(query)"
   ]
  },
  {
   "cell_type": "code",
   "execution_count": 84,
   "id": "408d98c0",
   "metadata": {},
   "outputs": [
    {
     "name": "stdout",
     "output_type": "stream",
     "text": [
      "('CSCI1270', 'Database Management Systems', 1, 'Ying Zheng')\n",
      "('CSCI1270', 'Database Management Systems', 2, 'Calista Holistic')\n",
      "('Data1030', 'Hands-on data science', 1, 'Carmen Herman')\n",
      "('Data1050', 'Data Engineering', 1, 'Joe Smith')\n",
      "('Data2050', 'Practicum', 1, 'Joe Smith')\n",
      "('Psyc2134', 'Intro to Cognitive Science', 1, 'Taylor Slow')\n",
      "('Psyc2134', 'Intro to Cognitive Science', 1, 'Rashid Irani')\n"
     ]
    }
   ],
   "source": [
    "for x in mycursor: \n",
    "    print(x)"
   ]
  },
  {
   "cell_type": "markdown",
   "id": "992a5c28",
   "metadata": {},
   "source": [
    "Question 3: Write a SQL instruction to change (i.e., update) the time_slot_id of all courses which are 6 to 2. You may not delete these and insert new ones; use the update command."
   ]
  },
  {
   "cell_type": "code",
   "execution_count": 85,
   "id": "470f8024",
   "metadata": {},
   "outputs": [],
   "source": [
    "query = '''     UPDATE section\n",
    "                SET time_slot_id = 2\n",
    "                WHERE time_slot_id = 6;\n",
    "        '''\n",
    "mycursor.execute(query)"
   ]
  },
  {
   "cell_type": "code",
   "execution_count": 86,
   "id": "66fbaca5",
   "metadata": {},
   "outputs": [],
   "source": [
    "for x in mycursor:\n",
    "    print(x)"
   ]
  },
  {
   "cell_type": "markdown",
   "id": "03736642",
   "metadata": {},
   "source": [
    "Question 4: Find the course id, title, section and start time of all courses taught in Fall 2022"
   ]
  },
  {
   "cell_type": "code",
   "execution_count": 87,
   "id": "4d36ec9f",
   "metadata": {},
   "outputs": [],
   "source": [
    "query = ''' SELECT C.course_id, C.title, S.sec_id,T.start_time\n",
    "            FROM course C\n",
    "            INNER JOIN section S\n",
    "            ON S.course_id = C.course_id\n",
    "            INNER JOIN time_slot T\n",
    "            ON s.time_slot_id = T.time_slot_id\n",
    "            WHERE S.semester = 'Fall'\n",
    "            AND S.year = 2022;\n",
    "         '''  \n",
    "mycursor.execute(query)"
   ]
  },
  {
   "cell_type": "code",
   "execution_count": 88,
   "id": "79d82486",
   "metadata": {},
   "outputs": [
    {
     "name": "stdout",
     "output_type": "stream",
     "text": [
      "('Data1030', 'Hands-on data science', 1, '11:00')\n",
      "('Data1050', 'Data Engineering', 1, '1:00')\n"
     ]
    }
   ],
   "source": [
    "for x in mycursor:\n",
    "    print(x)"
   ]
  },
  {
   "cell_type": "markdown",
   "id": "cd2dccae",
   "metadata": {},
   "source": [
    "Question 5: Write a SQL instruction so that all students with ID 1238 and 1333 who have a null grade in any course, have their grade changed to 'A'."
   ]
  },
  {
   "cell_type": "code",
   "execution_count": 89,
   "id": "de3197d8",
   "metadata": {},
   "outputs": [],
   "source": [
    "# query = ''' WITH temp_cred AS\n",
    "#              (SELECT credits\n",
    "#              FROM course C\n",
    "#              INNER JOIN takes T\n",
    "#              ON C.course_id = T.course_id\n",
    "#              WHERE T.ID IN (1238,1333))\n",
    "#              SELECT credits\n",
    "#              FROM temp_cred;\n",
    "#         '''"
   ]
  },
  {
   "cell_type": "code",
   "execution_count": 90,
   "id": "04b88012",
   "metadata": {},
   "outputs": [],
   "source": [
    "query = ''' UPDATE takes T\n",
    "            INNER JOIN student S\n",
    "            ON T.ID = S.ID\n",
    "            SET grade = 'A'\n",
    "            WHERE grade IS NULL\n",
    "            AND S.ID IN (1238,1333);\n",
    "        '''\n",
    "mycursor.execute(query)"
   ]
  },
  {
   "cell_type": "markdown",
   "id": "8c43780c",
   "metadata": {},
   "source": [
    "Question 6: After executing this instruction write a query to make appropriate changes to the tot_credit of those students (that is, increment it by the credits assigned to those courses where the grade was changed.)"
   ]
  },
  {
   "cell_type": "code",
   "execution_count": 91,
   "id": "8ae81474",
   "metadata": {},
   "outputs": [],
   "source": [
    "query = ''' SELECT tot_cred\n",
    "            FROM student\n",
    "            WHERE ID IN (1238,1333);\n",
    "        '''\n",
    "mycursor.execute(query) "
   ]
  },
  {
   "cell_type": "code",
   "execution_count": 92,
   "id": "c66a8e31",
   "metadata": {},
   "outputs": [
    {
     "name": "stdout",
     "output_type": "stream",
     "text": [
      "(4,)\n",
      "(7,)\n"
     ]
    }
   ],
   "source": [
    "for x in mycursor:\n",
    "    print(x)"
   ]
  },
  {
   "cell_type": "code",
   "execution_count": 93,
   "id": "b003e545",
   "metadata": {},
   "outputs": [],
   "source": [
    "query = ''' UPDATE student\n",
    "            SET tot_cred = 6\n",
    "            WHERE ID = 1238;\n",
    "        '''\n",
    "mycursor.execute(query)"
   ]
  },
  {
   "cell_type": "code",
   "execution_count": 94,
   "id": "3ad68495",
   "metadata": {},
   "outputs": [],
   "source": [
    "for x in mycursor:\n",
    "    print(x)"
   ]
  },
  {
   "cell_type": "code",
   "execution_count": 95,
   "id": "4077b1c8",
   "metadata": {},
   "outputs": [],
   "source": [
    "query = ''' UPDATE student\n",
    "            SET tot_cred = 9\n",
    "            WHERE ID = 1333;\n",
    "        '''\n",
    "mycursor.execute(query)"
   ]
  },
  {
   "cell_type": "code",
   "execution_count": 96,
   "id": "4fdf8198",
   "metadata": {},
   "outputs": [],
   "source": [
    "query = ''' SELECT tot_cred\n",
    "            FROM student\n",
    "            WHERE ID IN (1238,1333);\n",
    "        '''\n",
    "mycursor.execute(query)"
   ]
  },
  {
   "cell_type": "code",
   "execution_count": 97,
   "id": "430abb16",
   "metadata": {},
   "outputs": [
    {
     "name": "stdout",
     "output_type": "stream",
     "text": [
      "(6,)\n",
      "(9,)\n"
     ]
    }
   ],
   "source": [
    "for x in mycursor:\n",
    "    print(x)"
   ]
  },
  {
   "cell_type": "code",
   "execution_count": 98,
   "id": "08ac1917",
   "metadata": {},
   "outputs": [],
   "source": [
    "# query = ''' WITH temp_cred AS\n",
    "#              (SELECT credits\n",
    "#              FROM course C\n",
    "#              INNER JOIN takes T\n",
    "#              ON C.course_id = T.course_id\n",
    "#              WHERE T.ID IN (1238 AND T.course_id NOT IN ('Data1050')\n",
    "#              OR (1333 AND T.course_id NOT IN ('CSCI1270','Data2050'))\n",
    "\n",
    "#             SELECT *\n",
    "#             FROM temp_cred\n",
    "#             # UPDATE student\n",
    "#             # SET tot_cred = tot_cred + temp_cred\n",
    "#             # WHERE ID IN (1238,1333);\n",
    "# '''"
   ]
  },
  {
   "cell_type": "markdown",
   "id": "acc1935d",
   "metadata": {},
   "source": [
    "Question 7: After executing the instructions for 4 and 5, write a query to return the ID and names of those students who have the most credits."
   ]
  },
  {
   "cell_type": "code",
   "execution_count": 99,
   "id": "3387604a",
   "metadata": {},
   "outputs": [],
   "source": [
    "query = '''SELECT ID,name\n",
    "            FROM student\n",
    "            WHERE tot_cred IN \n",
    "                (SELECT MAX(tot_cred)\n",
    "                FROM student);\n",
    "        '''\n",
    "mycursor.execute(query) "
   ]
  },
  {
   "cell_type": "code",
   "execution_count": 100,
   "id": "d20b759f",
   "metadata": {},
   "outputs": [
    {
     "name": "stdout",
     "output_type": "stream",
     "text": [
      "(1221, 'Ivan Petrov')\n",
      "(1333, 'Mukesh Modi')\n",
      "(1645, 'Jane Doe')\n",
      "(2946, 'Steve Brown')\n"
     ]
    }
   ],
   "source": [
    "for x in mycursor:\n",
    "    print(x)"
   ]
  },
  {
   "cell_type": "markdown",
   "id": "3de9dc7c",
   "metadata": {},
   "source": [
    "# Assignment Five"
   ]
  },
  {
   "cell_type": "markdown",
   "id": "8e015bd2",
   "metadata": {},
   "source": [
    "1. Find the names of all students who have taken or are currently taking (in Fall' 23) Data 1050."
   ]
  },
  {
   "cell_type": "code",
   "execution_count": 101,
   "id": "894645b5",
   "metadata": {},
   "outputs": [],
   "source": [
    "query = ''' SELECT name\n",
    "            FROM student\n",
    "            INNER JOIN takes\n",
    "            ON takes.ID = student.ID\n",
    "            WHERE takes.course_id = 'Data1050';\n",
    "            '''\n",
    "mycursor.execute(query)"
   ]
  },
  {
   "cell_type": "code",
   "execution_count": 102,
   "id": "72d17a7e",
   "metadata": {},
   "outputs": [
    {
     "name": "stdout",
     "output_type": "stream",
     "text": [
      "('John Smith',)\n",
      "('Mukesh Modi',)\n",
      "('Julia Rodriguez',)\n",
      "('Jane Chen',)\n",
      "('Chuning Liu',)\n",
      "('Boris Pasternak',)\n",
      "('Stan Ambani',)\n",
      "('Peter Lynch',)\n",
      "('Sabrina Zhou',)\n",
      "('Maya Abdul',)\n",
      "('Steve Brown',)\n",
      "('Jane Lynch',)\n"
     ]
    }
   ],
   "source": [
    "for x in mycursor:\n",
    "    print(x)"
   ]
  },
  {
   "cell_type": "markdown",
   "id": "983fdc31",
   "metadata": {},
   "source": [
    "2. Find the names of students who have taken Data 1050 more than once. (This would also include students who are currently taking Data 1050 and have also taken it in a previous semester.)"
   ]
  },
  {
   "cell_type": "code",
   "execution_count": 123,
   "id": "7eccbf3f",
   "metadata": {},
   "outputs": [],
   "source": [
    "query = ''' SELECT student.name\n",
    "            FROM student\n",
    "            INNER JOIN takes\n",
    "            ON takes.ID = student.ID\n",
    "            WHERE takes.course_id = 'Data1050'\n",
    "            GROUP BY student.ID, student.name\n",
    "            HAVING COUNT(takes.course_id) > 1;\n",
    "'''\n",
    "mycursor.execute(query)"
   ]
  },
  {
   "cell_type": "code",
   "execution_count": 124,
   "id": "a6637f01",
   "metadata": {},
   "outputs": [],
   "source": [
    "for x in mycursor:\n",
    "    print(x)"
   ]
  },
  {
   "cell_type": "markdown",
   "id": "185d381a",
   "metadata": {},
   "source": [
    "3. For each department, find the total number of students who have taken classes offered by that department in Fall, 22. Do not include any department for which this total number is less than 2."
   ]
  },
  {
   "cell_type": "code",
   "execution_count": 105,
   "id": "c4d35707",
   "metadata": {},
   "outputs": [],
   "source": [
    "query = ''' SELECT COUNT(DISTINCT S.ID) AS student_count, D.dept_name\n",
    "            FROM department D\n",
    "            INNER JOIN student S\n",
    "            ON S.dept_name = D.dept_name\n",
    "            INNER JOIN takes T\n",
    "            ON T.ID = S.ID\n",
    "            INNER JOIN course C\n",
    "            ON T.course_id = C.course_id\n",
    "            WHERE T.semester = 'Fall'\n",
    "            AND T.year = 2022\n",
    "            GROUP BY D.dept_name\n",
    "            HAVING student_count >= 2;\n",
    "            '''\n",
    "mycursor.execute(query)"
   ]
  },
  {
   "cell_type": "code",
   "execution_count": 106,
   "id": "b28e908a",
   "metadata": {},
   "outputs": [
    {
     "name": "stdout",
     "output_type": "stream",
     "text": [
      "(2, 'DSI')\n"
     ]
    }
   ],
   "source": [
    "for x in mycursor:\n",
    "    print(x)"
   ]
  },
  {
   "cell_type": "markdown",
   "id": "28efd413",
   "metadata": {},
   "source": [
    "4. For each instructor,  output the name of the instructor and the total number of students they have taught in any section of any course. That is, the total number of students they have ever taught."
   ]
  },
  {
   "cell_type": "code",
   "execution_count": 107,
   "id": "5ba59193",
   "metadata": {},
   "outputs": [],
   "source": [
    "query = ''' SELECT name, COUNT(*) as students_taught\n",
    "            FROM instructor I\n",
    "            INNER JOIN teaches T\n",
    "            ON I.ID = T.ID\n",
    "            INNER JOIN section S\n",
    "            ON T.course_id = S.course_id \n",
    "            AND T.sec_id = S.sec_id \n",
    "            AND T.semester = S.semester \n",
    "            AND T.year = S.year\n",
    "            INNER JOIN takes K\n",
    "            ON K.course_id = S.course_id \n",
    "            AND K.sec_id = S.sec_id \n",
    "            AND K.semester = S.semester \n",
    "            AND K.year = S.year\n",
    "            '''"
   ]
  },
  {
   "cell_type": "code",
   "execution_count": null,
   "id": "dfd9eccd",
   "metadata": {},
   "outputs": [],
   "source": [
    "for x in mycursor:\n",
    "    print(x)"
   ]
  },
  {
   "cell_type": "markdown",
   "id": "3fd5c026",
   "metadata": {},
   "source": [
    "5. Find the id and names of instructors who have taught the least number of students."
   ]
  },
  {
   "cell_type": "markdown",
   "id": "3bd79836",
   "metadata": {},
   "source": [
    "# Add Foreign Key (No Longer Necessary)"
   ]
  },
  {
   "cell_type": "code",
   "execution_count": 108,
   "id": "f9d2146e",
   "metadata": {},
   "outputs": [],
   "source": [
    "# query = ('ALTER TABLE data1050F24.student ADD foreign key(dept_name) references data1050F24.department(dept_name)')\n",
    "#mycursor.execute(query)"
   ]
  },
  {
   "cell_type": "code",
   "execution_count": 109,
   "id": "3d86c8fc",
   "metadata": {},
   "outputs": [],
   "source": [
    "# query = ('ALTER TABLE data1050F24.instructor ADD foreign key(dept_name) references data1050F24.department(dept_name)')\n",
    "# mycursor.execute(query)"
   ]
  },
  {
   "cell_type": "code",
   "execution_count": 110,
   "id": "14954246-9c1e-43e2-a1d0-24749be94948",
   "metadata": {},
   "outputs": [],
   "source": [
    "#query = ('ALTER TABLE data1050F24.course ADD foreign key(dept_name) references data1050F24.department(dept_name)')\n",
    "#mycursor.execute(query)"
   ]
  },
  {
   "cell_type": "code",
   "execution_count": 111,
   "id": "1f43ba97-e102-4700-a46c-f621b974d76d",
   "metadata": {},
   "outputs": [],
   "source": [
    "#query = ('''ALTER TABLE data1050F24.prereq\n",
    "        #   ADD foreign key(course_id) references data1050F24.course(course_id),\n",
    "        #   ADD foreign key(prereq_id) references data1050F24.course(course_id)''')\n",
    "# mycursor.execute(query)"
   ]
  },
  {
   "cell_type": "code",
   "execution_count": 112,
   "id": "af5a44ab",
   "metadata": {},
   "outputs": [],
   "source": [
    "# query = ('''ALTER TABLE\n",
    "            # data1050F24.advisor ADD foreign key(s_id) references data1050F24.student(ID),\n",
    "            # ADD foreign key(i_id) references data1050F24.instructor(ID)''')\n",
    "# mycursor.execute(query)"
   ]
  },
  {
   "cell_type": "code",
   "execution_count": 113,
   "id": "88a7dbea",
   "metadata": {},
   "outputs": [],
   "source": [
    "# query = ('''ALTER TABLE\n",
    "            # data1050F24.section ADD foreign key(building) references data1050F24.classroom(building),\n",
    "            # ADD foreign key(room_no) references data1050F24.classroom(room_no),\n",
    "            # ADD foreign key(time_slot_id) references data1050F24.time_slot(time_slot_id)''')\n",
    "# mycursor.execute(query)"
   ]
  },
  {
   "cell_type": "code",
   "execution_count": 114,
   "id": "b83be178",
   "metadata": {},
   "outputs": [],
   "source": [
    "# query = ('''ALTER TABLE\n",
    "            # data1050F24.teaches ADD foreign key(ID) references data1050F24.instructor(ID),\n",
    "            # ADD foreign key(course_id) references data1050F24.section(course_id),\n",
    "            # ADD foreign key(sec_id) references data1050F24.section(sec_id),\n",
    "            # ADD foreign key(semester) references data1050F24.section(semester),\n",
    "            # ADD foreign key(year) references data1050F24.section(year)\n",
    "            # ''')\n",
    "# mycursor.execute(query)"
   ]
  },
  {
   "cell_type": "code",
   "execution_count": 115,
   "id": "c6c2a589",
   "metadata": {},
   "outputs": [],
   "source": [
    "# query = ('''ALTER TABLE\n",
    "            # data1050F24.takes ADD foreign key(ID) references data1050F24.student(ID),\n",
    "            # ADD foreign key(course_id) references data1050F24.section(course_id),\n",
    "            # ADD foreign key(sec_id) references data1050F24.section(sec_id),\n",
    "            # ADD foreign key(semester) references data1050F24.section(semester),\n",
    "            # ADD foreign key(year) references data1050F24.section(year)\n",
    "            # ''')\n",
    "# mycursor.execute(query)"
   ]
  }
 ],
 "metadata": {
  "kernelspec": {
   "display_name": "base",
   "language": "python",
   "name": "python3"
  },
  "language_info": {
   "codemirror_mode": {
    "name": "ipython",
    "version": 3
   },
   "file_extension": ".py",
   "mimetype": "text/x-python",
   "name": "python",
   "nbconvert_exporter": "python",
   "pygments_lexer": "ipython3",
   "version": "3.12.5"
  }
 },
 "nbformat": 4,
 "nbformat_minor": 5
}
