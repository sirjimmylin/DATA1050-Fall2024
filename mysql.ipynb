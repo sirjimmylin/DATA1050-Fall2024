{
 "cells": [
  {
   "cell_type": "code",
   "execution_count": 1,
   "id": "67afa701",
   "metadata": {},
   "outputs": [
    {
     "name": "stdout",
     "output_type": "stream",
     "text": [
      "Requirement already satisfied: mysql-connector-python in /opt/anaconda3/lib/python3.12/site-packages (9.0.0)\n",
      "Note: you may need to restart the kernel to use updated packages.\n"
     ]
    }
   ],
   "source": [
    "pip install mysql-connector-python"
   ]
  },
  {
   "cell_type": "code",
   "execution_count": 3,
   "id": "587fd263",
   "metadata": {},
   "outputs": [
    {
     "name": "stdout",
     "output_type": "stream",
     "text": [
      "<mysql.connector.connection_cext.CMySQLConnection object at 0x11093a9c0>\n",
      "CONNECTION SUCCESSFUL\n"
     ]
    }
   ],
   "source": [
    "import mysql.connector\n",
    " \n",
    "mydb = mysql.connector.connect(\n",
    "  host=\"localhost\",\n",
    "  user=\"root\",\n",
    "  password= \"7@u*sqJX\"   #REPLACE THIS WITH THE PASSWORD YOU SET\n",
    ")\n",
    " \n",
    "print(mydb)\n",
    " \n",
    "if mydb.is_connected():\n",
    "    print(\"CONNECTION SUCCESSFUL\")\n"
   ]
  },
  {
   "cell_type": "code",
   "execution_count": 5,
   "id": "5972ab2e",
   "metadata": {},
   "outputs": [
    {
     "ename": "DatabaseError",
     "evalue": "1007 (HY000): Can't create database 'data1050f24'; database exists",
     "output_type": "error",
     "traceback": [
      "\u001b[0;31m---------------------------------------------------------------------------\u001b[0m",
      "\u001b[0;31mMySQLInterfaceError\u001b[0m                       Traceback (most recent call last)",
      "File \u001b[0;32m/opt/anaconda3/lib/python3.12/site-packages/mysql/connector/connection_cext.py:705\u001b[0m, in \u001b[0;36mCMySQLConnection.cmd_query\u001b[0;34m(self, query, raw, buffered, raw_as_string)\u001b[0m\n\u001b[1;32m    704\u001b[0m         query \u001b[38;5;241m=\u001b[39m query\u001b[38;5;241m.\u001b[39mencode(\u001b[38;5;124m\"\u001b[39m\u001b[38;5;124mutf-8\u001b[39m\u001b[38;5;124m\"\u001b[39m)\n\u001b[0;32m--> 705\u001b[0m     \u001b[38;5;28mself\u001b[39m\u001b[38;5;241m.\u001b[39m_cmysql\u001b[38;5;241m.\u001b[39mquery(\n\u001b[1;32m    706\u001b[0m         query,\n\u001b[1;32m    707\u001b[0m         raw\u001b[38;5;241m=\u001b[39mraw,\n\u001b[1;32m    708\u001b[0m         buffered\u001b[38;5;241m=\u001b[39mbuffered,\n\u001b[1;32m    709\u001b[0m         raw_as_string\u001b[38;5;241m=\u001b[39mraw_as_string,\n\u001b[1;32m    710\u001b[0m         query_attrs\u001b[38;5;241m=\u001b[39m\u001b[38;5;28mself\u001b[39m\u001b[38;5;241m.\u001b[39mquery_attrs,\n\u001b[1;32m    711\u001b[0m     )\n\u001b[1;32m    712\u001b[0m \u001b[38;5;28;01mexcept\u001b[39;00m MySQLInterfaceError \u001b[38;5;28;01mas\u001b[39;00m err:\n",
      "\u001b[0;31mMySQLInterfaceError\u001b[0m: Can't create database 'data1050f24'; database exists",
      "\nThe above exception was the direct cause of the following exception:\n",
      "\u001b[0;31mDatabaseError\u001b[0m                             Traceback (most recent call last)",
      "Cell \u001b[0;32mIn[5], line 4\u001b[0m\n\u001b[1;32m      1\u001b[0m \u001b[38;5;66;03m#create a database\u001b[39;00m\n\u001b[1;32m      2\u001b[0m mycursor \u001b[38;5;241m=\u001b[39m mydb\u001b[38;5;241m.\u001b[39mcursor()\n\u001b[0;32m----> 4\u001b[0m mycursor\u001b[38;5;241m.\u001b[39mexecute(\u001b[38;5;124m\"\u001b[39m\u001b[38;5;124mCREATE DATABASE data1050f24\u001b[39m\u001b[38;5;124m\"\u001b[39m)\n",
      "File \u001b[0;32m/opt/anaconda3/lib/python3.12/site-packages/mysql/connector/cursor_cext.py:357\u001b[0m, in \u001b[0;36mCMySQLCursor.execute\u001b[0;34m(self, operation, params, multi)\u001b[0m\n\u001b[1;32m    352\u001b[0m             \u001b[38;5;28;01mraise\u001b[39;00m ProgrammingError(\n\u001b[1;32m    353\u001b[0m                 \u001b[38;5;124m\"\u001b[39m\u001b[38;5;124mNot all parameters were used in the SQL statement\u001b[39m\u001b[38;5;124m\"\u001b[39m\n\u001b[1;32m    354\u001b[0m             )\n\u001b[1;32m    356\u001b[0m \u001b[38;5;28;01mtry\u001b[39;00m:\n\u001b[0;32m--> 357\u001b[0m     result \u001b[38;5;241m=\u001b[39m \u001b[38;5;28mself\u001b[39m\u001b[38;5;241m.\u001b[39m_connection\u001b[38;5;241m.\u001b[39mcmd_query(\n\u001b[1;32m    358\u001b[0m         stmt,\n\u001b[1;32m    359\u001b[0m         raw\u001b[38;5;241m=\u001b[39m\u001b[38;5;28mself\u001b[39m\u001b[38;5;241m.\u001b[39m_raw,\n\u001b[1;32m    360\u001b[0m         buffered\u001b[38;5;241m=\u001b[39m\u001b[38;5;28mself\u001b[39m\u001b[38;5;241m.\u001b[39m_buffered,\n\u001b[1;32m    361\u001b[0m         raw_as_string\u001b[38;5;241m=\u001b[39m\u001b[38;5;28mself\u001b[39m\u001b[38;5;241m.\u001b[39m_raw_as_string,\n\u001b[1;32m    362\u001b[0m     )\n\u001b[1;32m    363\u001b[0m \u001b[38;5;28;01mexcept\u001b[39;00m MySQLInterfaceError \u001b[38;5;28;01mas\u001b[39;00m err:\n\u001b[1;32m    364\u001b[0m     \u001b[38;5;28;01mraise\u001b[39;00m get_mysql_exception(\n\u001b[1;32m    365\u001b[0m         msg\u001b[38;5;241m=\u001b[39merr\u001b[38;5;241m.\u001b[39mmsg, errno\u001b[38;5;241m=\u001b[39merr\u001b[38;5;241m.\u001b[39merrno, sqlstate\u001b[38;5;241m=\u001b[39merr\u001b[38;5;241m.\u001b[39msqlstate\n\u001b[1;32m    366\u001b[0m     ) \u001b[38;5;28;01mfrom\u001b[39;00m \u001b[38;5;21;01merr\u001b[39;00m\n",
      "File \u001b[0;32m/opt/anaconda3/lib/python3.12/site-packages/mysql/connector/opentelemetry/context_propagation.py:97\u001b[0m, in \u001b[0;36mwith_context_propagation.<locals>.wrapper\u001b[0;34m(cnx, *args, **kwargs)\u001b[0m\n\u001b[1;32m     95\u001b[0m \u001b[38;5;66;03m# pylint: disable=possibly-used-before-assignment\u001b[39;00m\n\u001b[1;32m     96\u001b[0m \u001b[38;5;28;01mif\u001b[39;00m \u001b[38;5;129;01mnot\u001b[39;00m OTEL_ENABLED \u001b[38;5;129;01mor\u001b[39;00m \u001b[38;5;129;01mnot\u001b[39;00m cnx\u001b[38;5;241m.\u001b[39motel_context_propagation:\n\u001b[0;32m---> 97\u001b[0m     \u001b[38;5;28;01mreturn\u001b[39;00m method(cnx, \u001b[38;5;241m*\u001b[39margs, \u001b[38;5;241m*\u001b[39m\u001b[38;5;241m*\u001b[39mkwargs)\n\u001b[1;32m     99\u001b[0m current_span \u001b[38;5;241m=\u001b[39m trace\u001b[38;5;241m.\u001b[39mget_current_span()\n\u001b[1;32m    100\u001b[0m tp_header \u001b[38;5;241m=\u001b[39m \u001b[38;5;28;01mNone\u001b[39;00m\n",
      "File \u001b[0;32m/opt/anaconda3/lib/python3.12/site-packages/mysql/connector/connection_cext.py:713\u001b[0m, in \u001b[0;36mCMySQLConnection.cmd_query\u001b[0;34m(self, query, raw, buffered, raw_as_string)\u001b[0m\n\u001b[1;32m    705\u001b[0m     \u001b[38;5;28mself\u001b[39m\u001b[38;5;241m.\u001b[39m_cmysql\u001b[38;5;241m.\u001b[39mquery(\n\u001b[1;32m    706\u001b[0m         query,\n\u001b[1;32m    707\u001b[0m         raw\u001b[38;5;241m=\u001b[39mraw,\n\u001b[0;32m   (...)\u001b[0m\n\u001b[1;32m    710\u001b[0m         query_attrs\u001b[38;5;241m=\u001b[39m\u001b[38;5;28mself\u001b[39m\u001b[38;5;241m.\u001b[39mquery_attrs,\n\u001b[1;32m    711\u001b[0m     )\n\u001b[1;32m    712\u001b[0m \u001b[38;5;28;01mexcept\u001b[39;00m MySQLInterfaceError \u001b[38;5;28;01mas\u001b[39;00m err:\n\u001b[0;32m--> 713\u001b[0m     \u001b[38;5;28;01mraise\u001b[39;00m get_mysql_exception(\n\u001b[1;32m    714\u001b[0m         err\u001b[38;5;241m.\u001b[39merrno, msg\u001b[38;5;241m=\u001b[39merr\u001b[38;5;241m.\u001b[39mmsg, sqlstate\u001b[38;5;241m=\u001b[39merr\u001b[38;5;241m.\u001b[39msqlstate\n\u001b[1;32m    715\u001b[0m     ) \u001b[38;5;28;01mfrom\u001b[39;00m \u001b[38;5;21;01merr\u001b[39;00m\n\u001b[1;32m    716\u001b[0m \u001b[38;5;28;01mexcept\u001b[39;00m \u001b[38;5;167;01mAttributeError\u001b[39;00m \u001b[38;5;28;01mas\u001b[39;00m err:\n\u001b[1;32m    717\u001b[0m     addr \u001b[38;5;241m=\u001b[39m (\n\u001b[1;32m    718\u001b[0m         \u001b[38;5;28mself\u001b[39m\u001b[38;5;241m.\u001b[39m_unix_socket \u001b[38;5;28;01mif\u001b[39;00m \u001b[38;5;28mself\u001b[39m\u001b[38;5;241m.\u001b[39m_unix_socket \u001b[38;5;28;01melse\u001b[39;00m \u001b[38;5;124mf\u001b[39m\u001b[38;5;124m\"\u001b[39m\u001b[38;5;132;01m{\u001b[39;00m\u001b[38;5;28mself\u001b[39m\u001b[38;5;241m.\u001b[39m_host\u001b[38;5;132;01m}\u001b[39;00m\u001b[38;5;124m:\u001b[39m\u001b[38;5;132;01m{\u001b[39;00m\u001b[38;5;28mself\u001b[39m\u001b[38;5;241m.\u001b[39m_port\u001b[38;5;132;01m}\u001b[39;00m\u001b[38;5;124m\"\u001b[39m\n\u001b[1;32m    719\u001b[0m     )\n",
      "\u001b[0;31mDatabaseError\u001b[0m: 1007 (HY000): Can't create database 'data1050f24'; database exists"
     ]
    }
   ],
   "source": [
    "#create a database\n",
    "mycursor = mydb.cursor()\n",
    "\n",
    "mycursor.execute(\"CREATE DATABASE data1050f24\")"
   ]
  },
  {
   "cell_type": "code",
   "execution_count": null,
   "id": "4dfe751f",
   "metadata": {},
   "outputs": [],
   "source": [
    "mycursor = mydb.cursor()\n",
    "mycursor.execute(\"SHOW DATABASES\")\n",
    "\n",
    "for x in mycursor:\n",
    "  print(x)"
   ]
  },
  {
   "cell_type": "code",
   "execution_count": null,
   "id": "3096b98c",
   "metadata": {},
   "outputs": [],
   "source": [
    "#create a table\n",
    "mycursor = mydb.cursor()\n",
    "mycursor.execute(\"CREATE TABLE data1050F24.department (\n",
    "dept_name VARCHAR(128) PRIMARY KEY,\n",
    "building VARCHAR(255),\n",
    "budget INT)\")"
   ]
  },
  {
   "cell_type": "code",
   "execution_count": null,
   "id": "81dc980e",
   "metadata": {},
   "outputs": [],
   "source": [
    "mycursor = mydb.cursor()\n",
    "mycursor.execute(\"CREATE TABLE data1050F24.student (\n",
    "ID VARCHAR(128) PRIMARY KEY,\n",
    "name VARCHAR(255) NOT NULL,\n",
    "dept_name VARCHAR(128),\n",
    "tot_cred INT),\n",
    "foreign key(dept_name) references data1050F24.department(dept_name)\")"
   ]
  },
  {
   "cell_type": "code",
   "execution_count": null,
   "id": "c998ddfa",
   "metadata": {},
   "outputs": [],
   "source": [
    "mycursor = mydb.cursor()\n",
    "mycursor.execute(\"CREATE TABLE data1050F24.instructor (\n",
    "ID VARCHAR(128) PRIMARY KEY,\n",
    "name VARCHAR(255) NOT NULL,\n",
    "dept_name VARCHAR(128),\n",
    "salary INT),\n",
    "foreign key(dept_name) references data1050F24.department(dept_name)\")"
   ]
  },
  {
   "cell_type": "code",
   "execution_count": null,
   "id": "eded7caa-5cd1-43d9-a3be-442125da6237",
   "metadata": {},
   "outputs": [],
   "source": [
    "mycursor = mydb.cursor()\n",
    "mycursor.execute(\"CREATE TABLE data1050F24.course (\n",
    "course_id VARCHAR(128) PRIMARY KEY,\n",
    "title VARCHAR(128) NOT NULL,\n",
    "dept_name VARCHAR(128),\n",
    "credits INT),\n",
    "foreign key(dept_name) references data1050F24.department(dept_name)\")"
   ]
  },
  {
   "cell_type": "code",
   "execution_count": null,
   "id": "a047bfb2-e6bf-4843-bca0-508a5d7ac64d",
   "metadata": {},
   "outputs": [],
   "source": [
    "mycursor = mydb.cursor()\n",
    "mycursor.execute(\"CREATE TABLE data1050F24.prereq (\n",
    "course_id VARCHAR(128) PRIMARY KEY,\n",
    "prereq_id INT PRIMARY KEY),\n",
    "foreign key(course_id) references data1050F24.course(course_id)\n",
    "foreign key(prereq_id) references data1050F24.course(course_id)\") "
   ]
  },
  {
   "cell_type": "code",
   "execution_count": null,
   "id": "ed000b14-9b23-46e0-9aa7-c1d3aa8119c9",
   "metadata": {},
   "outputs": [],
   "source": [
    "mycursor = mydb.cursor()\n",
    "mycursor.execute(\"CREATE TABLE data1050F24.advisor (\n",
    "s_id INT PRIMARY KEY,\n",
    "i_id INT),\n",
    "foreign key(s_id) references data1050F24.student(ID),\n",
    "foreign key(i_id) references data1050F24.instructor(ID)\")"
   ]
  },
  {
   "cell_type": "code",
   "execution_count": null,
   "id": "58bb6447-ccc4-4e1b-a045-1d5799761555",
   "metadata": {},
   "outputs": [],
   "source": [
    "mycursor = mydb.cursor()\n",
    "mycursor.execute(\"CREATE TABLE data1050F24.classroom (\n",
    "building VARCHAR(128) PRIMARY KEY,\n",
    "room_no INT PRIMARY KEY,\n",
    "capacity INT)\")"
   ]
  },
  {
   "cell_type": "code",
   "execution_count": null,
   "id": "f9d2146e",
   "metadata": {},
   "outputs": [],
   "source": [
    "#query = ('ALTER TABLE data1050F24.student ADD foreign key(dept_name) references data1050F24.department(dept_name)')\n",
    "#mycursor.execute(query)"
   ]
  },
  {
   "cell_type": "code",
   "execution_count": null,
   "id": "3d86c8fc",
   "metadata": {},
   "outputs": [],
   "source": [
    "#query = ('ALTER TABLE data1050F24.instructor ADD foreign key(dept_name) references data1050F24.department(dept_name)')\n",
    "#mycursor.execute(query)"
   ]
  },
  {
   "cell_type": "code",
   "execution_count": null,
   "id": "14954246-9c1e-43e2-a1d0-24749be94948",
   "metadata": {},
   "outputs": [],
   "source": [
    "#query = ('ALTER TABLE data1050F24.course ADD foreign key(dept_name) references data1050F24.department(dept_name)')\n",
    "#mycursor.execute(query)"
   ]
  },
  {
   "cell_type": "code",
   "execution_count": null,
   "id": "1f43ba97-e102-4700-a46c-f621b974d76d",
   "metadata": {},
   "outputs": [],
   "source": [
    "#query = ('ALTER TABLE data1050F24.prereq ADD foreign key(course_id) references data1050F24.course(course_id)')\n",
    "#mycursor.execute(query)"
   ]
  },
  {
   "cell_type": "code",
   "execution_count": null,
   "id": "94fa9cd7",
   "metadata": {},
   "outputs": [],
   "source": [
    "#connect to a specific database\n",
    "mydb = mysql.connector.connect(\n",
    "  host=\"localhost\",\n",
    "  user=\"root\",\n",
    "  password= \"7@u*sqJX\", #REPLACE THIS WITH YOUR PASSWORD \n",
    "  database = \"data1050f24\" #connecting to testDatabase\n",
    ")"
   ]
  },
  {
   "cell_type": "code",
   "execution_count": null,
   "id": "102afc4c",
   "metadata": {},
   "outputs": [],
   "source": [
    "mycursor = mydb.cursor()\n",
    "\n",
    "mycursor.execute(\"SHOW TABLES\")\n",
    "\n",
    "for x in mycursor:\n",
    "  print(x)"
   ]
  },
  {
   "cell_type": "code",
   "execution_count": null,
   "id": "a4598d05",
   "metadata": {},
   "outputs": [],
   "source": [
    "import pandas as pd"
   ]
  },
  {
   "cell_type": "code",
   "execution_count": null,
   "id": "5dc4631a",
   "metadata": {},
   "outputs": [],
   "source": [
    "pip install fsspec"
   ]
  },
  {
   "cell_type": "code",
   "execution_count": null,
   "id": "c4c44554",
   "metadata": {},
   "outputs": [],
   "source": [
    "#point the path to where in your hard drive you have stored the file department.csv\n",
    "data = pd.read_csv(\"department.csv\")"
   ]
  },
  {
   "cell_type": "code",
   "execution_count": null,
   "id": "c962e894",
   "metadata": {},
   "outputs": [],
   "source": [
    "for i,row in data.iterrows():\n",
    "            sql = \"INSERT INTO department VALUES (%s,%s,%s)\"\n",
    "            mycursor.execute(sql, tuple(row))\n",
    "            print(\"Record inserted\")\n",
    "            # the connection is not autocommitted by default, so we \n",
    "            # must commit to save our changes\n",
    "            mydb.commit()"
   ]
  },
  {
   "cell_type": "code",
   "execution_count": null,
   "id": "c69066fc",
   "metadata": {},
   "outputs": [],
   "source": [
    "query = \"SELECT * from department\"\n",
    "mycursor.execute(query)"
   ]
  },
  {
   "cell_type": "code",
   "execution_count": null,
   "id": "790c9712",
   "metadata": {},
   "outputs": [],
   "source": [
    "for x in mycursor:\n",
    "    print(x)"
   ]
  },
  {
   "cell_type": "code",
   "execution_count": null,
   "id": "99b95761",
   "metadata": {},
   "outputs": [],
   "source": [
    "#point the path to where in your hard drive you have stored the file student.csv\n",
    "data = pd.read_csv(\"student.csv\")\n",
    "data.head()"
   ]
  },
  {
   "cell_type": "code",
   "execution_count": null,
   "id": "e156e1c7",
   "metadata": {},
   "outputs": [],
   "source": [
    "data.dtypes"
   ]
  },
  {
   "cell_type": "code",
   "execution_count": null,
   "id": "a36efad2",
   "metadata": {},
   "outputs": [],
   "source": [
    "for i,row in data.iterrows():\n",
    "            sql = \"INSERT INTO student VALUES (%s,%s,%s, %s)\"\n",
    "            mycursor.execute(sql, tuple(row))\n",
    "            print(\"Record inserted\")\n",
    "            # the connection is not autocommitted by default, so we \n",
    "            # must commit to save our changes\n",
    "            mydb.commit()"
   ]
  },
  {
   "cell_type": "code",
   "execution_count": null,
   "id": "6f1733cb-a09f-4244-a991-6aa05a9013f7",
   "metadata": {},
   "outputs": [],
   "source": [
    "query = \"SELECT * from student\"\n",
    "mycursor.execute(query)"
   ]
  },
  {
   "cell_type": "code",
   "execution_count": null,
   "id": "988d2d04-a4d4-49c4-a982-3b80b87e4f8d",
   "metadata": {},
   "outputs": [],
   "source": [
    "for x in mycursor:\n",
    "    print(x)"
   ]
  },
  {
   "cell_type": "code",
   "execution_count": null,
   "id": "0477b8fd",
   "metadata": {},
   "outputs": [],
   "source": [
    "#point the path to where in your hard drive you have stored the file instructor.csv\n",
    "data = pd.read_csv(\"instructor.csv\")\n",
    "data.head()"
   ]
  },
  {
   "cell_type": "code",
   "execution_count": null,
   "id": "91c90f3c",
   "metadata": {},
   "outputs": [],
   "source": [
    "for i,row in data.iterrows():\n",
    "            sql = \"INSERT INTO instructor VALUES (%s,%s,%s, %s)\"\n",
    "            mycursor.execute(sql, tuple(row))\n",
    "            print(\"Record inserted\")\n",
    "            # the connection is not autocommitted by default, so we \n",
    "            # must commit to save our changes\n",
    "            mydb.commit()"
   ]
  },
  {
   "cell_type": "code",
   "execution_count": null,
   "id": "ff674965",
   "metadata": {},
   "outputs": [],
   "source": [
    "query = \"SELECT * from instructor\"\n",
    "mycursor.execute(query)"
   ]
  },
  {
   "cell_type": "code",
   "execution_count": null,
   "id": "33f7eee5",
   "metadata": {},
   "outputs": [],
   "source": [
    "for x in mycursor:\n",
    "    print(x)"
   ]
  },
  {
   "cell_type": "code",
   "execution_count": null,
   "id": "2816a4be-aff6-4947-890d-4e776680a9ec",
   "metadata": {},
   "outputs": [],
   "source": [
    "#point the path to where in your hard drive you have stored the file course.csv\n",
    "data = pd.read_csv(\"course.csv\")\n",
    "data.head()"
   ]
  },
  {
   "cell_type": "code",
   "execution_count": null,
   "id": "96fab4d3-6415-4b6d-b7fc-25e2b60a68c8",
   "metadata": {},
   "outputs": [],
   "source": [
    "for i,row in data.iterrows():\n",
    "            sql = \"INSERT INTO course VALUES (%s,%s,%s, %s)\"\n",
    "            mycursor.execute(sql, tuple(row))\n",
    "            print(\"Record inserted\")\n",
    "            # the connection is not autocommitted by default, so we \n",
    "            # must commit to save our changes\n",
    "            mydb.commit()"
   ]
  },
  {
   "cell_type": "code",
   "execution_count": null,
   "id": "6608e3f6-50d5-4807-822d-06883bb3ed64",
   "metadata": {},
   "outputs": [],
   "source": [
    "query = \"SELECT * from course\"\n",
    "mycursor.execute(query)"
   ]
  },
  {
   "cell_type": "code",
   "execution_count": null,
   "id": "4d0cb6b5-3f61-47f0-9c09-e52a4b24e87a",
   "metadata": {},
   "outputs": [],
   "source": [
    "for x in mycursor:\n",
    "    print(x)"
   ]
  },
  {
   "cell_type": "code",
   "execution_count": null,
   "id": "7ceafafa-a241-4a3b-8da8-0aff35e07048",
   "metadata": {},
   "outputs": [],
   "source": []
  },
  {
   "cell_type": "code",
   "execution_count": null,
   "id": "f42fd671-ba13-4fbd-9f6b-44e2f34b8716",
   "metadata": {},
   "outputs": [],
   "source": []
  },
  {
   "cell_type": "code",
   "execution_count": null,
   "id": "71bd261a-70c4-44e8-bb78-33456e43cdf7",
   "metadata": {},
   "outputs": [],
   "source": [
    "#point the path to where in your hard drive you have stored the file prereq.csv\n",
    "data = pd.read_csv(\"prereq.csv\")\n",
    "data.head()"
   ]
  },
  {
   "cell_type": "code",
   "execution_count": null,
   "id": "97262606-9162-4c81-86a5-55ae6be93ae0",
   "metadata": {},
   "outputs": [],
   "source": [
    "for i,row in data.iterrows():\n",
    "            sql = \"INSERT INTO prereq VALUES (%s,%s)\"\n",
    "            mycursor.execute(sql, tuple(row))\n",
    "            print(\"Record inserted\")\n",
    "            # the connection is not autocommitted by default, so we \n",
    "            # must commit to save our changes\n",
    "            mydb.commit()"
   ]
  },
  {
   "cell_type": "code",
   "execution_count": null,
   "id": "1974536e-6d47-4be1-a3f4-b1cdab306b39",
   "metadata": {},
   "outputs": [],
   "source": [
    "query = \"SELECT * from prereq\"\n",
    "mycursor.execute(query)"
   ]
  },
  {
   "cell_type": "code",
   "execution_count": null,
   "id": "1e485ed8-5b58-41b0-8f99-28bb937f9590",
   "metadata": {},
   "outputs": [],
   "source": [
    "for x in mycursor:\n",
    "    print(x)"
   ]
  },
  {
   "cell_type": "code",
   "execution_count": null,
   "id": "c1d8512a-00a3-47c7-b532-c88e34a9089e",
   "metadata": {},
   "outputs": [],
   "source": []
  },
  {
   "cell_type": "code",
   "execution_count": null,
   "id": "cfa75aea-866a-4194-8b4b-2bbfcb1007f2",
   "metadata": {},
   "outputs": [],
   "source": [
    "#point the path to where in your hard drive you have stored the file advisor.csv\n",
    "data = pd.read_csv(\"advisor.csv\")\n",
    "data.head()"
   ]
  },
  {
   "cell_type": "code",
   "execution_count": null,
   "id": "9d500262-b972-48f9-a72c-69878a7f8463",
   "metadata": {},
   "outputs": [],
   "source": [
    "for i,row in data.iterrows():\n",
    "            sql = \"INSERT INTO advisor VALUES (%s,%s)\"\n",
    "            mycursor.execute(sql, tuple(row))\n",
    "            print(\"Record inserted\")\n",
    "            # the connection is not autocommitted by default, so we \n",
    "            # must commit to save our changes\n",
    "            mydb.commit()"
   ]
  },
  {
   "cell_type": "code",
   "execution_count": null,
   "id": "362a795f-89f3-4ecb-b10a-df2e9b899fce",
   "metadata": {},
   "outputs": [],
   "source": [
    "query = \"SELECT * from advisor\"\n",
    "mycursor.execute(query)"
   ]
  },
  {
   "cell_type": "code",
   "execution_count": null,
   "id": "b3582a87-6e9a-4afd-ab8a-b05606164828",
   "metadata": {},
   "outputs": [],
   "source": [
    "for x in mycursor:\n",
    "    print(x)"
   ]
  },
  {
   "cell_type": "code",
   "execution_count": null,
   "id": "52c54917-6710-4442-8c41-61d4c692dfdd",
   "metadata": {},
   "outputs": [],
   "source": [
    "#point the path to where in your hard drive you have stored the file classroom.csv\n",
    "data = pd.read_csv(\"classroom.csv\")\n",
    "data.head()"
   ]
  },
  {
   "cell_type": "code",
   "execution_count": null,
   "id": "52017482-8b54-4d09-a5ac-bf0f5bc2a16e",
   "metadata": {},
   "outputs": [],
   "source": [
    "for i,row in data.iterrows():\n",
    "            sql = \"INSERT INTO classroom VALUES (%s,%s,%s)\"\n",
    "            mycursor.execute(sql, tuple(row))\n",
    "            print(\"Record inserted\")\n",
    "            # the connection is not autocommitted by default, so we \n",
    "            # must commit to save our changes\n",
    "            mydb.commit()"
   ]
  },
  {
   "cell_type": "code",
   "execution_count": null,
   "id": "2b5d5adf-4b99-4e2b-a583-2a49ebcdc98b",
   "metadata": {},
   "outputs": [],
   "source": [
    "query = \"SELECT * from classroom\"\n",
    "mycursor.execute(query)"
   ]
  },
  {
   "cell_type": "code",
   "execution_count": null,
   "id": "feaea615-0f62-4431-a105-39b08e732579",
   "metadata": {},
   "outputs": [],
   "source": [
    "for x in mycursor:\n",
    "    print(x)"
   ]
  },
  {
   "cell_type": "code",
   "execution_count": null,
   "id": "cd004308-5dc9-4367-a5ea-123e94583e53",
   "metadata": {},
   "outputs": [],
   "source": []
  },
  {
   "cell_type": "code",
   "execution_count": null,
   "id": "2843a0e8-29d4-4271-b082-1acf5da12a78",
   "metadata": {},
   "outputs": [],
   "source": []
  },
  {
   "cell_type": "code",
   "execution_count": null,
   "id": "d5b0385e-5e45-4baf-8277-85a4957f1779",
   "metadata": {},
   "outputs": [],
   "source": []
  }
 ],
 "metadata": {
  "kernelspec": {
   "display_name": "Python 3 (ipykernel)",
   "language": "python",
   "name": "python3"
  },
  "language_info": {
   "codemirror_mode": {
    "name": "ipython",
    "version": 3
   },
   "file_extension": ".py",
   "mimetype": "text/x-python",
   "name": "python",
   "nbconvert_exporter": "python",
   "pygments_lexer": "ipython3",
   "version": "3.12.4"
  }
 },
 "nbformat": 4,
 "nbformat_minor": 5
}
