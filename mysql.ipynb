{
 "cells": [
  {
   "cell_type": "code",
   "execution_count": null,
   "id": "67afa701",
   "metadata": {},
   "outputs": [],
   "source": [
    "pip install mysql-connector-python"
   ]
  },
  {
   "cell_type": "code",
   "execution_count": null,
   "id": "587fd263",
   "metadata": {},
   "outputs": [],
   "source": [
    "import mysql.connector\n",
    " \n",
    "mydb = mysql.connector.connect(\n",
    "  host=\"localhost\",\n",
    "  user=\"root\",\n",
    "  password= \"7@u*sqJX\"   #REPLACE THIS WITH THE PASSWORD YOU SET\n",
    ")\n",
    " \n",
    "print(mydb)\n",
    " \n",
    "if mydb.is_connected():\n",
    "    print(\"CONNECTION SUCCESSFUL\")\n"
   ]
  },
  {
   "cell_type": "code",
   "execution_count": null,
   "id": "5972ab2e",
   "metadata": {},
   "outputs": [],
   "source": [
    "#create a database\n",
    "mycursor = mydb.cursor()\n",
    "\n",
    "mycursor.execute(\"CREATE DATABASE data1050f24\")"
   ]
  },
  {
   "cell_type": "code",
   "execution_count": null,
   "id": "4dfe751f",
   "metadata": {},
   "outputs": [],
   "source": [
    "mycursor = mydb.cursor()\n",
    "mycursor.execute(\"SHOW DATABASES\")\n",
    "\n",
    "for x in mycursor:\n",
    "  print(x)"
   ]
  },
  {
   "cell_type": "code",
   "execution_count": null,
   "id": "3096b98c",
   "metadata": {},
   "outputs": [],
   "source": [
    "#create a table\n",
    "mycursor = mydb.cursor()\n",
    "mycursor.execute(\"CREATE TABLE data1050F24.department (\n",
    "dept_name VARCHAR(128) PRIMARY KEY,\n",
    "building VARCHAR(255),\n",
    "budget INT)\")"
   ]
  },
  {
   "cell_type": "code",
   "execution_count": null,
   "id": "81dc980e",
   "metadata": {},
   "outputs": [],
   "source": [
    "mycursor = mydb.cursor()\n",
    "mycursor.execute(\"CREATE TABLE data1050F24.student (\n",
    "ID VARCHAR(128) PRIMARY KEY,\n",
    "name VARCHAR(255) NOT NULL,\n",
    "dept_name VARCHAR(128),\n",
    "tot_cred INT),\n",
    "foreign key(dept_name) references data1050F24.department(dept_name)\")"
   ]
  },
  {
   "cell_type": "code",
   "execution_count": null,
   "id": "c998ddfa",
   "metadata": {},
   "outputs": [],
   "source": [
    "mycursor = mydb.cursor()\n",
    "mycursor.execute(\"CREATE TABLE data1050F24.instructor (\n",
    "ID VARCHAR(128) PRIMARY KEY,\n",
    "name VARCHAR(255) NOT NULL,\n",
    "dept_name VARCHAR(128),\n",
    "salary INT),\n",
    "foreign key(dept_name) references data1050F24.department(dept_name)\")"
   ]
  },
  {
   "cell_type": "code",
   "execution_count": null,
   "id": "eded7caa-5cd1-43d9-a3be-442125da6237",
   "metadata": {},
   "outputs": [],
   "source": [
    "mycursor = mydb.cursor()\n",
    "mycursor.execute(\"CREATE TABLE data1050F24.course (\n",
    "course_id VARCHAR(128) PRIMARY KEY,\n",
    "title VARCHAR(128) NOT NULL,\n",
    "dept_name VARCHAR(128),\n",
    "credits INT),\n",
    "foreign key(dept_name) references data1050F24.department(dept_name)\")"
   ]
  },
  {
   "cell_type": "code",
   "execution_count": null,
   "id": "a047bfb2-e6bf-4843-bca0-508a5d7ac64d",
   "metadata": {},
   "outputs": [],
   "source": [
    "mycursor = mydb.cursor()\n",
    "mycursor.execute(\"CREATE TABLE data1050F24.prereq (\n",
    "course_id VARCHAR(128) PRIMARY KEY,\n",
    "prereq_id INT PRIMARY KEY),\n",
    "foreign key(course_id) references data1050F24.course(course_id)\n",
    "foreign key(prereq_id) references data1050F24.course(course_id)\") "
   ]
  },
  {
   "cell_type": "code",
   "execution_count": null,
   "id": "ed000b14-9b23-46e0-9aa7-c1d3aa8119c9",
   "metadata": {},
   "outputs": [],
   "source": [
    "mycursor = mydb.cursor()\n",
    "mycursor.execute(\"CREATE TABLE data1050F24.advisor (\n",
    "s_id INT PRIMARY KEY,\n",
    "i_id INT),\n",
    "foreign key(s_id) references data1050F24.student(ID),\n",
    "foreign key(i_id) references data1050F24.instructor(ID)\")"
   ]
  },
  {
   "cell_type": "code",
   "execution_count": null,
   "id": "58bb6447-ccc4-4e1b-a045-1d5799761555",
   "metadata": {},
   "outputs": [],
   "source": [
    "mycursor = mydb.cursor()\n",
    "mycursor.execute(\"CREATE TABLE data1050F24.classroom (\n",
    "building VARCHAR(128) PRIMARY KEY,\n",
    "room_no INT PRIMARY KEY,\n",
    "capacity INT)\")"
   ]
  },
  {
   "cell_type": "code",
   "execution_count": null,
   "id": "f9d2146e",
   "metadata": {},
   "outputs": [],
   "source": [
    "#query = ('ALTER TABLE data1050F24.student ADD foreign key(dept_name) references data1050F24.department(dept_name)')\n",
    "#mycursor.execute(query)"
   ]
  },
  {
   "cell_type": "code",
   "execution_count": null,
   "id": "3d86c8fc",
   "metadata": {},
   "outputs": [],
   "source": [
    "#query = ('ALTER TABLE data1050F24.instructor ADD foreign key(dept_name) references data1050F24.department(dept_name)')\n",
    "#mycursor.execute(query)"
   ]
  },
  {
   "cell_type": "code",
   "execution_count": null,
   "id": "14954246-9c1e-43e2-a1d0-24749be94948",
   "metadata": {},
   "outputs": [],
   "source": [
    "#query = ('ALTER TABLE data1050F24.course ADD foreign key(dept_name) references data1050F24.department(dept_name)')\n",
    "#mycursor.execute(query)"
   ]
  },
  {
   "cell_type": "code",
   "execution_count": null,
   "id": "1f43ba97-e102-4700-a46c-f621b974d76d",
   "metadata": {},
   "outputs": [],
   "source": [
    "#query = ('ALTER TABLE data1050F24.prereq ADD foreign key(course_id) references data1050F24.course(course_id)')\n",
    "#mycursor.execute(query)"
   ]
  },
  {
   "cell_type": "code",
   "execution_count": null,
   "id": "94fa9cd7",
   "metadata": {},
   "outputs": [],
   "source": [
    "#connect to a specific database\n",
    "mydb = mysql.connector.connect(\n",
    "  host=\"localhost\",\n",
    "  user=\"root\",\n",
    "  password= \"7@u*sqJX\", #REPLACE THIS WITH YOUR PASSWORD \n",
    "  database = \"data1050f24\" #connecting to testDatabase\n",
    ")"
   ]
  },
  {
   "cell_type": "code",
   "execution_count": null,
   "id": "102afc4c",
   "metadata": {},
   "outputs": [],
   "source": [
    "mycursor = mydb.cursor()\n",
    "\n",
    "mycursor.execute(\"SHOW TABLES\")\n",
    "\n",
    "for x in mycursor:\n",
    "  print(x)"
   ]
  },
  {
   "cell_type": "code",
   "execution_count": null,
   "id": "a4598d05",
   "metadata": {},
   "outputs": [],
   "source": [
    "import pandas as pd"
   ]
  },
  {
   "cell_type": "code",
   "execution_count": null,
   "id": "5dc4631a",
   "metadata": {},
   "outputs": [],
   "source": [
    "pip install fsspec"
   ]
  },
  {
   "cell_type": "code",
   "execution_count": null,
   "id": "c4c44554",
   "metadata": {},
   "outputs": [],
   "source": [
    "#point the path to where in your hard drive you have stored the file department.csv\n",
    "data = pd.read_csv(\"department.csv\")"
   ]
  },
  {
   "cell_type": "code",
   "execution_count": null,
   "id": "c962e894",
   "metadata": {},
   "outputs": [],
   "source": [
    "for i,row in data.iterrows():\n",
    "            sql = \"INSERT INTO department VALUES (%s,%s,%s)\"\n",
    "            mycursor.execute(sql, tuple(row))\n",
    "            print(\"Record inserted\")\n",
    "            # the connection is not autocommitted by default, so we \n",
    "            # must commit to save our changes\n",
    "            mydb.commit()"
   ]
  },
  {
   "cell_type": "code",
   "execution_count": null,
   "id": "c69066fc",
   "metadata": {},
   "outputs": [],
   "source": [
    "query = \"SELECT * from department\"\n",
    "mycursor.execute(query)"
   ]
  },
  {
   "cell_type": "code",
   "execution_count": null,
   "id": "790c9712",
   "metadata": {},
   "outputs": [],
   "source": [
    "for x in mycursor:\n",
    "    print(x)"
   ]
  },
  {
   "cell_type": "code",
   "execution_count": null,
   "id": "99b95761",
   "metadata": {},
   "outputs": [],
   "source": [
    "#point the path to where in your hard drive you have stored the file student.csv\n",
    "data = pd.read_csv(\"student.csv\")\n",
    "data.head()"
   ]
  },
  {
   "cell_type": "code",
   "execution_count": null,
   "id": "e156e1c7",
   "metadata": {},
   "outputs": [],
   "source": [
    "data.dtypes"
   ]
  },
  {
   "cell_type": "code",
   "execution_count": null,
   "id": "a36efad2",
   "metadata": {},
   "outputs": [],
   "source": [
    "for i,row in data.iterrows():\n",
    "            sql = \"INSERT INTO student VALUES (%s,%s,%s, %s)\"\n",
    "            mycursor.execute(sql, tuple(row))\n",
    "            print(\"Record inserted\")\n",
    "            # the connection is not autocommitted by default, so we \n",
    "            # must commit to save our changes\n",
    "            mydb.commit()"
   ]
  },
  {
   "cell_type": "code",
   "execution_count": null,
   "id": "6f1733cb-a09f-4244-a991-6aa05a9013f7",
   "metadata": {},
   "outputs": [],
   "source": [
    "query = \"SELECT * from student\"\n",
    "mycursor.execute(query)"
   ]
  },
  {
   "cell_type": "code",
   "execution_count": null,
   "id": "988d2d04-a4d4-49c4-a982-3b80b87e4f8d",
   "metadata": {},
   "outputs": [],
   "source": [
    "for x in mycursor:\n",
    "    print(x)"
   ]
  },
  {
   "cell_type": "code",
   "execution_count": null,
   "id": "0477b8fd",
   "metadata": {},
   "outputs": [],
   "source": [
    "#point the path to where in your hard drive you have stored the file instructor.csv\n",
    "data = pd.read_csv(\"instructor.csv\")\n",
    "data.head()"
   ]
  },
  {
   "cell_type": "code",
   "execution_count": null,
   "id": "91c90f3c",
   "metadata": {},
   "outputs": [],
   "source": [
    "for i,row in data.iterrows():\n",
    "            sql = \"INSERT INTO instructor VALUES (%s,%s,%s, %s)\"\n",
    "            mycursor.execute(sql, tuple(row))\n",
    "            print(\"Record inserted\")\n",
    "            # the connection is not autocommitted by default, so we \n",
    "            # must commit to save our changes\n",
    "            mydb.commit()"
   ]
  },
  {
   "cell_type": "code",
   "execution_count": null,
   "id": "ff674965",
   "metadata": {},
   "outputs": [],
   "source": [
    "query = \"SELECT * from instructor\"\n",
    "mycursor.execute(query)"
   ]
  },
  {
   "cell_type": "code",
   "execution_count": null,
   "id": "33f7eee5",
   "metadata": {},
   "outputs": [],
   "source": [
    "for x in mycursor:\n",
    "    print(x)"
   ]
  },
  {
   "cell_type": "code",
   "execution_count": null,
   "id": "2816a4be-aff6-4947-890d-4e776680a9ec",
   "metadata": {},
   "outputs": [],
   "source": [
    "#point the path to where in your hard drive you have stored the file course.csv\n",
    "data = pd.read_csv(\"course.csv\")\n",
    "data.head()"
   ]
  },
  {
   "cell_type": "code",
   "execution_count": null,
   "id": "96fab4d3-6415-4b6d-b7fc-25e2b60a68c8",
   "metadata": {},
   "outputs": [],
   "source": [
    "for i,row in data.iterrows():\n",
    "            sql = \"INSERT INTO course VALUES (%s,%s,%s, %s)\"\n",
    "            mycursor.execute(sql, tuple(row))\n",
    "            print(\"Record inserted\")\n",
    "            # the connection is not autocommitted by default, so we \n",
    "            # must commit to save our changes\n",
    "            mydb.commit()"
   ]
  },
  {
   "cell_type": "code",
   "execution_count": null,
   "id": "6608e3f6-50d5-4807-822d-06883bb3ed64",
   "metadata": {},
   "outputs": [],
   "source": [
    "query = \"SELECT * from course\"\n",
    "mycursor.execute(query)"
   ]
  },
  {
   "cell_type": "code",
   "execution_count": null,
   "id": "4d0cb6b5-3f61-47f0-9c09-e52a4b24e87a",
   "metadata": {},
   "outputs": [],
   "source": [
    "for x in mycursor:\n",
    "    print(x)"
   ]
  },
  {
   "cell_type": "code",
   "execution_count": null,
   "id": "7ceafafa-a241-4a3b-8da8-0aff35e07048",
   "metadata": {},
   "outputs": [],
   "source": []
  },
  {
   "cell_type": "code",
   "execution_count": null,
   "id": "f42fd671-ba13-4fbd-9f6b-44e2f34b8716",
   "metadata": {},
   "outputs": [],
   "source": []
  },
  {
   "cell_type": "code",
   "execution_count": null,
   "id": "71bd261a-70c4-44e8-bb78-33456e43cdf7",
   "metadata": {},
   "outputs": [],
   "source": [
    "#point the path to where in your hard drive you have stored the file prereq.csv\n",
    "data = pd.read_csv(\"prereq.csv\")\n",
    "data.head()"
   ]
  },
  {
   "cell_type": "code",
   "execution_count": null,
   "id": "97262606-9162-4c81-86a5-55ae6be93ae0",
   "metadata": {},
   "outputs": [],
   "source": [
    "for i,row in data.iterrows():\n",
    "            sql = \"INSERT INTO prereq VALUES (%s,%s)\"\n",
    "            mycursor.execute(sql, tuple(row))\n",
    "            print(\"Record inserted\")\n",
    "            # the connection is not autocommitted by default, so we \n",
    "            # must commit to save our changes\n",
    "            mydb.commit()"
   ]
  },
  {
   "cell_type": "code",
   "execution_count": null,
   "id": "1974536e-6d47-4be1-a3f4-b1cdab306b39",
   "metadata": {},
   "outputs": [],
   "source": [
    "query = \"SELECT * from prereq\"\n",
    "mycursor.execute(query)"
   ]
  },
  {
   "cell_type": "code",
   "execution_count": null,
   "id": "1e485ed8-5b58-41b0-8f99-28bb937f9590",
   "metadata": {},
   "outputs": [],
   "source": [
    "for x in mycursor:\n",
    "    print(x)"
   ]
  },
  {
   "cell_type": "code",
   "execution_count": null,
   "id": "c1d8512a-00a3-47c7-b532-c88e34a9089e",
   "metadata": {},
   "outputs": [],
   "source": []
  },
  {
   "cell_type": "code",
   "execution_count": null,
   "id": "cfa75aea-866a-4194-8b4b-2bbfcb1007f2",
   "metadata": {},
   "outputs": [],
   "source": [
    "#point the path to where in your hard drive you have stored the file advisor.csv\n",
    "data = pd.read_csv(\"advisor.csv\")\n",
    "data.head()"
   ]
  },
  {
   "cell_type": "code",
   "execution_count": null,
   "id": "9d500262-b972-48f9-a72c-69878a7f8463",
   "metadata": {},
   "outputs": [],
   "source": [
    "for i,row in data.iterrows():\n",
    "            sql = \"INSERT INTO advisor VALUES (%s,%s)\"\n",
    "            mycursor.execute(sql, tuple(row))\n",
    "            print(\"Record inserted\")\n",
    "            # the connection is not autocommitted by default, so we \n",
    "            # must commit to save our changes\n",
    "            mydb.commit()"
   ]
  },
  {
   "cell_type": "code",
   "execution_count": null,
   "id": "362a795f-89f3-4ecb-b10a-df2e9b899fce",
   "metadata": {},
   "outputs": [],
   "source": [
    "query = \"SELECT * from advisor\"\n",
    "mycursor.execute(query)"
   ]
  },
  {
   "cell_type": "code",
   "execution_count": null,
   "id": "b3582a87-6e9a-4afd-ab8a-b05606164828",
   "metadata": {},
   "outputs": [],
   "source": [
    "for x in mycursor:\n",
    "    print(x)"
   ]
  },
  {
   "cell_type": "code",
   "execution_count": null,
   "id": "52c54917-6710-4442-8c41-61d4c692dfdd",
   "metadata": {},
   "outputs": [],
   "source": [
    "#point the path to where in your hard drive you have stored the file classroom.csv\n",
    "data = pd.read_csv(\"classroom.csv\")\n",
    "data.head()"
   ]
  },
  {
   "cell_type": "code",
   "execution_count": null,
   "id": "52017482-8b54-4d09-a5ac-bf0f5bc2a16e",
   "metadata": {},
   "outputs": [],
   "source": [
    "for i,row in data.iterrows():\n",
    "            sql = \"INSERT INTO classroom VALUES (%s,%s,%s)\"\n",
    "            mycursor.execute(sql, tuple(row))\n",
    "            print(\"Record inserted\")\n",
    "            # the connection is not autocommitted by default, so we \n",
    "            # must commit to save our changes\n",
    "            mydb.commit()"
   ]
  },
  {
   "cell_type": "code",
   "execution_count": null,
   "id": "2b5d5adf-4b99-4e2b-a583-2a49ebcdc98b",
   "metadata": {},
   "outputs": [],
   "source": [
    "query = \"SELECT * from classroom\"\n",
    "mycursor.execute(query)"
   ]
  },
  {
   "cell_type": "code",
   "execution_count": null,
   "id": "feaea615-0f62-4431-a105-39b08e732579",
   "metadata": {},
   "outputs": [],
   "source": [
    "for x in mycursor:\n",
    "    print(x)"
   ]
  },
  {
   "cell_type": "code",
   "execution_count": null,
   "id": "cd004308-5dc9-4367-a5ea-123e94583e53",
   "metadata": {},
   "outputs": [],
   "source": []
  },
  {
   "cell_type": "code",
   "execution_count": null,
   "id": "2843a0e8-29d4-4271-b082-1acf5da12a78",
   "metadata": {},
   "outputs": [],
   "source": []
  },
  {
   "cell_type": "code",
   "execution_count": null,
   "id": "d5b0385e-5e45-4baf-8277-85a4957f1779",
   "metadata": {},
   "outputs": [],
   "source": []
  }
 ],
 "metadata": {
  "kernelspec": {
   "display_name": "Python 3 (ipykernel)",
   "language": "python",
   "name": "python3"
  },
  "language_info": {
   "codemirror_mode": {
    "name": "ipython",
    "version": 3
   },
   "file_extension": ".py",
   "mimetype": "text/x-python",
   "name": "python",
   "nbconvert_exporter": "python",
   "pygments_lexer": "ipython3",
   "version": "3.12.4"
  }
 },
 "nbformat": 4,
 "nbformat_minor": 5
}
