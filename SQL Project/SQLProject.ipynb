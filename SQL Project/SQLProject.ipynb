{
 "cells": [
  {
   "cell_type": "markdown",
   "metadata": {},
   "source": [
    "# Data 1050 SQL Project"
   ]
  },
  {
   "cell_type": "markdown",
   "metadata": {},
   "source": [
    "## Create Database"
   ]
  },
  {
   "cell_type": "code",
   "execution_count": 74,
   "metadata": {},
   "outputs": [
    {
     "name": "stdout",
     "output_type": "stream",
     "text": [
      "Requirement already satisfied: mysql-connector-python in /opt/anaconda3/lib/python3.12/site-packages (9.0.0)\n",
      "Note: you may need to restart the kernel to use updated packages.\n"
     ]
    }
   ],
   "source": [
    "pip install mysql-connector-python # type: ignore"
   ]
  },
  {
   "cell_type": "code",
   "execution_count": 75,
   "metadata": {},
   "outputs": [
    {
     "name": "stdout",
     "output_type": "stream",
     "text": [
      "<mysql.connector.connection_cext.CMySQLConnection object at 0x13fc80e60>\n",
      "CONNECTION SUCCESSFUL\n"
     ]
    }
   ],
   "source": [
    "import mysql.connector # type: ignore\n",
    " \n",
    "mydb = mysql.connector.connect(\n",
    "  host=\"localhost\",\n",
    "  user=\"root\",\n",
    "  password= \"7@u*sqJX\"   #REPLACE THIS WITH THE PASSWORD YOU SET\n",
    ")\n",
    " \n",
    "print(mydb)\n",
    " \n",
    "if mydb.is_connected():\n",
    "    print(\"CONNECTION SUCCESSFUL\")"
   ]
  },
  {
   "cell_type": "code",
   "execution_count": 76,
   "metadata": {},
   "outputs": [],
   "source": [
    "#create a database\n",
    "mycursor = mydb.cursor()\n",
    "mycursor.execute(\"DROP DATABASE IF EXISTS data1050SQLProject\")\n",
    "mycursor.execute(\"CREATE DATABASE data1050SQLProject\")"
   ]
  },
  {
   "cell_type": "code",
   "execution_count": 77,
   "metadata": {},
   "outputs": [
    {
     "name": "stdout",
     "output_type": "stream",
     "text": [
      "('data1050f24',)\n",
      "('data1050SQLProject',)\n",
      "('information_schema',)\n",
      "('mysql',)\n",
      "('performance_schema',)\n",
      "('sys',)\n"
     ]
    }
   ],
   "source": [
    "mycursor = mydb.cursor()\n",
    "mycursor.execute(\"SHOW DATABASES\")\n",
    "\n",
    "for x in mycursor:\n",
    "  print(x)"
   ]
  },
  {
   "cell_type": "markdown",
   "metadata": {},
   "source": [
    "### Connecting to a database and showing tables"
   ]
  },
  {
   "cell_type": "code",
   "execution_count": 78,
   "metadata": {},
   "outputs": [],
   "source": [
    "#connect to a specific database\n",
    "mydb = mysql.connector.connect(\n",
    "  host=\"localhost\",\n",
    "  user=\"root\",\n",
    "  password= \"7@u*sqJX\", #REPLACE THIS WITH YOUR PASSWORD \n",
    "  database = \"data1050SQLProject\" #connecting to testDatabase\n",
    ")"
   ]
  },
  {
   "cell_type": "code",
   "execution_count": 79,
   "metadata": {},
   "outputs": [],
   "source": [
    "mycursor = mydb.cursor()\n",
    "\n",
    "mycursor.execute(\"SHOW TABLES\")\n",
    "\n",
    "for x in mycursor:\n",
    "  print(x)"
   ]
  },
  {
   "cell_type": "code",
   "execution_count": 80,
   "metadata": {},
   "outputs": [],
   "source": [
    "import pandas as pd # type: ignore"
   ]
  },
  {
   "cell_type": "code",
   "execution_count": 81,
   "metadata": {},
   "outputs": [
    {
     "name": "stdout",
     "output_type": "stream",
     "text": [
      "Requirement already satisfied: fsspec in /opt/anaconda3/lib/python3.12/site-packages (2024.6.1)\n",
      "Note: you may need to restart the kernel to use updated packages.\n"
     ]
    }
   ],
   "source": [
    "pip install fsspec # type: ignore"
   ]
  },
  {
   "cell_type": "markdown",
   "metadata": {},
   "source": [
    "### Add Tables"
   ]
  },
  {
   "cell_type": "code",
   "execution_count": 82,
   "metadata": {},
   "outputs": [],
   "source": [
    "#create a table\n",
    "mycursor = mydb.cursor()\n",
    "mycursor.execute(\"DROP TABLE IF EXISTS data1050SQLProject.physicians\")\n",
    "mycursor.execute('''CREATE TABLE data1050SQLProject.physicians ( \n",
    "                    ssn VARCHAR(128) PRIMARY KEY, \n",
    "                    name VARCHAR(128), \n",
    "                    primary_specialty VARCHAR(128),\n",
    "                    experience_years INT);''')"
   ]
  },
  {
   "cell_type": "code",
   "execution_count": 83,
   "metadata": {},
   "outputs": [],
   "source": [
    "#create a table\n",
    "mycursor = mydb.cursor()\n",
    "mycursor.execute(\"DROP TABLE IF EXISTS data1050SQLProject.patients\")\n",
    "mycursor.execute('''CREATE TABLE data1050SQLProject.patients ( \n",
    "                    ssn VARCHAR(128) PRIMARY KEY, \n",
    "                    name VARCHAR(128), \n",
    "                    address VARCHAR(128),\n",
    "                    birth_date DATETIME,\n",
    "                    physician_id VARCHAR(128),\n",
    "                    foreign key(physician_id) references data1050SQLProject.physicians(ssn));''')"
   ]
  },
  {
   "cell_type": "code",
   "execution_count": 84,
   "metadata": {},
   "outputs": [],
   "source": [
    "#create a table\n",
    "mycursor = mydb.cursor()\n",
    "mycursor.execute(\"DROP TABLE IF EXISTS data1050SQLProject.pharmacies\")\n",
    "mycursor.execute('''CREATE TABLE data1050SQLProject.pharmacies ( \n",
    "                    id INT PRIMARY KEY, \n",
    "                    name VARCHAR(128), \n",
    "                    address VARCHAR(128),\n",
    "                    phone VARCHAR(128));''')"
   ]
  },
  {
   "cell_type": "code",
   "execution_count": 85,
   "metadata": {},
   "outputs": [],
   "source": [
    "#create a table\n",
    "mycursor = mydb.cursor()\n",
    "mycursor.execute(\"DROP TABLE IF EXISTS data1050SQLProject.drugs\")\n",
    "mycursor.execute('''CREATE TABLE data1050SQLProject.drugs ( \n",
    "                    id VARCHAR(128), \n",
    "                    name VARCHAR(128) PRIMARY KEY);''')"
   ]
  },
  {
   "cell_type": "code",
   "execution_count": 86,
   "metadata": {},
   "outputs": [],
   "source": [
    "#create a table\n",
    "mycursor = mydb.cursor()\n",
    "mycursor.execute(\"DROP TABLE IF EXISTS data1050SQLProject.prescriptions\")\n",
    "mycursor.execute('''CREATE TABLE data1050SQLProject.prescriptions ( \n",
    "                    id INT PRIMARY KEY, \n",
    "                    patient_id VARCHAR(128), \n",
    "                    physician_id VARCHAR(128),\n",
    "                    drug_name VARCHAR(128),\n",
    "                    date DATE,\n",
    "                    quantity INT,\n",
    "                    unique(patient_id,drug_name),\n",
    "                    foreign key(patient_id) references data1050SQLProject.patients(ssn),\n",
    "                    foreign key(physician_id) references data1050SQLProject.physicians(ssn),\n",
    "                    foreign key(drug_name) references data1050SQLProject.drugs(name));''')"
   ]
  },
  {
   "cell_type": "code",
   "execution_count": 87,
   "metadata": {},
   "outputs": [],
   "source": [
    "#create a table\n",
    "mycursor = mydb.cursor()\n",
    "mycursor.execute(\"DROP TABLE IF EXISTS data1050SQLProject.adverse_interactions\")\n",
    "mycursor.execute('''CREATE TABLE data1050SQLProject.adverse_interactions ( \n",
    "                    drug_name VARCHAR(128), \n",
    "                    drug_name_2 VARCHAR(128), \n",
    "                    PRIMARY KEY (drug_name,drug_name_2),\n",
    "                    foreign key(drug_name) references data1050SQLProject.drugs(name));''')"
   ]
  },
  {
   "cell_type": "code",
   "execution_count": 88,
   "metadata": {},
   "outputs": [],
   "source": [
    "#create a table\n",
    "mycursor = mydb.cursor()\n",
    "mycursor.execute(\"DROP TABLE IF EXISTS data1050SQLProject.alerts\")\n",
    "mycursor.execute('''CREATE TABLE data1050SQLProject.alerts ( \n",
    "                    patient_id VARCHAR(128), \n",
    "                    physician_id VARCHAR(128), \n",
    "                    alert_date DATETIME,\n",
    "                    drug1 VARCHAR(128),\n",
    "                    drug2 VARCHAR(128),\n",
    "                    PRIMARY KEY (patient_id,physician_id,alert_date,drug1,drug2),\n",
    "                    foreign key(patient_id) references data1050SQLProject.patients(ssn),\n",
    "                    foreign key(physician_id) references data1050SQLProject.physicians(ssn),\n",
    "                    foreign key(patient_id,drug1) references data1050SQLProject.prescriptions(patient_id,drug_name),\n",
    "                    foreign key(patient_id,drug2) references data1050SQLProject.prescriptions(patient_id,drug_name)\n",
    "                 );''')"
   ]
  },
  {
   "cell_type": "code",
   "execution_count": 89,
   "metadata": {},
   "outputs": [],
   "source": [
    "mycursor = mydb.cursor()\n",
    "mycursor.execute(\"DROP TABLE IF EXISTS data1050SQLProject.pharmacy_fills\")\n",
    "mycursor.execute('''CREATE TABLE data1050SQLProject.pharmacy_fills ( \n",
    "                    prescription_id INT, \n",
    "                    pharmacy_id INT, \n",
    "                    date DATE,\n",
    "                    cost DECIMAL(5,2),\n",
    "                    PRIMARY KEY (prescription_id,pharmacy_id),\n",
    "                    foreign key(prescription_id) references data1050SQLProject.prescriptions(id),\n",
    "                    foreign key(pharmacy_id) references data1050SQLProject.pharmacies(id));''')"
   ]
  },
  {
   "cell_type": "code",
   "execution_count": 90,
   "metadata": {},
   "outputs": [],
   "source": [
    "mycursor = mydb.cursor()\n",
    "mycursor.execute(\"DROP TABLE IF EXISTS data1050SQLProject.companies\")\n",
    "mycursor.execute('''CREATE TABLE data1050SQLProject.companies ( \n",
    "                    id INT PRIMARY KEY, \n",
    "                    name VARCHAR(128), \n",
    "                    address VARCHAR(128),\n",
    "                    contact_phone VARCHAR(128),\n",
    "                    contact_name VARCHAR(128));''')"
   ]
  },
  {
   "cell_type": "code",
   "execution_count": 91,
   "metadata": {},
   "outputs": [],
   "source": [
    "mycursor = mydb.cursor()\n",
    "mycursor.execute(\"DROP TABLE IF EXISTS data1050SQLProject.contracts\")\n",
    "mycursor.execute('''CREATE TABLE data1050SQLProject.contracts ( \n",
    "                    id INT PRIMARY KEY, \n",
    "                    company_id INT,\n",
    "                    pharmacy_id INT,\n",
    "                    drug_name VARCHAR(128),\n",
    "                    dosage INT, \n",
    "                    quantity INT,\n",
    "                    date DATE,\n",
    "                    foreign key(company_id) references data1050SQLProject.companies(id),\n",
    "                    foreign key(pharmacy_id) references data1050SQLProject.pharmacies(id),\n",
    "                    foreign key(drug_name) references data1050SQLProject.drugs(name));''')"
   ]
  }
 ],
 "metadata": {
  "kernelspec": {
   "display_name": "base",
   "language": "python",
   "name": "python3"
  },
  "language_info": {
   "codemirror_mode": {
    "name": "ipython",
    "version": 3
   },
   "file_extension": ".py",
   "mimetype": "text/x-python",
   "name": "python",
   "nbconvert_exporter": "python",
   "pygments_lexer": "ipython3",
   "version": "3.12.5"
  }
 },
 "nbformat": 4,
 "nbformat_minor": 2
}
