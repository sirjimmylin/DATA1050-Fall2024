{
 "cells": [
  {
   "cell_type": "markdown",
   "metadata": {},
   "source": [
    "# Data 1050 SQL Project"
   ]
  },
  {
   "cell_type": "markdown",
   "metadata": {},
   "source": [
    "## Create Database"
   ]
  },
  {
   "cell_type": "code",
   "execution_count": 59,
   "metadata": {},
   "outputs": [
    {
     "name": "stdout",
     "output_type": "stream",
     "text": [
      "Requirement already satisfied: mysql-connector-python in /opt/anaconda3/lib/python3.12/site-packages (9.0.0)\n",
      "Note: you may need to restart the kernel to use updated packages.\n"
     ]
    }
   ],
   "source": [
    "pip install mysql-connector-python # type: ignore"
   ]
  },
  {
   "cell_type": "code",
   "execution_count": 60,
   "metadata": {},
   "outputs": [
    {
     "name": "stdout",
     "output_type": "stream",
     "text": [
      "<mysql.connector.connection_cext.CMySQLConnection object at 0x13fc9c1a0>\n",
      "CONNECTION SUCCESSFUL\n"
     ]
    }
   ],
   "source": [
    "import mysql.connector # type: ignore\n",
    " \n",
    "mydb = mysql.connector.connect(\n",
    "  host=\"localhost\",\n",
    "  user=\"root\",\n",
    "  password= \"7@u*sqJX\"   #REPLACE THIS WITH THE PASSWORD YOU SET\n",
    ")\n",
    " \n",
    "print(mydb)\n",
    " \n",
    "if mydb.is_connected():\n",
    "    print(\"CONNECTION SUCCESSFUL\")"
   ]
  },
  {
   "cell_type": "code",
   "execution_count": 61,
   "metadata": {},
   "outputs": [],
   "source": [
    "#create a database\n",
    "mycursor = mydb.cursor()\n",
    "mycursor.execute(\"DROP DATABASE IF EXISTS data1050SQLProject\")\n",
    "mycursor.execute(\"CREATE DATABASE data1050SQLProject\")"
   ]
  },
  {
   "cell_type": "code",
   "execution_count": 62,
   "metadata": {},
   "outputs": [
    {
     "name": "stdout",
     "output_type": "stream",
     "text": [
      "('data1050f24',)\n",
      "('data1050SQLProject',)\n",
      "('information_schema',)\n",
      "('mysql',)\n",
      "('performance_schema',)\n",
      "('sys',)\n"
     ]
    }
   ],
   "source": [
    "mycursor = mydb.cursor()\n",
    "mycursor.execute(\"SHOW DATABASES\")\n",
    "\n",
    "for x in mycursor:\n",
    "  print(x)"
   ]
  },
  {
   "cell_type": "markdown",
   "metadata": {},
   "source": [
    "### Connecting to a database and showing tables"
   ]
  },
  {
   "cell_type": "code",
   "execution_count": 63,
   "metadata": {},
   "outputs": [],
   "source": [
    "#connect to a specific database\n",
    "mydb = mysql.connector.connect(\n",
    "  host=\"localhost\",\n",
    "  user=\"root\",\n",
    "  password= \"7@u*sqJX\", #REPLACE THIS WITH YOUR PASSWORD \n",
    "  database = \"data1050SQLProject\" #connecting to testDatabase\n",
    ")"
   ]
  },
  {
   "cell_type": "code",
   "execution_count": 64,
   "metadata": {},
   "outputs": [],
   "source": [
    "mycursor = mydb.cursor()\n",
    "\n",
    "mycursor.execute(\"SHOW TABLES\")\n",
    "\n",
    "for x in mycursor:\n",
    "  print(x)"
   ]
  },
  {
   "cell_type": "code",
   "execution_count": 65,
   "metadata": {},
   "outputs": [],
   "source": [
    "import pandas as pd # type: ignore"
   ]
  },
  {
   "cell_type": "code",
   "execution_count": 66,
   "metadata": {},
   "outputs": [
    {
     "name": "stdout",
     "output_type": "stream",
     "text": [
      "Requirement already satisfied: fsspec in /opt/anaconda3/lib/python3.12/site-packages (2024.6.1)\n",
      "Note: you may need to restart the kernel to use updated packages.\n"
     ]
    }
   ],
   "source": [
    "pip install fsspec # type: ignore"
   ]
  },
  {
   "cell_type": "markdown",
   "metadata": {},
   "source": [
    "### Add Tables"
   ]
  },
  {
   "cell_type": "code",
   "execution_count": 67,
   "metadata": {},
   "outputs": [],
   "source": [
    "#create a table\n",
    "mycursor = mydb.cursor()\n",
    "mycursor.execute(\"DROP TABLE IF EXISTS data1050SQLProject.physicians\")\n",
    "mycursor.execute('''CREATE TABLE data1050SQLProject.physicians ( \n",
    "                    ssn VARCHAR(128) PRIMARY KEY, \n",
    "                    name VARCHAR(128), \n",
    "                    primary_specialty VARCHAR(128),\n",
    "                    experience_years INT);''')"
   ]
  },
  {
   "cell_type": "code",
   "execution_count": 68,
   "metadata": {},
   "outputs": [],
   "source": [
    "#create a table\n",
    "mycursor = mydb.cursor()\n",
    "mycursor.execute(\"DROP TABLE IF EXISTS data1050SQLProject.patients\")\n",
    "mycursor.execute('''CREATE TABLE data1050SQLProject.patients ( \n",
    "                    ssn VARCHAR(128) PRIMARY KEY, \n",
    "                    name VARCHAR(128), \n",
    "                    address VARCHAR(128),\n",
    "                    birth_date DATETIME,\n",
    "                    physician_id VARCHAR(128),\n",
    "                    foreign key(physician_id) references data1050SQLProject.physicians(ssn));''')"
   ]
  },
  {
   "cell_type": "code",
   "execution_count": 69,
   "metadata": {},
   "outputs": [],
   "source": [
    "#create a table\n",
    "mycursor = mydb.cursor()\n",
    "mycursor.execute(\"DROP TABLE IF EXISTS data1050SQLProject.pharmacies\")\n",
    "mycursor.execute('''CREATE TABLE data1050SQLProject.pharmacies ( \n",
    "                    id INT PRIMARY KEY, \n",
    "                    name VARCHAR(128), \n",
    "                    address VARCHAR(128),\n",
    "                    phone VARCHAR(128));''')"
   ]
  },
  {
   "cell_type": "code",
   "execution_count": 70,
   "metadata": {},
   "outputs": [],
   "source": [
    "#create a table\n",
    "mycursor = mydb.cursor()\n",
    "mycursor.execute(\"DROP TABLE IF EXISTS data1050SQLProject.drugs\")\n",
    "mycursor.execute('''CREATE TABLE data1050SQLProject.drugs ( \n",
    "                    id VARCHAR(128), \n",
    "                    name VARCHAR(128) PRIMARY KEY);''')"
   ]
  },
  {
   "cell_type": "code",
   "execution_count": 71,
   "metadata": {},
   "outputs": [],
   "source": [
    "#create a table\n",
    "mycursor = mydb.cursor()\n",
    "mycursor.execute(\"DROP TABLE IF EXISTS data1050SQLProject.prescriptions\")\n",
    "mycursor.execute('''CREATE TABLE data1050SQLProject.prescriptions ( \n",
    "                    id INT PRIMARY KEY, \n",
    "                    patient_id VARCHAR(128), \n",
    "                    physician_id VARCHAR(128),\n",
    "                    drug_name VARCHAR(128),\n",
    "                    date DATE,\n",
    "                    quantity INT,\n",
    "                    foreign key(patient_id) references data1050SQLProject.patients(ssn),\n",
    "                    foreign key(physician_id) references data1050SQLProject.physicians(ssn),\n",
    "                    foreign key(drug_name) references data1050SQLProject.drugs(name));''')"
   ]
  },
  {
   "cell_type": "code",
   "execution_count": 72,
   "metadata": {},
   "outputs": [],
   "source": [
    "#create a table\n",
    "mycursor = mydb.cursor()\n",
    "mycursor.execute(\"DROP TABLE IF EXISTS data1050SQLProject.adverse_interactions\")\n",
    "mycursor.execute('''CREATE TABLE data1050SQLProject.adverse_interactions ( \n",
    "                    drug_name VARCHAR(128), \n",
    "                    drug_name_2 VARCHAR(128), \n",
    "                    PRIMARY KEY (drug_name,drug_name_2),\n",
    "                    foreign key(drug_name) references data1050SQLProject.drugs(name));''')"
   ]
  },
  {
   "cell_type": "code",
   "execution_count": 73,
   "metadata": {},
   "outputs": [
    {
     "ename": "DatabaseError",
     "evalue": "1822 (HY000): Failed to add the foreign key constraint. Missing index for constraint 'alerts_ibfk_3' in the referenced table 'prescriptions'",
     "output_type": "error",
     "traceback": [
      "\u001b[0;31m---------------------------------------------------------------------------\u001b[0m",
      "\u001b[0;31mMySQLInterfaceError\u001b[0m                       Traceback (most recent call last)",
      "File \u001b[0;32m/opt/anaconda3/lib/python3.12/site-packages/mysql/connector/connection_cext.py:705\u001b[0m, in \u001b[0;36mCMySQLConnection.cmd_query\u001b[0;34m(self, query, raw, buffered, raw_as_string)\u001b[0m\n\u001b[1;32m    704\u001b[0m         query \u001b[38;5;241m=\u001b[39m query\u001b[38;5;241m.\u001b[39mencode(\u001b[38;5;124m\"\u001b[39m\u001b[38;5;124mutf-8\u001b[39m\u001b[38;5;124m\"\u001b[39m)\n\u001b[0;32m--> 705\u001b[0m     \u001b[38;5;28mself\u001b[39m\u001b[38;5;241m.\u001b[39m_cmysql\u001b[38;5;241m.\u001b[39mquery(\n\u001b[1;32m    706\u001b[0m         query,\n\u001b[1;32m    707\u001b[0m         raw\u001b[38;5;241m=\u001b[39mraw,\n\u001b[1;32m    708\u001b[0m         buffered\u001b[38;5;241m=\u001b[39mbuffered,\n\u001b[1;32m    709\u001b[0m         raw_as_string\u001b[38;5;241m=\u001b[39mraw_as_string,\n\u001b[1;32m    710\u001b[0m         query_attrs\u001b[38;5;241m=\u001b[39m\u001b[38;5;28mself\u001b[39m\u001b[38;5;241m.\u001b[39mquery_attrs,\n\u001b[1;32m    711\u001b[0m     )\n\u001b[1;32m    712\u001b[0m \u001b[38;5;28;01mexcept\u001b[39;00m MySQLInterfaceError \u001b[38;5;28;01mas\u001b[39;00m err:\n",
      "\u001b[0;31mMySQLInterfaceError\u001b[0m: Failed to add the foreign key constraint. Missing index for constraint 'alerts_ibfk_3' in the referenced table 'prescriptions'",
      "\nThe above exception was the direct cause of the following exception:\n",
      "\u001b[0;31mDatabaseError\u001b[0m                             Traceback (most recent call last)",
      "Cell \u001b[0;32mIn[73], line 4\u001b[0m\n\u001b[1;32m      2\u001b[0m mycursor \u001b[38;5;241m=\u001b[39m mydb\u001b[38;5;241m.\u001b[39mcursor()\n\u001b[1;32m      3\u001b[0m mycursor\u001b[38;5;241m.\u001b[39mexecute(\u001b[38;5;124m\"\u001b[39m\u001b[38;5;124mDROP TABLE IF EXISTS data1050SQLProject.alerts\u001b[39m\u001b[38;5;124m\"\u001b[39m)\n\u001b[0;32m----> 4\u001b[0m mycursor\u001b[38;5;241m.\u001b[39mexecute(\u001b[38;5;124m'''\u001b[39m\u001b[38;5;124mCREATE TABLE data1050SQLProject.alerts ( \u001b[39m\n\u001b[1;32m      5\u001b[0m \u001b[38;5;124m                    patient_id VARCHAR(128), \u001b[39m\n\u001b[1;32m      6\u001b[0m \u001b[38;5;124m                    physician_id VARCHAR(128), \u001b[39m\n\u001b[1;32m      7\u001b[0m \u001b[38;5;124m                    alert_date DATETIME,\u001b[39m\n\u001b[1;32m      8\u001b[0m \u001b[38;5;124m                    drug1 VARCHAR(128),\u001b[39m\n\u001b[1;32m      9\u001b[0m \u001b[38;5;124m                    drug2 VARCHAR(128),\u001b[39m\n\u001b[1;32m     10\u001b[0m \u001b[38;5;124m                    PRIMARY KEY (patient_id,physician_id,alert_date,drug1,drug2),\u001b[39m\n\u001b[1;32m     11\u001b[0m \u001b[38;5;124m                    foreign key(patient_id) references data1050SQLProject.patients(ssn),\u001b[39m\n\u001b[1;32m     12\u001b[0m \u001b[38;5;124m                    foreign key(physician_id) references data1050SQLProject.physicians(ssn),\u001b[39m\n\u001b[1;32m     13\u001b[0m \u001b[38;5;124m                    foreign key(patient_id,drug1) references data1050SQLProject.prescriptions(patient_id,drug_name),\u001b[39m\n\u001b[1;32m     14\u001b[0m \u001b[38;5;124m                    foreign key(patient_id,drug2) references data1050SQLProject.prescriptions(patient_id,drug_name)\u001b[39m\n\u001b[1;32m     15\u001b[0m \u001b[38;5;124m                 );\u001b[39m\u001b[38;5;124m'''\u001b[39m)\n",
      "File \u001b[0;32m/opt/anaconda3/lib/python3.12/site-packages/mysql/connector/cursor_cext.py:357\u001b[0m, in \u001b[0;36mCMySQLCursor.execute\u001b[0;34m(self, operation, params, multi)\u001b[0m\n\u001b[1;32m    352\u001b[0m             \u001b[38;5;28;01mraise\u001b[39;00m ProgrammingError(\n\u001b[1;32m    353\u001b[0m                 \u001b[38;5;124m\"\u001b[39m\u001b[38;5;124mNot all parameters were used in the SQL statement\u001b[39m\u001b[38;5;124m\"\u001b[39m\n\u001b[1;32m    354\u001b[0m             )\n\u001b[1;32m    356\u001b[0m \u001b[38;5;28;01mtry\u001b[39;00m:\n\u001b[0;32m--> 357\u001b[0m     result \u001b[38;5;241m=\u001b[39m \u001b[38;5;28mself\u001b[39m\u001b[38;5;241m.\u001b[39m_connection\u001b[38;5;241m.\u001b[39mcmd_query(\n\u001b[1;32m    358\u001b[0m         stmt,\n\u001b[1;32m    359\u001b[0m         raw\u001b[38;5;241m=\u001b[39m\u001b[38;5;28mself\u001b[39m\u001b[38;5;241m.\u001b[39m_raw,\n\u001b[1;32m    360\u001b[0m         buffered\u001b[38;5;241m=\u001b[39m\u001b[38;5;28mself\u001b[39m\u001b[38;5;241m.\u001b[39m_buffered,\n\u001b[1;32m    361\u001b[0m         raw_as_string\u001b[38;5;241m=\u001b[39m\u001b[38;5;28mself\u001b[39m\u001b[38;5;241m.\u001b[39m_raw_as_string,\n\u001b[1;32m    362\u001b[0m     )\n\u001b[1;32m    363\u001b[0m \u001b[38;5;28;01mexcept\u001b[39;00m MySQLInterfaceError \u001b[38;5;28;01mas\u001b[39;00m err:\n\u001b[1;32m    364\u001b[0m     \u001b[38;5;28;01mraise\u001b[39;00m get_mysql_exception(\n\u001b[1;32m    365\u001b[0m         msg\u001b[38;5;241m=\u001b[39merr\u001b[38;5;241m.\u001b[39mmsg, errno\u001b[38;5;241m=\u001b[39merr\u001b[38;5;241m.\u001b[39merrno, sqlstate\u001b[38;5;241m=\u001b[39merr\u001b[38;5;241m.\u001b[39msqlstate\n\u001b[1;32m    366\u001b[0m     ) \u001b[38;5;28;01mfrom\u001b[39;00m \u001b[38;5;21;01merr\u001b[39;00m\n",
      "File \u001b[0;32m/opt/anaconda3/lib/python3.12/site-packages/mysql/connector/opentelemetry/context_propagation.py:97\u001b[0m, in \u001b[0;36mwith_context_propagation.<locals>.wrapper\u001b[0;34m(cnx, *args, **kwargs)\u001b[0m\n\u001b[1;32m     95\u001b[0m \u001b[38;5;66;03m# pylint: disable=possibly-used-before-assignment\u001b[39;00m\n\u001b[1;32m     96\u001b[0m \u001b[38;5;28;01mif\u001b[39;00m \u001b[38;5;129;01mnot\u001b[39;00m OTEL_ENABLED \u001b[38;5;129;01mor\u001b[39;00m \u001b[38;5;129;01mnot\u001b[39;00m cnx\u001b[38;5;241m.\u001b[39motel_context_propagation:\n\u001b[0;32m---> 97\u001b[0m     \u001b[38;5;28;01mreturn\u001b[39;00m method(cnx, \u001b[38;5;241m*\u001b[39margs, \u001b[38;5;241m*\u001b[39m\u001b[38;5;241m*\u001b[39mkwargs)\n\u001b[1;32m     99\u001b[0m current_span \u001b[38;5;241m=\u001b[39m trace\u001b[38;5;241m.\u001b[39mget_current_span()\n\u001b[1;32m    100\u001b[0m tp_header \u001b[38;5;241m=\u001b[39m \u001b[38;5;28;01mNone\u001b[39;00m\n",
      "File \u001b[0;32m/opt/anaconda3/lib/python3.12/site-packages/mysql/connector/connection_cext.py:713\u001b[0m, in \u001b[0;36mCMySQLConnection.cmd_query\u001b[0;34m(self, query, raw, buffered, raw_as_string)\u001b[0m\n\u001b[1;32m    705\u001b[0m     \u001b[38;5;28mself\u001b[39m\u001b[38;5;241m.\u001b[39m_cmysql\u001b[38;5;241m.\u001b[39mquery(\n\u001b[1;32m    706\u001b[0m         query,\n\u001b[1;32m    707\u001b[0m         raw\u001b[38;5;241m=\u001b[39mraw,\n\u001b[0;32m   (...)\u001b[0m\n\u001b[1;32m    710\u001b[0m         query_attrs\u001b[38;5;241m=\u001b[39m\u001b[38;5;28mself\u001b[39m\u001b[38;5;241m.\u001b[39mquery_attrs,\n\u001b[1;32m    711\u001b[0m     )\n\u001b[1;32m    712\u001b[0m \u001b[38;5;28;01mexcept\u001b[39;00m MySQLInterfaceError \u001b[38;5;28;01mas\u001b[39;00m err:\n\u001b[0;32m--> 713\u001b[0m     \u001b[38;5;28;01mraise\u001b[39;00m get_mysql_exception(\n\u001b[1;32m    714\u001b[0m         err\u001b[38;5;241m.\u001b[39merrno, msg\u001b[38;5;241m=\u001b[39merr\u001b[38;5;241m.\u001b[39mmsg, sqlstate\u001b[38;5;241m=\u001b[39merr\u001b[38;5;241m.\u001b[39msqlstate\n\u001b[1;32m    715\u001b[0m     ) \u001b[38;5;28;01mfrom\u001b[39;00m \u001b[38;5;21;01merr\u001b[39;00m\n\u001b[1;32m    716\u001b[0m \u001b[38;5;28;01mexcept\u001b[39;00m \u001b[38;5;167;01mAttributeError\u001b[39;00m \u001b[38;5;28;01mas\u001b[39;00m err:\n\u001b[1;32m    717\u001b[0m     addr \u001b[38;5;241m=\u001b[39m (\n\u001b[1;32m    718\u001b[0m         \u001b[38;5;28mself\u001b[39m\u001b[38;5;241m.\u001b[39m_unix_socket \u001b[38;5;28;01mif\u001b[39;00m \u001b[38;5;28mself\u001b[39m\u001b[38;5;241m.\u001b[39m_unix_socket \u001b[38;5;28;01melse\u001b[39;00m \u001b[38;5;124mf\u001b[39m\u001b[38;5;124m\"\u001b[39m\u001b[38;5;132;01m{\u001b[39;00m\u001b[38;5;28mself\u001b[39m\u001b[38;5;241m.\u001b[39m_host\u001b[38;5;132;01m}\u001b[39;00m\u001b[38;5;124m:\u001b[39m\u001b[38;5;132;01m{\u001b[39;00m\u001b[38;5;28mself\u001b[39m\u001b[38;5;241m.\u001b[39m_port\u001b[38;5;132;01m}\u001b[39;00m\u001b[38;5;124m\"\u001b[39m\n\u001b[1;32m    719\u001b[0m     )\n",
      "\u001b[0;31mDatabaseError\u001b[0m: 1822 (HY000): Failed to add the foreign key constraint. Missing index for constraint 'alerts_ibfk_3' in the referenced table 'prescriptions'"
     ]
    }
   ],
   "source": [
    "#create a table\n",
    "mycursor = mydb.cursor()\n",
    "mycursor.execute(\"DROP TABLE IF EXISTS data1050SQLProject.alerts\")\n",
    "mycursor.execute('''CREATE TABLE data1050SQLProject.alerts ( \n",
    "                    patient_id VARCHAR(128), \n",
    "                    physician_id VARCHAR(128), \n",
    "                    alert_date DATETIME,\n",
    "                    drug1 VARCHAR(128),\n",
    "                    drug2 VARCHAR(128),\n",
    "                    PRIMARY KEY (patient_id,physician_id,alert_date,drug1,drug2),\n",
    "                    foreign key(patient_id) references data1050SQLProject.patients(ssn),\n",
    "                    foreign key(physician_id) references data1050SQLProject.physicians(ssn),\n",
    "                    foreign key(patient_id,drug1) references data1050SQLProject.prescriptions(patient_id,drug_name),\n",
    "                    foreign key(patient_id,drug2) references data1050SQLProject.prescriptions(patient_id,drug_name)\n",
    "                 );''')"
   ]
  },
  {
   "cell_type": "code",
   "execution_count": 56,
   "metadata": {},
   "outputs": [],
   "source": [
    "mycursor = mydb.cursor()\n",
    "mycursor.execute(\"DROP TABLE IF EXISTS data1050SQLProject.pharmacy_fills\")\n",
    "mycursor.execute('''CREATE TABLE data1050SQLProject.pharmacy_fills ( \n",
    "                    prescription_id INT, \n",
    "                    pharmacy_id INT, \n",
    "                    date DATE,\n",
    "                    cost DECIMAL(5,2),\n",
    "                    PRIMARY KEY (prescription_id,pharmacy_id),\n",
    "                    foreign key(prescription_id) references data1050SQLProject.prescriptions(id),\n",
    "                    foreign key(pharmacy_id) references data1050SQLProject.pharmacies(id));''')"
   ]
  },
  {
   "cell_type": "code",
   "execution_count": 57,
   "metadata": {},
   "outputs": [],
   "source": [
    "mycursor = mydb.cursor()\n",
    "mycursor.execute(\"DROP TABLE IF EXISTS data1050SQLProject.companies\")\n",
    "mycursor.execute('''CREATE TABLE data1050SQLProject.companies ( \n",
    "                    id INT PRIMARY KEY, \n",
    "                    name VARCHAR(128), \n",
    "                    address VARCHAR(128),\n",
    "                    contact_phone VARCHAR(128),\n",
    "                    contact_name VARCHAR(128));''')"
   ]
  },
  {
   "cell_type": "code",
   "execution_count": 58,
   "metadata": {},
   "outputs": [],
   "source": [
    "mycursor = mydb.cursor()\n",
    "mycursor.execute(\"DROP TABLE IF EXISTS data1050SQLProject.contracts\")\n",
    "mycursor.execute('''CREATE TABLE data1050SQLProject.contracts ( \n",
    "                    id INT PRIMARY KEY, \n",
    "                    company_id INT,\n",
    "                    pharmacy_id INT,\n",
    "                    drug_name VARCHAR(128),\n",
    "                    dosage INT, \n",
    "                    quantity INT,\n",
    "                    date DATE,\n",
    "                    foreign key(company_id) references data1050SQLProject.companies(id),\n",
    "                    foreign key(pharmacy_id) references data1050SQLProject.pharmacies(id),\n",
    "                    foreign key(drug_name) references data1050SQLProject.drugs(name));''')"
   ]
  }
 ],
 "metadata": {
  "kernelspec": {
   "display_name": "base",
   "language": "python",
   "name": "python3"
  },
  "language_info": {
   "codemirror_mode": {
    "name": "ipython",
    "version": 3
   },
   "file_extension": ".py",
   "mimetype": "text/x-python",
   "name": "python",
   "nbconvert_exporter": "python",
   "pygments_lexer": "ipython3",
   "version": "3.12.5"
  }
 },
 "nbformat": 4,
 "nbformat_minor": 2
}
