{
 "cells": [
  {
   "cell_type": "markdown",
   "metadata": {},
   "source": [
    "# Data 1050 SQL Project"
   ]
  },
  {
   "cell_type": "markdown",
   "metadata": {},
   "source": [
    "## Create Database"
   ]
  },
  {
   "cell_type": "code",
   "execution_count": 1,
   "metadata": {},
   "outputs": [
    {
     "name": "stdout",
     "output_type": "stream",
     "text": [
      "Requirement already satisfied: mysql-connector-python in /opt/anaconda3/lib/python3.12/site-packages (9.0.0)\n",
      "Note: you may need to restart the kernel to use updated packages.\n"
     ]
    }
   ],
   "source": [
    "pip install mysql-connector-python # type: ignore"
   ]
  },
  {
   "cell_type": "code",
   "execution_count": 2,
   "metadata": {},
   "outputs": [
    {
     "name": "stdout",
     "output_type": "stream",
     "text": [
      "<mysql.connector.connection_cext.CMySQLConnection object at 0x105daa780>\n",
      "CONNECTION SUCCESSFUL\n"
     ]
    }
   ],
   "source": [
    "import mysql.connector # type: ignore\n",
    " \n",
    "mydb = mysql.connector.connect(\n",
    "  host=\"localhost\",\n",
    "  user=\"root\",\n",
    "  password= \"7@u*sqJX\"   #REPLACE THIS WITH THE PASSWORD YOU SET\n",
    ")\n",
    " \n",
    "print(mydb)\n",
    " \n",
    "if mydb.is_connected():\n",
    "    print(\"CONNECTION SUCCESSFUL\")"
   ]
  },
  {
   "cell_type": "code",
   "execution_count": 3,
   "metadata": {},
   "outputs": [],
   "source": [
    "#create a database\n",
    "mycursor = mydb.cursor()\n",
    "mycursor.execute(\"DROP DATABASE IF EXISTS data1050SQLProject\")\n",
    "mycursor.execute(\"CREATE DATABASE data1050SQLProject\")"
   ]
  },
  {
   "cell_type": "code",
   "execution_count": 4,
   "metadata": {},
   "outputs": [
    {
     "name": "stdout",
     "output_type": "stream",
     "text": [
      "('data1050f24',)\n",
      "('data1050SQLProject',)\n",
      "('information_schema',)\n",
      "('mysql',)\n",
      "('performance_schema',)\n",
      "('sys',)\n"
     ]
    }
   ],
   "source": [
    "mycursor = mydb.cursor()\n",
    "mycursor.execute(\"SHOW DATABASES\")\n",
    "\n",
    "for x in mycursor:\n",
    "  print(x)"
   ]
  },
  {
   "cell_type": "markdown",
   "metadata": {},
   "source": [
    "### Connecting to a database and showing tables"
   ]
  },
  {
   "cell_type": "code",
   "execution_count": 5,
   "metadata": {},
   "outputs": [],
   "source": [
    "#connect to a specific database\n",
    "mydb = mysql.connector.connect(\n",
    "  host=\"localhost\",\n",
    "  user=\"root\",\n",
    "  password= \"7@u*sqJX\", #REPLACE THIS WITH YOUR PASSWORD \n",
    "  database = \"data1050SQLProject\" #connecting to testDatabase\n",
    ")"
   ]
  },
  {
   "cell_type": "code",
   "execution_count": 6,
   "metadata": {},
   "outputs": [],
   "source": [
    "mycursor = mydb.cursor()\n",
    "\n",
    "mycursor.execute(\"SHOW TABLES\")\n",
    "\n",
    "for x in mycursor:\n",
    "  print(x)"
   ]
  },
  {
   "cell_type": "code",
   "execution_count": 7,
   "metadata": {},
   "outputs": [],
   "source": [
    "import pandas as pd # type: ignore"
   ]
  },
  {
   "cell_type": "code",
   "execution_count": 8,
   "metadata": {},
   "outputs": [
    {
     "name": "stdout",
     "output_type": "stream",
     "text": [
      "Requirement already satisfied: fsspec in /opt/anaconda3/lib/python3.12/site-packages (2024.6.1)\n",
      "Note: you may need to restart the kernel to use updated packages.\n"
     ]
    }
   ],
   "source": [
    "pip install fsspec # type: ignore"
   ]
  },
  {
   "cell_type": "markdown",
   "metadata": {},
   "source": [
    "### Add Tables"
   ]
  },
  {
   "cell_type": "code",
   "execution_count": 9,
   "metadata": {},
   "outputs": [],
   "source": [
    "#create a table\n",
    "mycursor = mydb.cursor()\n",
    "mycursor.execute(\"DROP TABLE IF EXISTS data1050SQLProject.physicians\")\n",
    "mycursor.execute('''CREATE TABLE data1050SQLProject.physicians ( \n",
    "                    ssn VARCHAR(128) PRIMARY KEY, \n",
    "                    name VARCHAR(128), \n",
    "                    primary_specialty VARCHAR(128),\n",
    "                    experience_years INT);''')"
   ]
  },
  {
   "cell_type": "code",
   "execution_count": 10,
   "metadata": {},
   "outputs": [],
   "source": [
    "#create a table\n",
    "mycursor = mydb.cursor()\n",
    "mycursor.execute(\"DROP TABLE IF EXISTS data1050SQLProject.patients\")\n",
    "mycursor.execute('''CREATE TABLE data1050SQLProject.patients ( \n",
    "                    ssn VARCHAR(128) PRIMARY KEY, \n",
    "                    name VARCHAR(128), \n",
    "                    address VARCHAR(128),\n",
    "                    birth_date VARCHAR(128),\n",
    "                    physician_id VARCHAR(128),\n",
    "                    foreign key(physician_id) references data1050SQLProject.physicians(ssn));''')"
   ]
  },
  {
   "cell_type": "code",
   "execution_count": 11,
   "metadata": {},
   "outputs": [],
   "source": [
    "#create a table\n",
    "mycursor = mydb.cursor()\n",
    "mycursor.execute(\"DROP TABLE IF EXISTS data1050SQLProject.pharmacies\")\n",
    "mycursor.execute('''CREATE TABLE data1050SQLProject.pharmacies ( \n",
    "                    id INT PRIMARY KEY, \n",
    "                    name VARCHAR(128), \n",
    "                    address VARCHAR(128),\n",
    "                    phone VARCHAR(128));''')"
   ]
  },
  {
   "cell_type": "code",
   "execution_count": 12,
   "metadata": {},
   "outputs": [],
   "source": [
    "#create a table\n",
    "mycursor = mydb.cursor()\n",
    "mycursor.execute(\"DROP TABLE IF EXISTS data1050SQLProject.drugs\")\n",
    "mycursor.execute('''CREATE TABLE data1050SQLProject.drugs ( \n",
    "                    id VARCHAR(128), \n",
    "                    name VARCHAR(128) PRIMARY KEY);''')"
   ]
  },
  {
   "cell_type": "code",
   "execution_count": 13,
   "metadata": {},
   "outputs": [],
   "source": [
    "#create a table\n",
    "mycursor = mydb.cursor()\n",
    "mycursor.execute(\"DROP TABLE IF EXISTS data1050SQLProject.prescriptions\")\n",
    "mycursor.execute('''CREATE TABLE data1050SQLProject.prescriptions ( \n",
    "                    id INT PRIMARY KEY, \n",
    "                    patient_id VARCHAR(128), \n",
    "                    physician_id VARCHAR(128),\n",
    "                    drug_name VARCHAR(128),\n",
    "                    date VARCHAR(128),\n",
    "                    quantity INT,\n",
    "                    unique(patient_id,drug_name),\n",
    "                    foreign key(patient_id) references data1050SQLProject.patients(ssn),\n",
    "                    foreign key(physician_id) references data1050SQLProject.physicians(ssn),\n",
    "                    foreign key(drug_name) references data1050SQLProject.drugs(name));''')"
   ]
  },
  {
   "cell_type": "code",
   "execution_count": 14,
   "metadata": {},
   "outputs": [],
   "source": [
    "#create a table\n",
    "mycursor = mydb.cursor()\n",
    "mycursor.execute(\"DROP TABLE IF EXISTS data1050SQLProject.adverse_interactions\")\n",
    "mycursor.execute('''CREATE TABLE data1050SQLProject.adverse_interactions ( \n",
    "                    drug_name VARCHAR(128), \n",
    "                    drug_name_2 VARCHAR(128), \n",
    "                    PRIMARY KEY (drug_name,drug_name_2),\n",
    "                    foreign key(drug_name) references data1050SQLProject.drugs(name));''')"
   ]
  },
  {
   "cell_type": "code",
   "execution_count": 15,
   "metadata": {},
   "outputs": [],
   "source": [
    "#create a table\n",
    "mycursor = mydb.cursor()\n",
    "mycursor.execute(\"DROP TABLE IF EXISTS data1050SQLProject.alerts\")\n",
    "mycursor.execute('''CREATE TABLE data1050SQLProject.alerts ( \n",
    "                    patient_id VARCHAR(128), \n",
    "                    physician_id VARCHAR(128), \n",
    "                    alert_date DATETIME,\n",
    "                    drug1 VARCHAR(128),\n",
    "                    drug2 VARCHAR(128),\n",
    "                    PRIMARY KEY (patient_id,physician_id,alert_date,drug1,drug2),\n",
    "                    foreign key(patient_id) references data1050SQLProject.patients(ssn),\n",
    "                    foreign key(physician_id) references data1050SQLProject.physicians(ssn),\n",
    "                    foreign key(patient_id,drug1) references data1050SQLProject.prescriptions(patient_id,drug_name),\n",
    "                    foreign key(patient_id,drug2) references data1050SQLProject.prescriptions(patient_id,drug_name)\n",
    "                 );''')"
   ]
  },
  {
   "cell_type": "code",
   "execution_count": 16,
   "metadata": {},
   "outputs": [],
   "source": [
    "mycursor = mydb.cursor()\n",
    "mycursor.execute(\"DROP TABLE IF EXISTS data1050SQLProject.pharmacy_fills\")\n",
    "mycursor.execute('''CREATE TABLE data1050SQLProject.pharmacy_fills ( \n",
    "                    prescription_id INT, \n",
    "                    pharmacy_id INT, \n",
    "                    date VARCHAR(128),\n",
    "                    cost DECIMAL(5,2),\n",
    "                    PRIMARY KEY (prescription_id,pharmacy_id),\n",
    "                    foreign key(prescription_id) references data1050SQLProject.prescriptions(id),\n",
    "                    foreign key(pharmacy_id) references data1050SQLProject.pharmacies(id));''')"
   ]
  },
  {
   "cell_type": "code",
   "execution_count": 17,
   "metadata": {},
   "outputs": [],
   "source": [
    "mycursor = mydb.cursor()\n",
    "mycursor.execute(\"DROP TABLE IF EXISTS data1050SQLProject.companies\")\n",
    "mycursor.execute('''CREATE TABLE data1050SQLProject.companies ( \n",
    "                    id INT PRIMARY KEY, \n",
    "                    name VARCHAR(128), \n",
    "                    address VARCHAR(128),\n",
    "                    contact_phone VARCHAR(128),\n",
    "                    contact_name VARCHAR(128));''')"
   ]
  },
  {
   "cell_type": "code",
   "execution_count": 18,
   "metadata": {},
   "outputs": [],
   "source": [
    "mycursor = mydb.cursor()\n",
    "mycursor.execute(\"DROP TABLE IF EXISTS data1050SQLProject.contracts\")\n",
    "mycursor.execute('''CREATE TABLE data1050SQLProject.contracts ( \n",
    "                    id INT PRIMARY KEY, \n",
    "                    drug_name VARCHAR(128),\n",
    "                    dosage INT,\n",
    "                    pharmacy_id INT,\n",
    "                    company_id INT,\n",
    "                    quantity INT,\n",
    "                    date VARCHAR(128),\n",
    "                    price INT,\n",
    "                    foreign key(company_id) references data1050SQLProject.companies(id),\n",
    "                    foreign key(pharmacy_id) references data1050SQLProject.pharmacies(id),\n",
    "                    foreign key(drug_name) references data1050SQLProject.drugs(name));''')"
   ]
  },
  {
   "cell_type": "code",
   "execution_count": 19,
   "metadata": {},
   "outputs": [
    {
     "name": "stdout",
     "output_type": "stream",
     "text": [
      "('adverse_interactions',)\n",
      "('alerts',)\n",
      "('companies',)\n",
      "('contracts',)\n",
      "('drugs',)\n",
      "('patients',)\n",
      "('pharmacies',)\n",
      "('pharmacy_fills',)\n",
      "('physicians',)\n",
      "('prescriptions',)\n"
     ]
    }
   ],
   "source": [
    "mycursor = mydb.cursor()\n",
    "\n",
    "mycursor.execute(\"SHOW TABLES\")\n",
    "\n",
    "for x in mycursor:\n",
    "  print(x)"
   ]
  },
  {
   "cell_type": "markdown",
   "metadata": {},
   "source": [
    "### Add Data to Tables"
   ]
  },
  {
   "cell_type": "code",
   "execution_count": 20,
   "metadata": {},
   "outputs": [
    {
     "data": {
      "text/html": [
       "<div>\n",
       "<style scoped>\n",
       "    .dataframe tbody tr th:only-of-type {\n",
       "        vertical-align: middle;\n",
       "    }\n",
       "\n",
       "    .dataframe tbody tr th {\n",
       "        vertical-align: top;\n",
       "    }\n",
       "\n",
       "    .dataframe thead th {\n",
       "        text-align: right;\n",
       "    }\n",
       "</style>\n",
       "<table border=\"1\" class=\"dataframe\">\n",
       "  <thead>\n",
       "    <tr style=\"text-align: right;\">\n",
       "      <th></th>\n",
       "      <th>SSN</th>\n",
       "      <th>name</th>\n",
       "      <th>primary_specialty</th>\n",
       "      <th>experience_years</th>\n",
       "    </tr>\n",
       "  </thead>\n",
       "  <tbody>\n",
       "    <tr>\n",
       "      <th>0</th>\n",
       "      <td>614-57-6885</td>\n",
       "      <td>Srinivasan</td>\n",
       "      <td>Cardiology</td>\n",
       "      <td>4</td>\n",
       "    </tr>\n",
       "    <tr>\n",
       "      <th>1</th>\n",
       "      <td>702-16-8749</td>\n",
       "      <td>Wu</td>\n",
       "      <td>Dermatology</td>\n",
       "      <td>10</td>\n",
       "    </tr>\n",
       "    <tr>\n",
       "      <th>2</th>\n",
       "      <td>571-13-9020</td>\n",
       "      <td>Mozart</td>\n",
       "      <td>Cardiology</td>\n",
       "      <td>0</td>\n",
       "    </tr>\n",
       "    <tr>\n",
       "      <th>3</th>\n",
       "      <td>718-27-0905</td>\n",
       "      <td>Einstein</td>\n",
       "      <td>Psychiatry</td>\n",
       "      <td>29</td>\n",
       "    </tr>\n",
       "    <tr>\n",
       "      <th>4</th>\n",
       "      <td>230-12-3219</td>\n",
       "      <td>El Said</td>\n",
       "      <td>Psychiatry</td>\n",
       "      <td>12</td>\n",
       "    </tr>\n",
       "  </tbody>\n",
       "</table>\n",
       "</div>"
      ],
      "text/plain": [
       "  SSN           name         primary_specialty   experience_years\n",
       "0  614-57-6885  Srinivasan   Cardiology                         4\n",
       "1  702-16-8749  Wu           Dermatology                       10\n",
       "2  571-13-9020  Mozart       Cardiology                         0\n",
       "3  718-27-0905  Einstein     Psychiatry                        29\n",
       "4  230-12-3219  El Said      Psychiatry                        12"
      ]
     },
     "execution_count": 20,
     "metadata": {},
     "output_type": "execute_result"
    }
   ],
   "source": [
    "#point the path to where in your hard drive you have stored the file physicians.csv\n",
    "physicians_df = pd.read_csv(\"physicians.csv\")\n",
    "physicians_df.head()"
   ]
  },
  {
   "cell_type": "code",
   "execution_count": 21,
   "metadata": {},
   "outputs": [
    {
     "data": {
      "text/plain": [
       "SSN                   object\n",
       "name                  object\n",
       "primary_specialty     object\n",
       "experience_years       int64\n",
       "dtype: object"
      ]
     },
     "execution_count": 21,
     "metadata": {},
     "output_type": "execute_result"
    }
   ],
   "source": [
    "physicians_df.dtypes"
   ]
  },
  {
   "cell_type": "code",
   "execution_count": 22,
   "metadata": {},
   "outputs": [
    {
     "name": "stdout",
     "output_type": "stream",
     "text": [
      "Record inserted\n",
      "Record inserted\n",
      "Record inserted\n",
      "Record inserted\n",
      "Record inserted\n",
      "Record inserted\n",
      "Record inserted\n",
      "Record inserted\n",
      "Record inserted\n",
      "Record inserted\n",
      "Record inserted\n",
      "Record inserted\n"
     ]
    }
   ],
   "source": [
    "for i,row in physicians_df.iterrows():\n",
    "            sql = \"INSERT INTO physicians VALUES (%s,%s,%s,%s)\"\n",
    "            mycursor.execute(sql, tuple(row))\n",
    "            print(\"Record inserted\")\n",
    "            # the connection is not autocommitted by default, so we \n",
    "            # must commit to save our changes\n",
    "            mydb.commit()"
   ]
  },
  {
   "cell_type": "code",
   "execution_count": 23,
   "metadata": {},
   "outputs": [],
   "source": [
    "query = ''' SELECT * from physicians'''\n",
    "mycursor.execute(query)"
   ]
  },
  {
   "cell_type": "code",
   "execution_count": 24,
   "metadata": {},
   "outputs": [
    {
     "name": "stdout",
     "output_type": "stream",
     "text": [
      "('118-66-5958', 'Katz       ', 'Orthopedics       ', 3)\n",
      "('156-28-1945', 'Singh      ', 'Orthopedics       ', 25)\n",
      "('163-50-5535', 'Gold       ', 'Neurology         ', 8)\n",
      "('230-12-3219', 'El Said    ', 'Psychiatry        ', 12)\n",
      "('357-93-5814', 'Califieri  ', 'Cardiology        ', 21)\n",
      "('460-35-6754', 'Kim        ', 'Orthopedics       ', 2)\n",
      "('510-55-9776', 'Brandt     ', 'Psychiatry        ', 25)\n",
      "('522-86-5827', 'Crick      ', 'Neurology         ', 0)\n",
      "('571-13-9020', 'Mozart     ', 'Cardiology        ', 0)\n",
      "('614-57-6885', 'Srinivasan ', 'Cardiology        ', 4)\n",
      "('702-16-8749', 'Wu         ', 'Dermatology       ', 10)\n",
      "('718-27-0905', 'Einstein   ', 'Psychiatry        ', 29)\n"
     ]
    }
   ],
   "source": [
    "for x in mycursor:\n",
    "    print(x)"
   ]
  },
  {
   "cell_type": "code",
   "execution_count": 25,
   "metadata": {},
   "outputs": [
    {
     "data": {
      "text/html": [
       "<div>\n",
       "<style scoped>\n",
       "    .dataframe tbody tr th:only-of-type {\n",
       "        vertical-align: middle;\n",
       "    }\n",
       "\n",
       "    .dataframe tbody tr th {\n",
       "        vertical-align: top;\n",
       "    }\n",
       "\n",
       "    .dataframe thead th {\n",
       "        text-align: right;\n",
       "    }\n",
       "</style>\n",
       "<table border=\"1\" class=\"dataframe\">\n",
       "  <thead>\n",
       "    <tr style=\"text-align: right;\">\n",
       "      <th></th>\n",
       "      <th>ssn</th>\n",
       "      <th>name</th>\n",
       "      <th>address</th>\n",
       "      <th>birthdate</th>\n",
       "      <th>physician_id</th>\n",
       "    </tr>\n",
       "  </thead>\n",
       "  <tbody>\n",
       "    <tr>\n",
       "      <th>0</th>\n",
       "      <td>478-34-0781</td>\n",
       "      <td>Florance Saiz</td>\n",
       "      <td>7 Fair Oaks Place</td>\n",
       "      <td>1988-11-03T23:25:38Z</td>\n",
       "      <td>614-57-6885</td>\n",
       "    </tr>\n",
       "    <tr>\n",
       "      <th>1</th>\n",
       "      <td>885-94-4721</td>\n",
       "      <td>Merry Di Pietro</td>\n",
       "      <td>1 Old Shore Court</td>\n",
       "      <td>1991-02-07T22:00:41Z</td>\n",
       "      <td>702-16-8749</td>\n",
       "    </tr>\n",
       "    <tr>\n",
       "      <th>2</th>\n",
       "      <td>777-39-3296</td>\n",
       "      <td>Myron Cottem</td>\n",
       "      <td>75875 Fulton Crossing</td>\n",
       "      <td>1986-02-20T04:43:29Z</td>\n",
       "      <td>718-27-0905</td>\n",
       "    </tr>\n",
       "    <tr>\n",
       "      <th>3</th>\n",
       "      <td>227-08-7452</td>\n",
       "      <td>Bearnard Remer</td>\n",
       "      <td>18669 Heffernan Point</td>\n",
       "      <td>2008-01-09T05:34:30Z</td>\n",
       "      <td>230-12-3219</td>\n",
       "    </tr>\n",
       "    <tr>\n",
       "      <th>4</th>\n",
       "      <td>805-15-2755</td>\n",
       "      <td>Roxana Worster</td>\n",
       "      <td>54 Hudson Junction</td>\n",
       "      <td>1982-11-12T18:11:55Z</td>\n",
       "      <td>163-50-5535</td>\n",
       "    </tr>\n",
       "  </tbody>\n",
       "</table>\n",
       "</div>"
      ],
      "text/plain": [
       "   ssn           name                 address                   \\\n",
       "0  478-34-0781   Florance Saiz        7 Fair Oaks Place          \n",
       "1  885-94-4721   Merry Di Pietro      1 Old Shore Court          \n",
       "2  777-39-3296   Myron Cottem         75875 Fulton Crossing      \n",
       "3  227-08-7452   Bearnard Remer       18669 Heffernan Point      \n",
       "4  805-15-2755   Roxana Worster       54 Hudson Junction         \n",
       "\n",
       "   birthdate             physician_id  \n",
       "0  1988-11-03T23:25:38Z   614-57-6885  \n",
       "1  1991-02-07T22:00:41Z   702-16-8749  \n",
       "2  1986-02-20T04:43:29Z   718-27-0905  \n",
       "3  2008-01-09T05:34:30Z   230-12-3219  \n",
       "4  1982-11-12T18:11:55Z   163-50-5535  "
      ]
     },
     "execution_count": 25,
     "metadata": {},
     "output_type": "execute_result"
    }
   ],
   "source": [
    "#point the path to where in your hard drive you have stored the file patients.csv\n",
    "data = pd.read_csv(\"patients.csv\")\n",
    "data.head()"
   ]
  },
  {
   "cell_type": "code",
   "execution_count": 26,
   "metadata": {},
   "outputs": [
    {
     "data": {
      "text/plain": [
       "ssn                         object\n",
       "name                        object\n",
       "address                     object\n",
       "birthdate                   object\n",
       "physician_id                object\n",
       "dtype: object"
      ]
     },
     "execution_count": 26,
     "metadata": {},
     "output_type": "execute_result"
    }
   ],
   "source": [
    "data.dtypes"
   ]
  },
  {
   "cell_type": "code",
   "execution_count": 27,
   "metadata": {},
   "outputs": [],
   "source": [
    "query = \"SELECT * FROM physicians WHERE ssn = '614-57-6885';\"\n",
    "mycursor.execute(query)\n"
   ]
  },
  {
   "cell_type": "code",
   "execution_count": 28,
   "metadata": {},
   "outputs": [
    {
     "name": "stdout",
     "output_type": "stream",
     "text": [
      "('614-57-6885', 'Srinivasan ', 'Cardiology        ', 4)\n"
     ]
    }
   ],
   "source": [
    "for x in mycursor:\n",
    "    print(x)"
   ]
  },
  {
   "cell_type": "code",
   "execution_count": 29,
   "metadata": {},
   "outputs": [
    {
     "name": "stdout",
     "output_type": "stream",
     "text": [
      "Record inserted\n",
      "Record inserted\n",
      "Record inserted\n",
      "Record inserted\n",
      "Record inserted\n",
      "Record inserted\n",
      "Record inserted\n",
      "Record inserted\n",
      "Record inserted\n",
      "Record inserted\n",
      "Record inserted\n",
      "Record inserted\n"
     ]
    }
   ],
   "source": [
    "for i,row in data.iterrows():\n",
    "            sql = \"INSERT INTO patients VALUES (%s,%s,%s,%s,%s)\"\n",
    "            mycursor.execute(sql, tuple(row))\n",
    "            print(\"Record inserted\")\n",
    "            # the connection is not autocommitted by default, so we \n",
    "            # must commit to save our changes\n",
    "            mydb.commit()"
   ]
  },
  {
   "cell_type": "code",
   "execution_count": 30,
   "metadata": {},
   "outputs": [],
   "source": [
    "query = \"SELECT * from patients\"\n",
    "mycursor.execute(query)"
   ]
  },
  {
   "cell_type": "code",
   "execution_count": 31,
   "metadata": {},
   "outputs": [
    {
     "name": "stdout",
     "output_type": "stream",
     "text": [
      "('192-33-2887 ', 'Jacinda Stowe      ', '8 Colorado Alley        ', '1970-04-15T00:24:26Z ', '357-93-5814')\n",
      "('227-08-7452 ', 'Bearnard Remer     ', '18669 Heffernan Point   ', '2008-01-09T05:34:30Z ', '230-12-3219')\n",
      "('303-13-5928 ', 'Krystyna Luckie    ', '54106 Barnett Plaza     ', '1950-02-11T12:20:13Z ', '571-13-9020')\n",
      "('360-47-2098 ', 'Peter Lukasen      ', '552 Ryan Court          ', '1969-01-10T19:33:03Z ', '522-86-5827')\n",
      "('478-34-0781 ', 'Florance Saiz      ', '7 Fair Oaks Place       ', '1988-11-03T23:25:38Z ', '614-57-6885')\n",
      "('501-47-2038 ', 'Elvyn Rudinger     ', '48 Bowman Parkway       ', '2006-02-28T16:26:43Z ', '156-28-1945')\n",
      "('631-75-6048 ', 'Avrom Messer       ', '5030 Garrison Center    ', '1929-02-04T06:34:10Z ', '510-55-9776')\n",
      "('691-21-7304 ', 'Myrlene Yegoshin   ', '2 Sunnyside Court       ', '2001-06-03T23:02:52Z ', '460-35-6754')\n",
      "('758-08-7274 ', 'Susanetta Petruska ', '16276 Sutteridge Avenue ', '1922-08-05T18:36:12Z ', '118-66-5958')\n",
      "('777-39-3296 ', 'Myron Cottem       ', '75875 Fulton Crossing   ', '1986-02-20T04:43:29Z ', '718-27-0905')\n",
      "('805-15-2755 ', 'Roxana Worster     ', '54 Hudson Junction      ', '1982-11-12T18:11:55Z ', '163-50-5535')\n",
      "('885-94-4721 ', 'Merry Di Pietro    ', '1 Old Shore Court       ', '1991-02-07T22:00:41Z ', '702-16-8749')\n"
     ]
    }
   ],
   "source": [
    "for x in mycursor:\n",
    "    print(x)"
   ]
  },
  {
   "cell_type": "code",
   "execution_count": 32,
   "metadata": {},
   "outputs": [
    {
     "data": {
      "text/html": [
       "<div>\n",
       "<style scoped>\n",
       "    .dataframe tbody tr th:only-of-type {\n",
       "        vertical-align: middle;\n",
       "    }\n",
       "\n",
       "    .dataframe tbody tr th {\n",
       "        vertical-align: top;\n",
       "    }\n",
       "\n",
       "    .dataframe thead th {\n",
       "        text-align: right;\n",
       "    }\n",
       "</style>\n",
       "<table border=\"1\" class=\"dataframe\">\n",
       "  <thead>\n",
       "    <tr style=\"text-align: right;\">\n",
       "      <th></th>\n",
       "      <th>id</th>\n",
       "      <th>name</th>\n",
       "      <th>address</th>\n",
       "      <th>phone</th>\n",
       "    </tr>\n",
       "  </thead>\n",
       "  <tbody>\n",
       "    <tr>\n",
       "      <th>0</th>\n",
       "      <td>1</td>\n",
       "      <td>Springfield Pharmacy</td>\n",
       "      <td>123 Main St,  Springfield,  IL 62701</td>\n",
       "      <td>(217) 555-1234</td>\n",
       "    </tr>\n",
       "    <tr>\n",
       "      <th>1</th>\n",
       "      <td>2</td>\n",
       "      <td>Peachtree Meds</td>\n",
       "      <td>456 Elm St,  Atlanta, GA 30303</td>\n",
       "      <td>(404) 555-5678</td>\n",
       "    </tr>\n",
       "    <tr>\n",
       "      <th>2</th>\n",
       "      <td>3</td>\n",
       "      <td>Lone Star Drugs</td>\n",
       "      <td>789 Oak St,  Dallas, TX 75201</td>\n",
       "      <td>(214) 555-9101</td>\n",
       "    </tr>\n",
       "    <tr>\n",
       "      <th>3</th>\n",
       "      <td>4</td>\n",
       "      <td>Mile High Meds</td>\n",
       "      <td>101 Pine St, Denver, CO80202</td>\n",
       "      <td>(303) 555-1121</td>\n",
       "    </tr>\n",
       "    <tr>\n",
       "      <th>4</th>\n",
       "      <td>5</td>\n",
       "      <td>Emerald City Pharmacy</td>\n",
       "      <td>121 Spruce St,  Seattle,  WA 98101</td>\n",
       "      <td>(206) 555-1314</td>\n",
       "    </tr>\n",
       "  </tbody>\n",
       "</table>\n",
       "</div>"
      ],
      "text/plain": [
       "   id   name                   address                                     \\\n",
       "0    1  Springfield Pharmacy      123 Main St,  Springfield,  IL 62701      \n",
       "1    2  Peachtree Meds            456 Elm St,  Atlanta, GA 30303            \n",
       "2    3  Lone Star Drugs           789 Oak St,  Dallas, TX 75201             \n",
       "3    4  Mile High Meds            101 Pine St, Denver, CO80202              \n",
       "4    5  Emerald City Pharmacy     121 Spruce St,  Seattle,  WA 98101        \n",
       "\n",
       "            phone  \n",
       "0  (217) 555-1234  \n",
       "1  (404) 555-5678  \n",
       "2  (214) 555-9101  \n",
       "3  (303) 555-1121  \n",
       "4  (206) 555-1314  "
      ]
     },
     "execution_count": 32,
     "metadata": {},
     "output_type": "execute_result"
    }
   ],
   "source": [
    "#point the path to where in your hard drive you have stored the file pharmacies.csv\n",
    "data = pd.read_csv(\"pharmacies.csv\")\n",
    "data.head()"
   ]
  },
  {
   "cell_type": "code",
   "execution_count": 33,
   "metadata": {},
   "outputs": [
    {
     "data": {
      "text/plain": [
       "id                                             int64\n",
       "name                                          object\n",
       "address                                       object\n",
       "phone                                         object\n",
       "dtype: object"
      ]
     },
     "execution_count": 33,
     "metadata": {},
     "output_type": "execute_result"
    }
   ],
   "source": [
    "data.dtypes"
   ]
  },
  {
   "cell_type": "code",
   "execution_count": 34,
   "metadata": {},
   "outputs": [
    {
     "name": "stdout",
     "output_type": "stream",
     "text": [
      "Record inserted\n",
      "Record inserted\n",
      "Record inserted\n",
      "Record inserted\n",
      "Record inserted\n",
      "Record inserted\n",
      "Record inserted\n",
      "Record inserted\n",
      "Record inserted\n",
      "Record inserted\n",
      "Record inserted\n",
      "Record inserted\n",
      "Record inserted\n",
      "Record inserted\n",
      "Record inserted\n"
     ]
    }
   ],
   "source": [
    "for i,row in data.iterrows():\n",
    "            sql = \"INSERT INTO pharmacies VALUES (%s,%s,%s,%s)\"\n",
    "            mycursor.execute(sql, tuple(row))\n",
    "            print(\"Record inserted\")\n",
    "            # the connection is not autocommitted by default, so we \n",
    "            # must commit to save our changes\n",
    "            mydb.commit()"
   ]
  },
  {
   "cell_type": "code",
   "execution_count": 35,
   "metadata": {},
   "outputs": [],
   "source": [
    "query = \" SELECT * FROM pharmacies\"\n",
    "mycursor.execute(query)"
   ]
  },
  {
   "cell_type": "code",
   "execution_count": 36,
   "metadata": {},
   "outputs": [
    {
     "name": "stdout",
     "output_type": "stream",
     "text": [
      "(1, 'Springfield Pharmacy  ', ' 123 Main St,  Springfield,  IL 62701   ', '(217) 555-1234')\n",
      "(2, 'Peachtree Meds        ', ' 456 Elm St,  Atlanta, GA 30303         ', '(404) 555-5678')\n",
      "(3, 'Lone Star Drugs       ', ' 789 Oak St,  Dallas, TX 75201          ', '(214) 555-9101')\n",
      "(4, 'Mile High Meds        ', ' 101 Pine St, Denver, CO80202           ', '(303) 555-1121')\n",
      "(5, 'Emerald City Pharmacy ', ' 121 Spruce St,  Seattle,  WA 98101     ', '(206) 555-1314')\n",
      "(6, 'Golden Gate Drugs     ', ' 234 Market St, San Francisco, CA 94105 ', '(415) 555-1515')\n",
      "(7, 'Sunshine Pharmacy     ', ' 345 Palm Ave, Miami, FL 33101          ', '(305) 555-1616')\n",
      "(8, 'Liberty Meds          ', ' 567 Broadway St, New York, NY 10001    ', '(212) 555-1717')\n",
      "(9, 'Lakeside Drugs        ', ' 678 Lake Rd,  Minneapolis, MN 55401    ', '(612) 555-1818')\n",
      "(10, 'Desert Bloom Pharmacy ', ' 890 Desert Blvd, Phoenix, AZ 85001     ', '(602) 555-1919')\n",
      "(11, 'Bayside Pharmacy      ', ' 112 Harbor Dr, San Diego, CA 92101     ', '(619) 555-2020')\n",
      "(12, 'Capital Meds          ', ' 345 Capitol St, Washington, DC 20001   ', '(202) 555-2121')\n",
      "(13, 'Windy City Pharmacy   ', ' 567 Windy Ave, Chicago, IL 60601       ', '(312) 555-2222')\n",
      "(14, 'Beantown Drugs        ', ' 890 Beacon St, Boston,  MA 02101       ', '(617) 555-2323')\n",
      "(15, 'Gateway Meds          ', ' 123 Arch St, St. Louis, MO 63101       ', '(314) 555-2424')\n"
     ]
    }
   ],
   "source": [
    "for x in mycursor:\n",
    "    print(x)"
   ]
  },
  {
   "cell_type": "code",
   "execution_count": 37,
   "metadata": {},
   "outputs": [
    {
     "data": {
      "text/html": [
       "<div>\n",
       "<style scoped>\n",
       "    .dataframe tbody tr th:only-of-type {\n",
       "        vertical-align: middle;\n",
       "    }\n",
       "\n",
       "    .dataframe tbody tr th {\n",
       "        vertical-align: top;\n",
       "    }\n",
       "\n",
       "    .dataframe thead th {\n",
       "        text-align: right;\n",
       "    }\n",
       "</style>\n",
       "<table border=\"1\" class=\"dataframe\">\n",
       "  <thead>\n",
       "    <tr style=\"text-align: right;\">\n",
       "      <th></th>\n",
       "      <th>drug_id</th>\n",
       "      <th>drug_name</th>\n",
       "    </tr>\n",
       "  </thead>\n",
       "  <tbody>\n",
       "    <tr>\n",
       "      <th>0</th>\n",
       "      <td>1</td>\n",
       "      <td>Primalovir</td>\n",
       "    </tr>\n",
       "    <tr>\n",
       "      <th>1</th>\n",
       "      <td>2</td>\n",
       "      <td>Olanzanafine</td>\n",
       "    </tr>\n",
       "    <tr>\n",
       "      <th>2</th>\n",
       "      <td>3</td>\n",
       "      <td>Avafoxin</td>\n",
       "    </tr>\n",
       "    <tr>\n",
       "      <th>3</th>\n",
       "      <td>4</td>\n",
       "      <td>Quixiposide</td>\n",
       "    </tr>\n",
       "    <tr>\n",
       "      <th>4</th>\n",
       "      <td>5</td>\n",
       "      <td>Cleotrana</td>\n",
       "    </tr>\n",
       "  </tbody>\n",
       "</table>\n",
       "</div>"
      ],
      "text/plain": [
       "   drug_id      drug_name\n",
       "0         1    Primalovir\n",
       "1         2  Olanzanafine\n",
       "2         3      Avafoxin\n",
       "3         4   Quixiposide\n",
       "4         5     Cleotrana"
      ]
     },
     "execution_count": 37,
     "metadata": {},
     "output_type": "execute_result"
    }
   ],
   "source": [
    "#point the path to where in your hard drive you have stored the file drugs.csv\n",
    "data = pd.read_csv(\"drugs.csv\")\n",
    "data.head()"
   ]
  },
  {
   "cell_type": "code",
   "execution_count": 38,
   "metadata": {},
   "outputs": [
    {
     "data": {
      "text/plain": [
       "drug_id       int64\n",
       "drug_name    object\n",
       "dtype: object"
      ]
     },
     "execution_count": 38,
     "metadata": {},
     "output_type": "execute_result"
    }
   ],
   "source": [
    "data.dtypes"
   ]
  },
  {
   "cell_type": "code",
   "execution_count": 39,
   "metadata": {},
   "outputs": [
    {
     "name": "stdout",
     "output_type": "stream",
     "text": [
      "Record inserted\n",
      "Record inserted\n",
      "Record inserted\n",
      "Record inserted\n",
      "Record inserted\n",
      "Record inserted\n",
      "Record inserted\n",
      "Record inserted\n",
      "Record inserted\n",
      "Record inserted\n"
     ]
    }
   ],
   "source": [
    "for i,row in data.iterrows():\n",
    "            sql = \"INSERT INTO drugs VALUES (%s,%s)\"\n",
    "            mycursor.execute(sql, tuple(row))\n",
    "            print(\"Record inserted\")\n",
    "            # the connection is not autocommitted by default, so we \n",
    "            # must commit to save our changes\n",
    "            mydb.commit()"
   ]
  },
  {
   "cell_type": "code",
   "execution_count": 40,
   "metadata": {},
   "outputs": [],
   "source": [
    "query = \"SELECT * FROM drugs\"\n",
    "mycursor.execute(query)"
   ]
  },
  {
   "cell_type": "code",
   "execution_count": 41,
   "metadata": {},
   "outputs": [
    {
     "name": "stdout",
     "output_type": "stream",
     "text": [
      "('9', 'Abnazole Toleluble')\n",
      "('3', 'Avafoxin')\n",
      "('5', 'Cleotrana')\n",
      "('10', 'Dantopex Quixilinum')\n",
      "('8', 'Divisporine Acetaclotide')\n",
      "('7', 'Glucozepam Amcipentin')\n",
      "('6', 'Kanulin')\n",
      "('2', 'Olanzanafine')\n",
      "('1', 'Primalovir')\n",
      "('4', 'Quixiposide')\n"
     ]
    }
   ],
   "source": [
    "for x in mycursor:\n",
    "    print(x)"
   ]
  },
  {
   "cell_type": "code",
   "execution_count": 42,
   "metadata": {},
   "outputs": [
    {
     "data": {
      "text/html": [
       "<div>\n",
       "<style scoped>\n",
       "    .dataframe tbody tr th:only-of-type {\n",
       "        vertical-align: middle;\n",
       "    }\n",
       "\n",
       "    .dataframe tbody tr th {\n",
       "        vertical-align: top;\n",
       "    }\n",
       "\n",
       "    .dataframe thead th {\n",
       "        text-align: right;\n",
       "    }\n",
       "</style>\n",
       "<table border=\"1\" class=\"dataframe\">\n",
       "  <thead>\n",
       "    <tr style=\"text-align: right;\">\n",
       "      <th></th>\n",
       "      <th>id</th>\n",
       "      <th>patient_id</th>\n",
       "      <th>physician_id</th>\n",
       "      <th>drug_name</th>\n",
       "      <th>date</th>\n",
       "      <th>quantity</th>\n",
       "    </tr>\n",
       "  </thead>\n",
       "  <tbody>\n",
       "    <tr>\n",
       "      <th>0</th>\n",
       "      <td>1</td>\n",
       "      <td>478-34-0781</td>\n",
       "      <td>614-57-6885</td>\n",
       "      <td>Avafoxin</td>\n",
       "      <td>3/11/2023</td>\n",
       "      <td>90</td>\n",
       "    </tr>\n",
       "    <tr>\n",
       "      <th>1</th>\n",
       "      <td>2</td>\n",
       "      <td>758-08-7274</td>\n",
       "      <td>118-66-5958</td>\n",
       "      <td>Cleotrana</td>\n",
       "      <td>3/12/2023</td>\n",
       "      <td>10</td>\n",
       "    </tr>\n",
       "    <tr>\n",
       "      <th>2</th>\n",
       "      <td>3</td>\n",
       "      <td>758-08-7274</td>\n",
       "      <td>118-66-5958</td>\n",
       "      <td>Primalovir</td>\n",
       "      <td>4/11/2023</td>\n",
       "      <td>20</td>\n",
       "    </tr>\n",
       "    <tr>\n",
       "      <th>3</th>\n",
       "      <td>4</td>\n",
       "      <td>758-08-7274</td>\n",
       "      <td>118-66-5958</td>\n",
       "      <td>Glucozepam Amcipentin</td>\n",
       "      <td>5/13/2023</td>\n",
       "      <td>12</td>\n",
       "    </tr>\n",
       "    <tr>\n",
       "      <th>4</th>\n",
       "      <td>5</td>\n",
       "      <td>303-13-5928</td>\n",
       "      <td>571-13-9020</td>\n",
       "      <td>Olanzanafine</td>\n",
       "      <td>5/24/2023</td>\n",
       "      <td>25</td>\n",
       "    </tr>\n",
       "  </tbody>\n",
       "</table>\n",
       "</div>"
      ],
      "text/plain": [
       "   id   patient_id   physician_id               drug_name        date  \\\n",
       "0    1  478-34-0781    614-57-6885               Avafoxin  3/11/2023    \n",
       "1    2  758-08-7274    118-66-5958              Cleotrana  3/12/2023    \n",
       "2    3  758-08-7274    118-66-5958             Primalovir  4/11/2023    \n",
       "3    4  758-08-7274    118-66-5958  Glucozepam Amcipentin  5/13/2023    \n",
       "4    5  303-13-5928    571-13-9020           Olanzanafine  5/24/2023    \n",
       "\n",
       "   quantity  \n",
       "0        90  \n",
       "1        10  \n",
       "2        20  \n",
       "3        12  \n",
       "4        25  "
      ]
     },
     "execution_count": 42,
     "metadata": {},
     "output_type": "execute_result"
    }
   ],
   "source": [
    "#point the path to where in your hard drive you have stored the file prescriptions.csv\n",
    "data = pd.read_csv(\"prescriptions.csv\")\n",
    "data.head()"
   ]
  },
  {
   "cell_type": "code",
   "execution_count": 43,
   "metadata": {},
   "outputs": [
    {
     "data": {
      "text/plain": [
       "id                int64\n",
       "patient_id       object\n",
       "physician_id     object\n",
       "drug_name        object\n",
       "date             object\n",
       "quantity          int64\n",
       "dtype: object"
      ]
     },
     "execution_count": 43,
     "metadata": {},
     "output_type": "execute_result"
    }
   ],
   "source": [
    "data.dtypes"
   ]
  },
  {
   "cell_type": "code",
   "execution_count": 44,
   "metadata": {},
   "outputs": [
    {
     "name": "stdout",
     "output_type": "stream",
     "text": [
      "Record inserted\n",
      "Record inserted\n",
      "Record inserted\n",
      "Record inserted\n",
      "Record inserted\n",
      "Record inserted\n",
      "Record inserted\n"
     ]
    },
    {
     "ename": "IntegrityError",
     "evalue": "1062 (23000): Duplicate entry '478-34-0781 -Avafoxin' for key 'prescriptions.patient_id'",
     "output_type": "error",
     "traceback": [
      "\u001b[0;31m---------------------------------------------------------------------------\u001b[0m",
      "\u001b[0;31mMySQLInterfaceError\u001b[0m                       Traceback (most recent call last)",
      "File \u001b[0;32m/opt/anaconda3/lib/python3.12/site-packages/mysql/connector/connection_cext.py:705\u001b[0m, in \u001b[0;36mCMySQLConnection.cmd_query\u001b[0;34m(self, query, raw, buffered, raw_as_string)\u001b[0m\n\u001b[1;32m    704\u001b[0m         query \u001b[38;5;241m=\u001b[39m query\u001b[38;5;241m.\u001b[39mencode(\u001b[38;5;124m\"\u001b[39m\u001b[38;5;124mutf-8\u001b[39m\u001b[38;5;124m\"\u001b[39m)\n\u001b[0;32m--> 705\u001b[0m     \u001b[38;5;28mself\u001b[39m\u001b[38;5;241m.\u001b[39m_cmysql\u001b[38;5;241m.\u001b[39mquery(\n\u001b[1;32m    706\u001b[0m         query,\n\u001b[1;32m    707\u001b[0m         raw\u001b[38;5;241m=\u001b[39mraw,\n\u001b[1;32m    708\u001b[0m         buffered\u001b[38;5;241m=\u001b[39mbuffered,\n\u001b[1;32m    709\u001b[0m         raw_as_string\u001b[38;5;241m=\u001b[39mraw_as_string,\n\u001b[1;32m    710\u001b[0m         query_attrs\u001b[38;5;241m=\u001b[39m\u001b[38;5;28mself\u001b[39m\u001b[38;5;241m.\u001b[39mquery_attrs,\n\u001b[1;32m    711\u001b[0m     )\n\u001b[1;32m    712\u001b[0m \u001b[38;5;28;01mexcept\u001b[39;00m MySQLInterfaceError \u001b[38;5;28;01mas\u001b[39;00m err:\n",
      "\u001b[0;31mMySQLInterfaceError\u001b[0m: Duplicate entry '478-34-0781 -Avafoxin' for key 'prescriptions.patient_id'",
      "\nThe above exception was the direct cause of the following exception:\n",
      "\u001b[0;31mIntegrityError\u001b[0m                            Traceback (most recent call last)",
      "Cell \u001b[0;32mIn[44], line 3\u001b[0m\n\u001b[1;32m      1\u001b[0m \u001b[38;5;28;01mfor\u001b[39;00m i,row \u001b[38;5;129;01min\u001b[39;00m data\u001b[38;5;241m.\u001b[39miterrows():\n\u001b[1;32m      2\u001b[0m             sql \u001b[38;5;241m=\u001b[39m \u001b[38;5;124m\"\u001b[39m\u001b[38;5;124mINSERT INTO prescriptions VALUES (\u001b[39m\u001b[38;5;132;01m%s\u001b[39;00m\u001b[38;5;124m,\u001b[39m\u001b[38;5;132;01m%s\u001b[39;00m\u001b[38;5;124m,\u001b[39m\u001b[38;5;132;01m%s\u001b[39;00m\u001b[38;5;124m,\u001b[39m\u001b[38;5;132;01m%s\u001b[39;00m\u001b[38;5;124m,\u001b[39m\u001b[38;5;132;01m%s\u001b[39;00m\u001b[38;5;124m,\u001b[39m\u001b[38;5;132;01m%s\u001b[39;00m\u001b[38;5;124m)\u001b[39m\u001b[38;5;124m\"\u001b[39m\n\u001b[0;32m----> 3\u001b[0m             mycursor\u001b[38;5;241m.\u001b[39mexecute(sql, \u001b[38;5;28mtuple\u001b[39m(row))\n\u001b[1;32m      4\u001b[0m             \u001b[38;5;28mprint\u001b[39m(\u001b[38;5;124m\"\u001b[39m\u001b[38;5;124mRecord inserted\u001b[39m\u001b[38;5;124m\"\u001b[39m)\n\u001b[1;32m      5\u001b[0m             \u001b[38;5;66;03m# the connection is not autocommitted by default, so we \u001b[39;00m\n\u001b[1;32m      6\u001b[0m             \u001b[38;5;66;03m# must commit to save our changes\u001b[39;00m\n",
      "File \u001b[0;32m/opt/anaconda3/lib/python3.12/site-packages/mysql/connector/cursor_cext.py:357\u001b[0m, in \u001b[0;36mCMySQLCursor.execute\u001b[0;34m(self, operation, params, multi)\u001b[0m\n\u001b[1;32m    352\u001b[0m             \u001b[38;5;28;01mraise\u001b[39;00m ProgrammingError(\n\u001b[1;32m    353\u001b[0m                 \u001b[38;5;124m\"\u001b[39m\u001b[38;5;124mNot all parameters were used in the SQL statement\u001b[39m\u001b[38;5;124m\"\u001b[39m\n\u001b[1;32m    354\u001b[0m             )\n\u001b[1;32m    356\u001b[0m \u001b[38;5;28;01mtry\u001b[39;00m:\n\u001b[0;32m--> 357\u001b[0m     result \u001b[38;5;241m=\u001b[39m \u001b[38;5;28mself\u001b[39m\u001b[38;5;241m.\u001b[39m_connection\u001b[38;5;241m.\u001b[39mcmd_query(\n\u001b[1;32m    358\u001b[0m         stmt,\n\u001b[1;32m    359\u001b[0m         raw\u001b[38;5;241m=\u001b[39m\u001b[38;5;28mself\u001b[39m\u001b[38;5;241m.\u001b[39m_raw,\n\u001b[1;32m    360\u001b[0m         buffered\u001b[38;5;241m=\u001b[39m\u001b[38;5;28mself\u001b[39m\u001b[38;5;241m.\u001b[39m_buffered,\n\u001b[1;32m    361\u001b[0m         raw_as_string\u001b[38;5;241m=\u001b[39m\u001b[38;5;28mself\u001b[39m\u001b[38;5;241m.\u001b[39m_raw_as_string,\n\u001b[1;32m    362\u001b[0m     )\n\u001b[1;32m    363\u001b[0m \u001b[38;5;28;01mexcept\u001b[39;00m MySQLInterfaceError \u001b[38;5;28;01mas\u001b[39;00m err:\n\u001b[1;32m    364\u001b[0m     \u001b[38;5;28;01mraise\u001b[39;00m get_mysql_exception(\n\u001b[1;32m    365\u001b[0m         msg\u001b[38;5;241m=\u001b[39merr\u001b[38;5;241m.\u001b[39mmsg, errno\u001b[38;5;241m=\u001b[39merr\u001b[38;5;241m.\u001b[39merrno, sqlstate\u001b[38;5;241m=\u001b[39merr\u001b[38;5;241m.\u001b[39msqlstate\n\u001b[1;32m    366\u001b[0m     ) \u001b[38;5;28;01mfrom\u001b[39;00m \u001b[38;5;21;01merr\u001b[39;00m\n",
      "File \u001b[0;32m/opt/anaconda3/lib/python3.12/site-packages/mysql/connector/opentelemetry/context_propagation.py:97\u001b[0m, in \u001b[0;36mwith_context_propagation.<locals>.wrapper\u001b[0;34m(cnx, *args, **kwargs)\u001b[0m\n\u001b[1;32m     95\u001b[0m \u001b[38;5;66;03m# pylint: disable=possibly-used-before-assignment\u001b[39;00m\n\u001b[1;32m     96\u001b[0m \u001b[38;5;28;01mif\u001b[39;00m \u001b[38;5;129;01mnot\u001b[39;00m OTEL_ENABLED \u001b[38;5;129;01mor\u001b[39;00m \u001b[38;5;129;01mnot\u001b[39;00m cnx\u001b[38;5;241m.\u001b[39motel_context_propagation:\n\u001b[0;32m---> 97\u001b[0m     \u001b[38;5;28;01mreturn\u001b[39;00m method(cnx, \u001b[38;5;241m*\u001b[39margs, \u001b[38;5;241m*\u001b[39m\u001b[38;5;241m*\u001b[39mkwargs)\n\u001b[1;32m     99\u001b[0m current_span \u001b[38;5;241m=\u001b[39m trace\u001b[38;5;241m.\u001b[39mget_current_span()\n\u001b[1;32m    100\u001b[0m tp_header \u001b[38;5;241m=\u001b[39m \u001b[38;5;28;01mNone\u001b[39;00m\n",
      "File \u001b[0;32m/opt/anaconda3/lib/python3.12/site-packages/mysql/connector/connection_cext.py:713\u001b[0m, in \u001b[0;36mCMySQLConnection.cmd_query\u001b[0;34m(self, query, raw, buffered, raw_as_string)\u001b[0m\n\u001b[1;32m    705\u001b[0m     \u001b[38;5;28mself\u001b[39m\u001b[38;5;241m.\u001b[39m_cmysql\u001b[38;5;241m.\u001b[39mquery(\n\u001b[1;32m    706\u001b[0m         query,\n\u001b[1;32m    707\u001b[0m         raw\u001b[38;5;241m=\u001b[39mraw,\n\u001b[0;32m   (...)\u001b[0m\n\u001b[1;32m    710\u001b[0m         query_attrs\u001b[38;5;241m=\u001b[39m\u001b[38;5;28mself\u001b[39m\u001b[38;5;241m.\u001b[39mquery_attrs,\n\u001b[1;32m    711\u001b[0m     )\n\u001b[1;32m    712\u001b[0m \u001b[38;5;28;01mexcept\u001b[39;00m MySQLInterfaceError \u001b[38;5;28;01mas\u001b[39;00m err:\n\u001b[0;32m--> 713\u001b[0m     \u001b[38;5;28;01mraise\u001b[39;00m get_mysql_exception(\n\u001b[1;32m    714\u001b[0m         err\u001b[38;5;241m.\u001b[39merrno, msg\u001b[38;5;241m=\u001b[39merr\u001b[38;5;241m.\u001b[39mmsg, sqlstate\u001b[38;5;241m=\u001b[39merr\u001b[38;5;241m.\u001b[39msqlstate\n\u001b[1;32m    715\u001b[0m     ) \u001b[38;5;28;01mfrom\u001b[39;00m \u001b[38;5;21;01merr\u001b[39;00m\n\u001b[1;32m    716\u001b[0m \u001b[38;5;28;01mexcept\u001b[39;00m \u001b[38;5;167;01mAttributeError\u001b[39;00m \u001b[38;5;28;01mas\u001b[39;00m err:\n\u001b[1;32m    717\u001b[0m     addr \u001b[38;5;241m=\u001b[39m (\n\u001b[1;32m    718\u001b[0m         \u001b[38;5;28mself\u001b[39m\u001b[38;5;241m.\u001b[39m_unix_socket \u001b[38;5;28;01mif\u001b[39;00m \u001b[38;5;28mself\u001b[39m\u001b[38;5;241m.\u001b[39m_unix_socket \u001b[38;5;28;01melse\u001b[39;00m \u001b[38;5;124mf\u001b[39m\u001b[38;5;124m\"\u001b[39m\u001b[38;5;132;01m{\u001b[39;00m\u001b[38;5;28mself\u001b[39m\u001b[38;5;241m.\u001b[39m_host\u001b[38;5;132;01m}\u001b[39;00m\u001b[38;5;124m:\u001b[39m\u001b[38;5;132;01m{\u001b[39;00m\u001b[38;5;28mself\u001b[39m\u001b[38;5;241m.\u001b[39m_port\u001b[38;5;132;01m}\u001b[39;00m\u001b[38;5;124m\"\u001b[39m\n\u001b[1;32m    719\u001b[0m     )\n",
      "\u001b[0;31mIntegrityError\u001b[0m: 1062 (23000): Duplicate entry '478-34-0781 -Avafoxin' for key 'prescriptions.patient_id'"
     ]
    }
   ],
   "source": [
    "for i,row in data.iterrows():\n",
    "            sql = \"INSERT INTO prescriptions VALUES (%s,%s,%s,%s,%s,%s)\"\n",
    "            mycursor.execute(sql, tuple(row))\n",
    "            print(\"Record inserted\")\n",
    "            # the connection is not autocommitted by default, so we \n",
    "            # must commit to save our changes\n",
    "            mydb.commit()"
   ]
  },
  {
   "cell_type": "code",
   "execution_count": 43,
   "metadata": {},
   "outputs": [],
   "source": [
    "query = \"SELECT * FROM prescriptions\"\n",
    "mycursor.execute(query)"
   ]
  },
  {
   "cell_type": "code",
   "execution_count": 44,
   "metadata": {},
   "outputs": [],
   "source": [
    "for x in mycursor:\n",
    "    print(x)"
   ]
  },
  {
   "cell_type": "code",
   "execution_count": 45,
   "metadata": {},
   "outputs": [
    {
     "data": {
      "text/html": [
       "<div>\n",
       "<style scoped>\n",
       "    .dataframe tbody tr th:only-of-type {\n",
       "        vertical-align: middle;\n",
       "    }\n",
       "\n",
       "    .dataframe tbody tr th {\n",
       "        vertical-align: top;\n",
       "    }\n",
       "\n",
       "    .dataframe thead th {\n",
       "        text-align: right;\n",
       "    }\n",
       "</style>\n",
       "<table border=\"1\" class=\"dataframe\">\n",
       "  <thead>\n",
       "    <tr style=\"text-align: right;\">\n",
       "      <th></th>\n",
       "      <th>id</th>\n",
       "      <th>patient_id</th>\n",
       "      <th>physician_id</th>\n",
       "      <th>drug_name</th>\n",
       "      <th>date</th>\n",
       "      <th>quantity</th>\n",
       "    </tr>\n",
       "  </thead>\n",
       "  <tbody>\n",
       "    <tr>\n",
       "      <th>0</th>\n",
       "      <td>1</td>\n",
       "      <td>478-34-0781</td>\n",
       "      <td>614-57-6885</td>\n",
       "      <td>Avafoxin</td>\n",
       "      <td>3/11/2023</td>\n",
       "      <td>90</td>\n",
       "    </tr>\n",
       "    <tr>\n",
       "      <th>1</th>\n",
       "      <td>2</td>\n",
       "      <td>758-08-7274</td>\n",
       "      <td>118-66-5958</td>\n",
       "      <td>Cleotrana</td>\n",
       "      <td>3/12/2023</td>\n",
       "      <td>10</td>\n",
       "    </tr>\n",
       "    <tr>\n",
       "      <th>2</th>\n",
       "      <td>3</td>\n",
       "      <td>758-08-7274</td>\n",
       "      <td>118-66-5958</td>\n",
       "      <td>Primalovir</td>\n",
       "      <td>4/11/2023</td>\n",
       "      <td>20</td>\n",
       "    </tr>\n",
       "    <tr>\n",
       "      <th>3</th>\n",
       "      <td>4</td>\n",
       "      <td>758-08-7274</td>\n",
       "      <td>118-66-5958</td>\n",
       "      <td>Glucozepam Amcipentin</td>\n",
       "      <td>5/13/2023</td>\n",
       "      <td>12</td>\n",
       "    </tr>\n",
       "    <tr>\n",
       "      <th>4</th>\n",
       "      <td>5</td>\n",
       "      <td>303-13-5928</td>\n",
       "      <td>571-13-9020</td>\n",
       "      <td>Olanzanafine</td>\n",
       "      <td>5/24/2023</td>\n",
       "      <td>25</td>\n",
       "    </tr>\n",
       "  </tbody>\n",
       "</table>\n",
       "</div>"
      ],
      "text/plain": [
       "   id   patient_id    physician_id   drug_name               date        \\\n",
       "0    1  478-34-0781   614-57-6885    Avafoxin                3/11/2023    \n",
       "1    2  758-08-7274   118-66-5958    Cleotrana               3/12/2023    \n",
       "2    3  758-08-7274   118-66-5958    Primalovir              4/11/2023    \n",
       "3    4  758-08-7274   118-66-5958    Glucozepam Amcipentin   5/13/2023    \n",
       "4    5  303-13-5928   571-13-9020    Olanzanafine            5/24/2023    \n",
       "\n",
       "   quantity  \n",
       "0        90  \n",
       "1        10  \n",
       "2        20  \n",
       "3        12  \n",
       "4        25  "
      ]
     },
     "execution_count": 45,
     "metadata": {},
     "output_type": "execute_result"
    }
   ],
   "source": [
    "#point the path to where in your hard drive you have stored the file prescriptions.csv\n",
    "data = pd.read_csv(\"prescriptions.csv\")\n",
    "data.head()"
   ]
  },
  {
   "cell_type": "code",
   "execution_count": 46,
   "metadata": {},
   "outputs": [
    {
     "data": {
      "text/html": [
       "<div>\n",
       "<style scoped>\n",
       "    .dataframe tbody tr th:only-of-type {\n",
       "        vertical-align: middle;\n",
       "    }\n",
       "\n",
       "    .dataframe tbody tr th {\n",
       "        vertical-align: top;\n",
       "    }\n",
       "\n",
       "    .dataframe thead th {\n",
       "        text-align: right;\n",
       "    }\n",
       "</style>\n",
       "<table border=\"1\" class=\"dataframe\">\n",
       "  <thead>\n",
       "    <tr style=\"text-align: right;\">\n",
       "      <th></th>\n",
       "      <th>drug_name_1</th>\n",
       "      <th>drug_name_2</th>\n",
       "    </tr>\n",
       "  </thead>\n",
       "  <tbody>\n",
       "    <tr>\n",
       "      <th>0</th>\n",
       "      <td>Cleotrana</td>\n",
       "      <td>Kanulin</td>\n",
       "    </tr>\n",
       "    <tr>\n",
       "      <th>1</th>\n",
       "      <td>Primalovir</td>\n",
       "      <td>Abnazole Toleluble</td>\n",
       "    </tr>\n",
       "    <tr>\n",
       "      <th>2</th>\n",
       "      <td>Primalovir</td>\n",
       "      <td>Olanzanafine</td>\n",
       "    </tr>\n",
       "    <tr>\n",
       "      <th>3</th>\n",
       "      <td>Olanzanafine</td>\n",
       "      <td>Glucozepam Amcipentin</td>\n",
       "    </tr>\n",
       "    <tr>\n",
       "      <th>4</th>\n",
       "      <td>Avafoxin</td>\n",
       "      <td>Kanulin</td>\n",
       "    </tr>\n",
       "  </tbody>\n",
       "</table>\n",
       "</div>"
      ],
      "text/plain": [
       "   drug_name_1              drug_name_2\n",
       "0  Cleotrana                    Kanulin\n",
       "1  Primalovir        Abnazole Toleluble\n",
       "2  Primalovir              Olanzanafine\n",
       "3  Olanzanafine   Glucozepam Amcipentin\n",
       "4  Avafoxin                     Kanulin"
      ]
     },
     "execution_count": 46,
     "metadata": {},
     "output_type": "execute_result"
    }
   ],
   "source": [
    "#point the path to where in your hard drive you have stored the file adverse_interactions.csv\n",
    "data = pd.read_csv(\"adverse_reactions.csv\")\n",
    "data.head()"
   ]
  },
  {
   "cell_type": "code",
   "execution_count": 47,
   "metadata": {},
   "outputs": [
    {
     "data": {
      "text/plain": [
       "drug_name_1      object\n",
       "drug_name_2      object\n",
       "dtype: object"
      ]
     },
     "execution_count": 47,
     "metadata": {},
     "output_type": "execute_result"
    }
   ],
   "source": [
    "data.dtypes"
   ]
  },
  {
   "cell_type": "code",
   "execution_count": null,
   "metadata": {},
   "outputs": [],
   "source": [
    "# for i,row in data.iterrows():\n",
    "#             sql = \"INSERT INTO adverse_interactions VALUES (%s,%s)\"\n",
    "#             mycursor.execute(sql, tuple(row))\n",
    "#             print(\"Record inserted\")\n",
    "#             # the connection is not autocommitted by default, so we \n",
    "#             # must commit to save our changes\n",
    "#             mydb.commit()"
   ]
  },
  {
   "cell_type": "code",
   "execution_count": 49,
   "metadata": {},
   "outputs": [],
   "source": [
    "# query = \"SELECT * FROM adverse_interactions\"\n",
    "# mycursor.execute(query)"
   ]
  },
  {
   "cell_type": "code",
   "execution_count": 50,
   "metadata": {},
   "outputs": [],
   "source": [
    "# for x in mycursor:\n",
    "#     print(x)"
   ]
  },
  {
   "cell_type": "code",
   "execution_count": 51,
   "metadata": {},
   "outputs": [
    {
     "data": {
      "text/html": [
       "<div>\n",
       "<style scoped>\n",
       "    .dataframe tbody tr th:only-of-type {\n",
       "        vertical-align: middle;\n",
       "    }\n",
       "\n",
       "    .dataframe tbody tr th {\n",
       "        vertical-align: top;\n",
       "    }\n",
       "\n",
       "    .dataframe thead th {\n",
       "        text-align: right;\n",
       "    }\n",
       "</style>\n",
       "<table border=\"1\" class=\"dataframe\">\n",
       "  <thead>\n",
       "    <tr style=\"text-align: right;\">\n",
       "      <th></th>\n",
       "      <th>pharmacy_id</th>\n",
       "      <th>prescription_id</th>\n",
       "      <th>date</th>\n",
       "      <th>cost</th>\n",
       "    </tr>\n",
       "  </thead>\n",
       "  <tbody>\n",
       "    <tr>\n",
       "      <th>0</th>\n",
       "      <td>1</td>\n",
       "      <td>3</td>\n",
       "      <td>3/15/2023</td>\n",
       "      <td>60.53</td>\n",
       "    </tr>\n",
       "    <tr>\n",
       "      <th>1</th>\n",
       "      <td>3</td>\n",
       "      <td>4</td>\n",
       "      <td>5/16/2023</td>\n",
       "      <td>41.50</td>\n",
       "    </tr>\n",
       "    <tr>\n",
       "      <th>2</th>\n",
       "      <td>1</td>\n",
       "      <td>2</td>\n",
       "      <td>3/12/2023</td>\n",
       "      <td>18.00</td>\n",
       "    </tr>\n",
       "    <tr>\n",
       "      <th>3</th>\n",
       "      <td>8</td>\n",
       "      <td>1</td>\n",
       "      <td>3/12/2023</td>\n",
       "      <td>46.53</td>\n",
       "    </tr>\n",
       "    <tr>\n",
       "      <th>4</th>\n",
       "      <td>10</td>\n",
       "      <td>5</td>\n",
       "      <td>5/26/2023</td>\n",
       "      <td>47.50</td>\n",
       "    </tr>\n",
       "  </tbody>\n",
       "</table>\n",
       "</div>"
      ],
      "text/plain": [
       "   pharmacy_id   prescription_id   date         cost\n",
       "0             1                 3  3/15/2023   60.53\n",
       "1             3                 4  5/16/2023   41.50\n",
       "2             1                 2  3/12/2023   18.00\n",
       "3             8                 1  3/12/2023   46.53\n",
       "4            10                 5  5/26/2023   47.50"
      ]
     },
     "execution_count": 51,
     "metadata": {},
     "output_type": "execute_result"
    }
   ],
   "source": [
    "#point the path to where in your hard drive you have stored the file pharmacy_fills.csv\n",
    "data = pd.read_csv(\"pharmacy_fills.csv\")\n",
    "data.head()"
   ]
  },
  {
   "cell_type": "code",
   "execution_count": 52,
   "metadata": {},
   "outputs": [
    {
     "data": {
      "text/plain": [
       "pharmacy_id           int64\n",
       "prescription_id       int64\n",
       "date                 object\n",
       "cost                float64\n",
       "dtype: object"
      ]
     },
     "execution_count": 52,
     "metadata": {},
     "output_type": "execute_result"
    }
   ],
   "source": [
    "data.dtypes"
   ]
  },
  {
   "cell_type": "code",
   "execution_count": 53,
   "metadata": {},
   "outputs": [],
   "source": [
    "# for i,row in data.iterrows():\n",
    "#             sql = \"INSERT INTO pharmacy_fills VALUES (%s,%s,%s,%s)\"\n",
    "#             mycursor.execute(sql, tuple(row))\n",
    "#             print(\"Record inserted\")\n",
    "#             # the connection is not autocommitted by default, so we \n",
    "#             # must commit to save our changes\n",
    "#             mydb.commit()"
   ]
  },
  {
   "cell_type": "code",
   "execution_count": 54,
   "metadata": {},
   "outputs": [],
   "source": [
    "# query = \"SELECT * FROM pharmacy_fills\"\n",
    "# mycursor.execute(query)"
   ]
  },
  {
   "cell_type": "code",
   "execution_count": 55,
   "metadata": {},
   "outputs": [],
   "source": [
    "# for x in mycursor:\n",
    "#     print(x)"
   ]
  },
  {
   "cell_type": "code",
   "execution_count": 56,
   "metadata": {},
   "outputs": [
    {
     "data": {
      "text/html": [
       "<div>\n",
       "<style scoped>\n",
       "    .dataframe tbody tr th:only-of-type {\n",
       "        vertical-align: middle;\n",
       "    }\n",
       "\n",
       "    .dataframe tbody tr th {\n",
       "        vertical-align: top;\n",
       "    }\n",
       "\n",
       "    .dataframe thead th {\n",
       "        text-align: right;\n",
       "    }\n",
       "</style>\n",
       "<table border=\"1\" class=\"dataframe\">\n",
       "  <thead>\n",
       "    <tr style=\"text-align: right;\">\n",
       "      <th></th>\n",
       "      <th>id</th>\n",
       "      <th>name</th>\n",
       "      <th>address</th>\n",
       "      <th>contact_phone</th>\n",
       "      <th>contact_name</th>\n",
       "    </tr>\n",
       "  </thead>\n",
       "  <tbody>\n",
       "    <tr>\n",
       "      <th>0</th>\n",
       "      <td>1</td>\n",
       "      <td>Goodrx</td>\n",
       "      <td>123 Main St, San Francisco, CA</td>\n",
       "      <td>123-456-7890</td>\n",
       "      <td>Holly Jolly</td>\n",
       "    </tr>\n",
       "    <tr>\n",
       "      <th>1</th>\n",
       "      <td>2</td>\n",
       "      <td>PHARMASEE</td>\n",
       "      <td>456 Elm St, New York, NY</td>\n",
       "      <td>234-567-8901</td>\n",
       "      <td>Faker Maker</td>\n",
       "    </tr>\n",
       "    <tr>\n",
       "      <th>2</th>\n",
       "      <td>3</td>\n",
       "      <td>DRUGXO</td>\n",
       "      <td>789 Maple St, Los Angeles, CA</td>\n",
       "      <td>345-678-9012</td>\n",
       "      <td>Silly Putty</td>\n",
       "    </tr>\n",
       "    <tr>\n",
       "      <th>3</th>\n",
       "      <td>4</td>\n",
       "      <td>Pharmachoice</td>\n",
       "      <td>101 Pine St, Chicago, IL</td>\n",
       "      <td>456-789-0123</td>\n",
       "      <td>Connie Honey</td>\n",
       "    </tr>\n",
       "    <tr>\n",
       "      <th>4</th>\n",
       "      <td>5</td>\n",
       "      <td>Castox</td>\n",
       "      <td>234 Oak St, Houston, TX</td>\n",
       "      <td>567-890-1234</td>\n",
       "      <td>Laxmi Kant Sheth</td>\n",
       "    </tr>\n",
       "  </tbody>\n",
       "</table>\n",
       "</div>"
      ],
      "text/plain": [
       "   id   name          address                            contact_phone   \\\n",
       "0    1  Goodrx          123 Main St, San Francisco, CA   123-456-7890     \n",
       "1    2  PHARMASEE       456 Elm St, New York, NY         234-567-8901     \n",
       "2    3  DRUGXO          789 Maple St, Los Angeles, CA    345-678-9012     \n",
       "3    4  Pharmachoice    101 Pine St, Chicago, IL         456-789-0123     \n",
       "4    5  Castox          234 Oak St, Houston, TX          567-890-1234     \n",
       "\n",
       "       contact_name  \n",
       "0       Holly Jolly  \n",
       "1       Faker Maker  \n",
       "2       Silly Putty  \n",
       "3      Connie Honey  \n",
       "4  Laxmi Kant Sheth  "
      ]
     },
     "execution_count": 56,
     "metadata": {},
     "output_type": "execute_result"
    }
   ],
   "source": [
    "#point the path to where in your hard drive you have stored the file companies.csv\n",
    "data = pd.read_csv(\"companies.csv\")\n",
    "data.head()"
   ]
  },
  {
   "cell_type": "code",
   "execution_count": 57,
   "metadata": {},
   "outputs": [
    {
     "data": {
      "text/plain": [
       "id                                    int64\n",
       "name                                 object\n",
       "address                              object\n",
       "contact_phone                        object\n",
       "contact_name                         object\n",
       "dtype: object"
      ]
     },
     "execution_count": 57,
     "metadata": {},
     "output_type": "execute_result"
    }
   ],
   "source": [
    "data.dtypes"
   ]
  },
  {
   "cell_type": "code",
   "execution_count": 58,
   "metadata": {},
   "outputs": [
    {
     "name": "stdout",
     "output_type": "stream",
     "text": [
      "Record inserted\n",
      "Record inserted\n",
      "Record inserted\n",
      "Record inserted\n",
      "Record inserted\n",
      "Record inserted\n",
      "Record inserted\n",
      "Record inserted\n",
      "Record inserted\n",
      "Record inserted\n"
     ]
    }
   ],
   "source": [
    "for i,row in data.iterrows():\n",
    "            sql = \"INSERT INTO companies VALUES (%s,%s,%s,%s,%s)\"\n",
    "            mycursor.execute(sql, tuple(row))\n",
    "            print(\"Record inserted\")\n",
    "            # the connection is not autocommitted by default, so we \n",
    "            # must commit to save our changes\n",
    "            mydb.commit()"
   ]
  },
  {
   "cell_type": "code",
   "execution_count": 59,
   "metadata": {},
   "outputs": [],
   "source": [
    "query = \"SELECT * FROM companies\"\n",
    "mycursor.execute(query)"
   ]
  },
  {
   "cell_type": "code",
   "execution_count": 60,
   "metadata": {},
   "outputs": [
    {
     "name": "stdout",
     "output_type": "stream",
     "text": [
      "(1, 'Goodrx       ', '123 Main St, San Francisco, CA ', '123-456-7890  ', 'Holly Jolly')\n",
      "(2, 'PHARMASEE    ', '456 Elm St, New York, NY       ', '234-567-8901  ', 'Faker Maker')\n",
      "(3, 'DRUGXO       ', '789 Maple St, Los Angeles, CA  ', '345-678-9012  ', 'Silly Putty')\n",
      "(4, 'Pharmachoice ', '101 Pine St, Chicago, IL       ', '456-789-0123  ', 'Connie Honey')\n",
      "(5, 'Castox       ', '234 Oak St, Houston, TX        ', '567-890-1234  ', 'Laxmi Kant Sheth')\n",
      "(6, 'Doktera      ', '567 Cedar St, Philadelphia, PA ', '678-901-2345  ', 'I.P. Green')\n",
      "(7, 'Lipdrugz     ', '890 Birch St, Phoenix, AZ      ', '789-012-3456  ', 'Boris Kotchakoff')\n",
      "(8, 'Nurfarma     ', '123 Fir St, San Antonio, TX    ', '890-123-4567  ', 'Wu Liu')\n",
      "(9, 'Munimed      ', '456 Redwood St, San Diego, CA  ', '901-234-5678  ', 'Kim Park')\n",
      "(10, 'Arkmed       ', '789 Sequoia St, Dallas, TX     ', '012-345-6789  ', 'James Bond')\n"
     ]
    }
   ],
   "source": [
    "for x in mycursor:\n",
    "    print(x)"
   ]
  },
  {
   "cell_type": "code",
   "execution_count": 61,
   "metadata": {},
   "outputs": [
    {
     "data": {
      "text/html": [
       "<div>\n",
       "<style scoped>\n",
       "    .dataframe tbody tr th:only-of-type {\n",
       "        vertical-align: middle;\n",
       "    }\n",
       "\n",
       "    .dataframe tbody tr th {\n",
       "        vertical-align: top;\n",
       "    }\n",
       "\n",
       "    .dataframe thead th {\n",
       "        text-align: right;\n",
       "    }\n",
       "</style>\n",
       "<table border=\"1\" class=\"dataframe\">\n",
       "  <thead>\n",
       "    <tr style=\"text-align: right;\">\n",
       "      <th></th>\n",
       "      <th>Contract_Id</th>\n",
       "      <th>drug</th>\n",
       "      <th>dosage</th>\n",
       "      <th>pharmacy_id</th>\n",
       "      <th>pharm_company_id</th>\n",
       "      <th>quantity</th>\n",
       "      <th>date</th>\n",
       "      <th>price</th>\n",
       "    </tr>\n",
       "  </thead>\n",
       "  <tbody>\n",
       "    <tr>\n",
       "      <th>0</th>\n",
       "      <td>1</td>\n",
       "      <td>Cleotrana</td>\n",
       "      <td>50</td>\n",
       "      <td>5</td>\n",
       "      <td>10</td>\n",
       "      <td>40</td>\n",
       "      <td>10/3/2023</td>\n",
       "      <td>100.0</td>\n",
       "    </tr>\n",
       "    <tr>\n",
       "      <th>1</th>\n",
       "      <td>2</td>\n",
       "      <td>Primalovir</td>\n",
       "      <td>500</td>\n",
       "      <td>5</td>\n",
       "      <td>10</td>\n",
       "      <td>20</td>\n",
       "      <td>9/26/2023</td>\n",
       "      <td>40.5</td>\n",
       "    </tr>\n",
       "    <tr>\n",
       "      <th>2</th>\n",
       "      <td>3</td>\n",
       "      <td>Kanulin</td>\n",
       "      <td>1000</td>\n",
       "      <td>4</td>\n",
       "      <td>9</td>\n",
       "      <td>20</td>\n",
       "      <td>9/20/2023</td>\n",
       "      <td>10.5</td>\n",
       "    </tr>\n",
       "    <tr>\n",
       "      <th>3</th>\n",
       "      <td>4</td>\n",
       "      <td>Olanzanafine</td>\n",
       "      <td>50</td>\n",
       "      <td>6</td>\n",
       "      <td>3</td>\n",
       "      <td>80</td>\n",
       "      <td>9/24/2023</td>\n",
       "      <td>150.0</td>\n",
       "    </tr>\n",
       "    <tr>\n",
       "      <th>4</th>\n",
       "      <td>5</td>\n",
       "      <td>Avafoxin</td>\n",
       "      <td>5</td>\n",
       "      <td>15</td>\n",
       "      <td>5</td>\n",
       "      <td>30</td>\n",
       "      <td>9/29/2023</td>\n",
       "      <td>18.0</td>\n",
       "    </tr>\n",
       "  </tbody>\n",
       "</table>\n",
       "</div>"
      ],
      "text/plain": [
       "   Contract_Id   drug                       dosage   pharmacy_id   \\\n",
       "0             1  Cleotrana                       50             5   \n",
       "1             2  Primalovir                     500             5   \n",
       "2             3  Kanulin                       1000             4   \n",
       "3             4  Olanzanafine                    50             6   \n",
       "4             5  Avafoxin                         5            15   \n",
       "\n",
       "   pharm_company_id   quantity   date        price  \n",
       "0                 10         40  10/3/2023   100.0  \n",
       "1                 10         20  9/26/2023    40.5  \n",
       "2                  9         20  9/20/2023    10.5  \n",
       "3                  3         80  9/24/2023   150.0  \n",
       "4                  5         30  9/29/2023    18.0  "
      ]
     },
     "execution_count": 61,
     "metadata": {},
     "output_type": "execute_result"
    }
   ],
   "source": [
    "#point the path to where in your hard drive you have stored the file contracts.csv\n",
    "data = pd.read_csv(\"contracts.csv\")\n",
    "data.head()"
   ]
  },
  {
   "cell_type": "code",
   "execution_count": 62,
   "metadata": {},
   "outputs": [
    {
     "data": {
      "text/plain": [
       "Contract_Id                    int64\n",
       "drug                          object\n",
       "dosage                         int64\n",
       "pharmacy_id                    int64\n",
       "pharm_company_id               int64\n",
       "quantity                       int64\n",
       "date                          object\n",
       "price                        float64\n",
       "dtype: object"
      ]
     },
     "execution_count": 62,
     "metadata": {},
     "output_type": "execute_result"
    }
   ],
   "source": [
    "data.dtypes"
   ]
  },
  {
   "cell_type": "code",
   "execution_count": 63,
   "metadata": {},
   "outputs": [
    {
     "ename": "ProgrammingError",
     "evalue": "Not all parameters were used in the SQL statement",
     "output_type": "error",
     "traceback": [
      "\u001b[0;31m---------------------------------------------------------------------------\u001b[0m",
      "\u001b[0;31mProgrammingError\u001b[0m                          Traceback (most recent call last)",
      "Cell \u001b[0;32mIn[63], line 3\u001b[0m\n\u001b[1;32m      1\u001b[0m \u001b[38;5;28;01mfor\u001b[39;00m i,row \u001b[38;5;129;01min\u001b[39;00m data\u001b[38;5;241m.\u001b[39miterrows():\n\u001b[1;32m      2\u001b[0m             sql \u001b[38;5;241m=\u001b[39m \u001b[38;5;124m\"\u001b[39m\u001b[38;5;124mINSERT INTO contracts VALUES (\u001b[39m\u001b[38;5;132;01m%s\u001b[39;00m\u001b[38;5;124m,\u001b[39m\u001b[38;5;132;01m%s\u001b[39;00m\u001b[38;5;124m,\u001b[39m\u001b[38;5;132;01m%s\u001b[39;00m\u001b[38;5;124m,\u001b[39m\u001b[38;5;132;01m%s\u001b[39;00m\u001b[38;5;124m,\u001b[39m\u001b[38;5;132;01m%s\u001b[39;00m\u001b[38;5;124m,\u001b[39m\u001b[38;5;132;01m%s\u001b[39;00m\u001b[38;5;124m,\u001b[39m\u001b[38;5;132;01m%s\u001b[39;00m\u001b[38;5;124m)\u001b[39m\u001b[38;5;124m\"\u001b[39m\n\u001b[0;32m----> 3\u001b[0m             mycursor\u001b[38;5;241m.\u001b[39mexecute(sql, \u001b[38;5;28mtuple\u001b[39m(row))\n\u001b[1;32m      4\u001b[0m             \u001b[38;5;28mprint\u001b[39m(\u001b[38;5;124m\"\u001b[39m\u001b[38;5;124mRecord inserted\u001b[39m\u001b[38;5;124m\"\u001b[39m)\n\u001b[1;32m      5\u001b[0m             \u001b[38;5;66;03m# the connection is not autocommitted by default, so we \u001b[39;00m\n\u001b[1;32m      6\u001b[0m             \u001b[38;5;66;03m# must commit to save our changes\u001b[39;00m\n",
      "File \u001b[0;32m/opt/anaconda3/lib/python3.12/site-packages/mysql/connector/cursor_cext.py:352\u001b[0m, in \u001b[0;36mCMySQLCursor.execute\u001b[0;34m(self, operation, params, multi)\u001b[0m\n\u001b[1;32m    350\u001b[0m         stmt \u001b[38;5;241m=\u001b[39m RE_PY_PARAM\u001b[38;5;241m.\u001b[39msub(psub, stmt)\n\u001b[1;32m    351\u001b[0m         \u001b[38;5;28;01mif\u001b[39;00m psub\u001b[38;5;241m.\u001b[39mremaining \u001b[38;5;241m!=\u001b[39m \u001b[38;5;241m0\u001b[39m:\n\u001b[0;32m--> 352\u001b[0m             \u001b[38;5;28;01mraise\u001b[39;00m ProgrammingError(\n\u001b[1;32m    353\u001b[0m                 \u001b[38;5;124m\"\u001b[39m\u001b[38;5;124mNot all parameters were used in the SQL statement\u001b[39m\u001b[38;5;124m\"\u001b[39m\n\u001b[1;32m    354\u001b[0m             )\n\u001b[1;32m    356\u001b[0m \u001b[38;5;28;01mtry\u001b[39;00m:\n\u001b[1;32m    357\u001b[0m     result \u001b[38;5;241m=\u001b[39m \u001b[38;5;28mself\u001b[39m\u001b[38;5;241m.\u001b[39m_connection\u001b[38;5;241m.\u001b[39mcmd_query(\n\u001b[1;32m    358\u001b[0m         stmt,\n\u001b[1;32m    359\u001b[0m         raw\u001b[38;5;241m=\u001b[39m\u001b[38;5;28mself\u001b[39m\u001b[38;5;241m.\u001b[39m_raw,\n\u001b[1;32m    360\u001b[0m         buffered\u001b[38;5;241m=\u001b[39m\u001b[38;5;28mself\u001b[39m\u001b[38;5;241m.\u001b[39m_buffered,\n\u001b[1;32m    361\u001b[0m         raw_as_string\u001b[38;5;241m=\u001b[39m\u001b[38;5;28mself\u001b[39m\u001b[38;5;241m.\u001b[39m_raw_as_string,\n\u001b[1;32m    362\u001b[0m     )\n",
      "\u001b[0;31mProgrammingError\u001b[0m: Not all parameters were used in the SQL statement"
     ]
    }
   ],
   "source": [
    "for i,row in data.iterrows():\n",
    "            sql = \"INSERT INTO contracts VALUES (%s,%s,%s,%s,%s,%s,%s)\"\n",
    "            mycursor.execute(sql, tuple(row))\n",
    "            print(\"Record inserted\")\n",
    "            # the connection is not autocommitted by default, so we \n",
    "            # must commit to save our changes\n",
    "            mydb.commit()"
   ]
  },
  {
   "cell_type": "code",
   "execution_count": null,
   "metadata": {},
   "outputs": [],
   "source": [
    "query = \"SELECT * FROM contracts\"\n",
    "mycursor.execute(query)"
   ]
  },
  {
   "cell_type": "code",
   "execution_count": null,
   "metadata": {},
   "outputs": [],
   "source": [
    "for x in mycursor:\n",
    "    print(x)"
   ]
  }
 ],
 "metadata": {
  "kernelspec": {
   "display_name": "base",
   "language": "python",
   "name": "python3"
  },
  "language_info": {
   "codemirror_mode": {
    "name": "ipython",
    "version": 3
   },
   "file_extension": ".py",
   "mimetype": "text/x-python",
   "name": "python",
   "nbconvert_exporter": "python",
   "pygments_lexer": "ipython3",
   "version": "3.12.5"
  }
 },
 "nbformat": 4,
 "nbformat_minor": 2
}
